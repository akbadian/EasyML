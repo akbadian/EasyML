{
 "cells": [
  {
   "cell_type": "markdown",
   "id": "a16816df",
   "metadata": {},
   "source": [
    "***"
   ]
  },
  {
   "cell_type": "markdown",
   "id": "53622eeb",
   "metadata": {},
   "source": [
    "## Upper Confidence Bound"
   ]
  },
  {
   "cell_type": "markdown",
   "id": "6a88cad6",
   "metadata": {},
   "source": [
    "***"
   ]
  },
  {
   "cell_type": "markdown",
   "id": "c58dfdeb",
   "metadata": {},
   "source": [
    "### Data Comprehension"
   ]
  },
  {
   "cell_type": "markdown",
   "id": "93a5effd",
   "metadata": {},
   "source": [
    "Suppose here, we've a list of differents retailers with there sales score. We want to choose retailers that make good bid and this is done according to their scores. This kind of problem is listed as K-armed bandit problem. And for solving it some of the algorithms which belong to the Reinforcement Learning Class. This class is known to be used to solve problem where exists the needs to maximise our reward from differents choices. <br>\n",
    "A retailer with a score above 5 is considerated as a good dealer.<br>\n",
    "In contrast, a retailer with score lesser than 5 is considerated as a bad dealer.<br>\n",
    "So here, our job is to analyse data and find which retailers are the good dealer. Therefore the UCB algorithm seems to be good for doing this work. <br> \n",
    "There is also another algorithm called \"Thompson Sampling Algorithm\" which is suitable too for this job. "
   ]
  },
  {
   "cell_type": "markdown",
   "id": "f4bab9bd",
   "metadata": {},
   "source": [
    "### Data Preprocessing"
   ]
  },
  {
   "cell_type": "markdown",
   "id": "568e8abc",
   "metadata": {},
   "source": [
    "#### Importing libraries and datasets"
   ]
  },
  {
   "cell_type": "code",
   "execution_count": 1,
   "id": "9623a9b1",
   "metadata": {},
   "outputs": [],
   "source": [
    "import pandas as pd \n",
    "import numpy as np\n",
    "import matplotlib.pyplot as plt\n",
    "import math"
   ]
  },
  {
   "cell_type": "code",
   "execution_count": 25,
   "id": "76294de4",
   "metadata": {},
   "outputs": [
    {
     "data": {
      "text/html": [
       "<div>\n",
       "<style scoped>\n",
       "    .dataframe tbody tr th:only-of-type {\n",
       "        vertical-align: middle;\n",
       "    }\n",
       "\n",
       "    .dataframe tbody tr th {\n",
       "        vertical-align: top;\n",
       "    }\n",
       "\n",
       "    .dataframe thead th {\n",
       "        text-align: right;\n",
       "    }\n",
       "</style>\n",
       "<table border=\"1\" class=\"dataframe\">\n",
       "  <thead>\n",
       "    <tr style=\"text-align: right;\">\n",
       "      <th></th>\n",
       "      <th>Retailer01</th>\n",
       "      <th>Retailer02</th>\n",
       "      <th>Retailer03</th>\n",
       "      <th>Retailer04</th>\n",
       "      <th>Retailer05</th>\n",
       "      <th>Retailer06</th>\n",
       "      <th>Retailer07</th>\n",
       "      <th>Retailer08</th>\n",
       "    </tr>\n",
       "  </thead>\n",
       "  <tbody>\n",
       "    <tr>\n",
       "      <th>0</th>\n",
       "      <td>3</td>\n",
       "      <td>6</td>\n",
       "      <td>1</td>\n",
       "      <td>6</td>\n",
       "      <td>7</td>\n",
       "      <td>6</td>\n",
       "      <td>1</td>\n",
       "      <td>4</td>\n",
       "    </tr>\n",
       "    <tr>\n",
       "      <th>1</th>\n",
       "      <td>6</td>\n",
       "      <td>5</td>\n",
       "      <td>6</td>\n",
       "      <td>10</td>\n",
       "      <td>7</td>\n",
       "      <td>5</td>\n",
       "      <td>1</td>\n",
       "      <td>1</td>\n",
       "    </tr>\n",
       "    <tr>\n",
       "      <th>2</th>\n",
       "      <td>3</td>\n",
       "      <td>4</td>\n",
       "      <td>8</td>\n",
       "      <td>4</td>\n",
       "      <td>5</td>\n",
       "      <td>7</td>\n",
       "      <td>4</td>\n",
       "      <td>1</td>\n",
       "    </tr>\n",
       "    <tr>\n",
       "      <th>3</th>\n",
       "      <td>8</td>\n",
       "      <td>10</td>\n",
       "      <td>5</td>\n",
       "      <td>4</td>\n",
       "      <td>5</td>\n",
       "      <td>9</td>\n",
       "      <td>6</td>\n",
       "      <td>4</td>\n",
       "    </tr>\n",
       "    <tr>\n",
       "      <th>4</th>\n",
       "      <td>1</td>\n",
       "      <td>4</td>\n",
       "      <td>9</td>\n",
       "      <td>9</td>\n",
       "      <td>9</td>\n",
       "      <td>6</td>\n",
       "      <td>7</td>\n",
       "      <td>4</td>\n",
       "    </tr>\n",
       "  </tbody>\n",
       "</table>\n",
       "</div>"
      ],
      "text/plain": [
       "   Retailer01  Retailer02  Retailer03  Retailer04  Retailer05  Retailer06  \\\n",
       "0           3           6           1           6           7           6   \n",
       "1           6           5           6          10           7           5   \n",
       "2           3           4           8           4           5           7   \n",
       "3           8          10           5           4           5           9   \n",
       "4           1           4           9           9           9           6   \n",
       "\n",
       "   Retailer07  Retailer08  \n",
       "0           1           4  \n",
       "1           1           1  \n",
       "2           4           1  \n",
       "3           6           4  \n",
       "4           7           4  "
      ]
     },
     "execution_count": 25,
     "metadata": {},
     "output_type": "execute_result"
    }
   ],
   "source": [
    "df = pd.read_csv(\"C:/Users/HP Elitebook/OneDrive/Bureau/data.csv\")\n",
    "df.head()"
   ]
  },
  {
   "cell_type": "markdown",
   "id": "9b6910a3",
   "metadata": {},
   "source": [
    "#### Checking unique values"
   ]
  },
  {
   "cell_type": "code",
   "execution_count": 26,
   "id": "22df6a63",
   "metadata": {},
   "outputs": [
    {
     "data": {
      "text/plain": [
       "array([ 1,  2,  3,  4,  5,  6,  7,  8,  9, 10], dtype=int64)"
      ]
     },
     "execution_count": 26,
     "metadata": {},
     "output_type": "execute_result"
    }
   ],
   "source": [
    "np.unique(df)"
   ]
  },
  {
   "cell_type": "markdown",
   "id": "4d6194ca",
   "metadata": {},
   "source": [
    "#### Binary encoding"
   ]
  },
  {
   "cell_type": "code",
   "execution_count": 27,
   "id": "db80f67a",
   "metadata": {},
   "outputs": [
    {
     "data": {
      "text/plain": [
       "array([0, 1])"
      ]
     },
     "execution_count": 27,
     "metadata": {},
     "output_type": "execute_result"
    }
   ],
   "source": [
    "df = (df > 5).astype(int)\n",
    "np.unique(df)"
   ]
  },
  {
   "cell_type": "markdown",
   "id": "a3f74fe1",
   "metadata": {},
   "source": [
    "### UCB implementation"
   ]
  },
  {
   "cell_type": "code",
   "execution_count": 38,
   "id": "80fee53f",
   "metadata": {},
   "outputs": [],
   "source": [
    "N = len(df)\n",
    "d = 8\n",
    "retailers = []\n",
    "numbers_of_choices = [0] * d\n",
    "sums_of_rewards = [0] * d\n",
    "total_rewards =0\n",
    "for n in range(0, N):\n",
    "    retailer = 0\n",
    "    max_upper_bound = 0\n",
    "    for i in range(0, d):\n",
    "        if (numbers_of_choices[i] > 0):\n",
    "            average_reward = sums_of_rewards[i] / numbers_of_choices[i]\n",
    "            delta_i = math.sqrt(3/2 * np.log(n + 1) / numbers_of_choices[i])\n",
    "            upper_bound = average_reward + delta_i\n",
    "        else:\n",
    "            upper_bound = 1e1000\n",
    "        if (upper_bound > max_upper_bound):\n",
    "            max_upper_bound = upper_bound\n",
    "            retailer = i\n",
    "    retailers.append(retailer)\n",
    "    numbers_of_choices[retailer] = numbers_of_choices[retailer] + 1\n",
    "    sums_of_rewards[retailer] = sums_of_rewards[retailer] + df.values[n, retailer]\n",
    "    total_rewards = total_rewards + df.values[n, retailer]"
   ]
  },
  {
   "cell_type": "markdown",
   "id": "166bf56b",
   "metadata": {},
   "source": [
    "### Visualization"
   ]
  },
  {
   "cell_type": "code",
   "execution_count": 48,
   "id": "34aac610",
   "metadata": {},
   "outputs": [
    {
     "data": {
      "image/png": "[encoded data removed]",
      "text/plain": [
       "<Figure size 432x288 with 1 Axes>"
      ]
     },
     "metadata": {
      "needs_background": "light"
     },
     "output_type": "display_data"
    }
   ],
   "source": [
    "plt.hist(retailers, histtype = 'barstacked')\n",
    "plt.xlabel('Retailers')\n",
    "plt.ylabel('Numbers of times')\n",
    "plt.show()"
   ]
  },
  {
   "cell_type": "code",
   "execution_count": 45,
   "id": "8c7f0dac",
   "metadata": {},
   "outputs": [],
   "source": [
    "plt.hist?"
   ]
  }
 ],
 "metadata": {
  "kernelspec": {
   "display_name": "Python 3 (ipykernel)",
   "language": "python",
   "name": "python3"
  },
  "language_info": {
   "codemirror_mode": {
    "name": "ipython",
    "version": 3
   },
   "file_extension": ".py",
   "mimetype": "text/x-python",
   "name": "python",
   "nbconvert_exporter": "python",
   "pygments_lexer": "ipython3",
   "version": "3.9.13"
  }
 },
 "nbformat": 4,
 "nbformat_minor": 5
}

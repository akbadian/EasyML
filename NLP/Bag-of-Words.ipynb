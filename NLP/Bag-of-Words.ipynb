{
 "cells": [
  {
   "cell_type": "markdown",
   "id": "048f7290",
   "metadata": {},
   "source": [
    "***"
   ]
  },
  {
   "cell_type": "markdown",
   "id": "75795d3a",
   "metadata": {},
   "source": [
    "## Natural Language Processing"
   ]
  },
  {
   "cell_type": "markdown",
   "id": "6dbdf0fe",
   "metadata": {},
   "source": [
    "***"
   ]
  },
  {
   "cell_type": "markdown",
   "id": "c00ec885",
   "metadata": {},
   "source": [
    "### Data Preprocessing"
   ]
  },
  {
   "cell_type": "markdown",
   "id": "efaf89dd",
   "metadata": {},
   "source": [
    "#### Importing libraries"
   ]
  },
  {
   "cell_type": "code",
   "execution_count": 1,
   "id": "331993a5",
   "metadata": {},
   "outputs": [],
   "source": [
    "import pandas as pd \n",
    "import numpy as np \n",
    "import matplotlib.pyplot as plt"
   ]
  },
  {
   "cell_type": "markdown",
   "id": "a68c07d3",
   "metadata": {},
   "source": [
    "#### Importing dataset"
   ]
  },
  {
   "cell_type": "code",
   "execution_count": 2,
   "id": "be622844",
   "metadata": {},
   "outputs": [
    {
     "data": {
      "text/html": [
       "<div>\n",
       "<style scoped>\n",
       "    .dataframe tbody tr th:only-of-type {\n",
       "        vertical-align: middle;\n",
       "    }\n",
       "\n",
       "    .dataframe tbody tr th {\n",
       "        vertical-align: top;\n",
       "    }\n",
       "\n",
       "    .dataframe thead th {\n",
       "        text-align: right;\n",
       "    }\n",
       "</style>\n",
       "<table border=\"1\" class=\"dataframe\">\n",
       "  <thead>\n",
       "    <tr style=\"text-align: right;\">\n",
       "      <th></th>\n",
       "      <th>Review</th>\n",
       "      <th>Liked</th>\n",
       "    </tr>\n",
       "  </thead>\n",
       "  <tbody>\n",
       "    <tr>\n",
       "      <th>0</th>\n",
       "      <td>Wow... Loved this place.</td>\n",
       "      <td>1</td>\n",
       "    </tr>\n",
       "    <tr>\n",
       "      <th>1</th>\n",
       "      <td>Crust is not good.</td>\n",
       "      <td>0</td>\n",
       "    </tr>\n",
       "    <tr>\n",
       "      <th>2</th>\n",
       "      <td>Not tasty and the texture was just nasty.</td>\n",
       "      <td>0</td>\n",
       "    </tr>\n",
       "    <tr>\n",
       "      <th>3</th>\n",
       "      <td>Stopped by during the late May bank holiday of...</td>\n",
       "      <td>1</td>\n",
       "    </tr>\n",
       "    <tr>\n",
       "      <th>4</th>\n",
       "      <td>The selection on the menu was great and so wer...</td>\n",
       "      <td>1</td>\n",
       "    </tr>\n",
       "  </tbody>\n",
       "</table>\n",
       "</div>"
      ],
      "text/plain": [
       "                                              Review  Liked\n",
       "0                           Wow... Loved this place.      1\n",
       "1                                 Crust is not good.      0\n",
       "2          Not tasty and the texture was just nasty.      0\n",
       "3  Stopped by during the late May bank holiday of...      1\n",
       "4  The selection on the menu was great and so wer...      1"
      ]
     },
     "execution_count": 2,
     "metadata": {},
     "output_type": "execute_result"
    }
   ],
   "source": [
    "df = pd.read_csv(\"C:/Users/tze/OneDrive/ML_BOOTCAMP/Machine Learning A-Z (Codes and Datasets)/Part 7 - Natural Language Processing/Section 36 - Natural Language Processing/Python/Restaurant_Reviews.tsv\", delimiter = '\\t', quoting = 3)\n",
    "df.head()"
   ]
  },
  {
   "cell_type": "markdown",
   "id": "c02e4659",
   "metadata": {},
   "source": [
    "#### Text Cleaning"
   ]
  },
  {
   "cell_type": "code",
   "execution_count": 3,
   "id": "d1366f64",
   "metadata": {},
   "outputs": [
    {
     "name": "stderr",
     "output_type": "stream",
     "text": [
      "[nltk_data] Downloading package stopwords to\n",
      "[nltk_data]     C:\\Users\\tze\\AppData\\Roaming\\nltk_data...\n",
      "[nltk_data]   Package stopwords is already up-to-date!\n"
     ]
    }
   ],
   "source": [
    "import re\n",
    "import nltk\n",
    "nltk.download('stopwords')\n",
    "from nltk.corpus import stopwords\n",
    "from nltk.stem.porter import PorterStemmer\n",
    "#reviews list which is yet empty\n",
    "corpus = []\n",
    "for i in range(0, len(df)):\n",
    "    review = re.sub('^a-zA-Z', ' ', df['Review'][i]) # Replace others symbols by a space in the reviews columns\n",
    "    review = review.lower()                          # lowering the reviews after substitution \n",
    "    review = review.split()                          # And then split them into piece of words\n",
    "    ps = PorterStemmer()                             # Stemmer that uses root of words to identify them\n",
    "    all_stopwords = stopwords.words('english')\n",
    "    all_stopwords.remove('not')\n",
    "    review = [ps.stem(word) for word in review if not word in set(all_stopwords)]\n",
    "    review = \" \".join(review)                        # Join each piece of word but separates them with a space\n",
    "    corpus.append(review)                            # Adding all pieces of word "
   ]
  },
  {
   "cell_type": "markdown",
   "id": "2c85ad27",
   "metadata": {},
   "source": [
    "### Bag Of Words model"
   ]
  },
  {
   "cell_type": "markdown",
   "id": "fae5cb11",
   "metadata": {},
   "source": [
    "#### Feature Extraction"
   ]
  },
  {
   "cell_type": "code",
   "execution_count": 4,
   "id": "b1a8fe4d",
   "metadata": {},
   "outputs": [],
   "source": [
    "from sklearn.feature_extraction.text import CountVectorizer\n",
    "tokenizer = CountVectorizer(max_features = 1500)\n",
    "X = tokenizer.fit_transform(corpus).toarray()\n",
    "y = df.iloc[:, -1].values"
   ]
  },
  {
   "cell_type": "markdown",
   "id": "55814faa",
   "metadata": {},
   "source": [
    "#### Splitting the dataset into training and testing sets"
   ]
  },
  {
   "cell_type": "code",
   "execution_count": 5,
   "id": "3992f1c0",
   "metadata": {},
   "outputs": [],
   "source": [
    "from sklearn.model_selection import train_test_split\n",
    "X_train, X_test, y_train, y_test = train_test_split( X, y, test_size = 0.2, random_state = 42)"
   ]
  },
  {
   "cell_type": "markdown",
   "id": "a221691f",
   "metadata": {},
   "source": [
    "#### Fitting Naive Bayes Model & Test Set Prediction"
   ]
  },
  {
   "cell_type": "code",
   "execution_count": 6,
   "id": "b76a6ead",
   "metadata": {},
   "outputs": [],
   "source": [
    "from sklearn.naive_bayes import GaussianNB\n",
    "classifier = GaussianNB()\n",
    "classifier.fit(X_train, y_train)\n",
    "y_pred = classifier.predict(X_test)"
   ]
  },
  {
   "cell_type": "markdown",
   "id": "351fa817",
   "metadata": {},
   "source": [
    "#### Classification Metrics"
   ]
  },
  {
   "cell_type": "code",
   "execution_count": 7,
   "id": "2232e241",
   "metadata": {},
   "outputs": [
    {
     "data": {
      "text/plain": [
       "(array([[47, 49],\n",
       "        [16, 88]], dtype=int64),\n",
       " 0.675)"
      ]
     },
     "execution_count": 7,
     "metadata": {},
     "output_type": "execute_result"
    }
   ],
   "source": [
    "from sklearn.metrics import confusion_matrix, accuracy_score\n",
    "c_matrix = confusion_matrix(y_test, y_pred)\n",
    "score = accuracy_score(y_test, y_pred)\n",
    "c_matrix, score"
   ]
  },
  {
   "cell_type": "markdown",
   "id": "890affac",
   "metadata": {},
   "source": [
    "### Predicting good review 👍🏾"
   ]
  },
  {
   "cell_type": "code",
   "execution_count": 8,
   "id": "6c84d91b",
   "metadata": {},
   "outputs": [
    {
     "data": {
      "text/plain": [
       "array([1], dtype=int64)"
      ]
     },
     "execution_count": 8,
     "metadata": {},
     "output_type": "execute_result"
    }
   ],
   "source": [
    "_review ='I love this restaurant so much'\n",
    "_review = re.sub('^a-zA-Z', ' ', _review)\n",
    "_review = _review.lower()\n",
    "_review = _review.split()\n",
    "_review = [ps.stem(word) for word in _review if not word in set(all_stopwords)]\n",
    "_review = ' '.join(_review)\n",
    "corpus_ = [_review]\n",
    "X_ = tokenizer.transform(corpus_).toarray()\n",
    "y_ = classifier.predict(X_)\n",
    "y_"
   ]
  },
  {
   "cell_type": "markdown",
   "id": "4c43e7ec",
   "metadata": {},
   "source": [
    "### Predicting good review 👎🏾"
   ]
  },
  {
   "cell_type": "code",
   "execution_count": 9,
   "id": "d68c9923",
   "metadata": {},
   "outputs": [
    {
     "data": {
      "text/plain": [
       "array([0], dtype=int64)"
      ]
     },
     "execution_count": 9,
     "metadata": {},
     "output_type": "execute_result"
    }
   ],
   "source": [
    "review_ = 'I hate this restaurant so much'\n",
    "review_ = re.sub('^a-zA-Z', ' ', review_)\n",
    "review_ = review_.lower()\n",
    "review_ = review_.split()\n",
    "review_ = [ps.stem(word) for word in review_ if not word in set(all_stopwords)]\n",
    "review_ = ' '.join(review_)\n",
    "corpus__ = [review_]\n",
    "x = tokenizer.transform(corpus__).toarray()\n",
    "_y = classifier.predict(x)\n",
    "_y"
   ]
  },
  {
   "cell_type": "markdown",
   "id": "7669e907",
   "metadata": {},
   "source": [
    "***"
   ]
  },
  {
   "cell_type": "markdown",
   "id": "9284b975",
   "metadata": {},
   "source": [
    "### Fitting other classification models "
   ]
  },
  {
   "cell_type": "markdown",
   "id": "b0ffe34c",
   "metadata": {},
   "source": [
    "***"
   ]
  },
  {
   "cell_type": "markdown",
   "id": "5d278850",
   "metadata": {},
   "source": [
    "#### Loading necessaries"
   ]
  },
  {
   "cell_type": "code",
   "execution_count": 26,
   "id": "52d0e41a",
   "metadata": {},
   "outputs": [],
   "source": [
    "from sklearn.model_selection import cross_validate\n",
    "from sklearn.metrics import make_scorer, accuracy_score, f1_score, precision_score, recall_score\n",
    "from sklearn.neighbors import KNeighborsClassifier\n",
    "from sklearn.svm import SVC\n",
    "from sklearn.tree import DecisionTreeClassifier\n",
    "from sklearn.ensemble import RandomForestClassifier, AdaBoostClassifier\n",
    "from sklearn.naive_bayes import GaussianNB\n",
    "from sklearn.linear_model import LogisticRegression"
   ]
  },
  {
   "cell_type": "markdown",
   "id": "8d810a8a",
   "metadata": {},
   "source": [
    "#### Models building & performances evaluation"
   ]
  },
  {
   "cell_type": "markdown",
   "id": "15d397e4",
   "metadata": {},
   "source": [
    "#### - Performance metrics"
   ]
  },
  {
   "cell_type": "code",
   "execution_count": 35,
   "id": "71f77a90",
   "metadata": {},
   "outputs": [],
   "source": [
    "scores = {'accuracy': make_scorer(accuracy_score),\n",
    "          'precision': make_scorer(precision_score),\n",
    "          'recall': make_scorer(recall_score),\n",
    "          'f1_score': make_scorer(f1_score)}"
   ]
  },
  {
   "cell_type": "markdown",
   "id": "a9e4ce6a",
   "metadata": {},
   "source": [
    "#### - Model building"
   ]
  },
  {
   "cell_type": "code",
   "execution_count": 32,
   "id": "0cbda621",
   "metadata": {},
   "outputs": [],
   "source": [
    "knn_ = KNeighborsClassifier()\n",
    "svc_ = SVC()\n",
    "dtc_ = DecisionTreeClassifier()\n",
    "rfc_ = RandomForestClassifier()\n",
    "ada_ = AdaBoostClassifier()\n",
    "nbc_ = GaussianNB()\n",
    "log_ = LogisticRegression(max_iter = 10000)"
   ]
  },
  {
   "cell_type": "markdown",
   "id": "54e5cae4",
   "metadata": {},
   "source": [
    "#### - Models evaluation function"
   ]
  },
  {
   "cell_type": "code",
   "execution_count": 37,
   "id": "8090b9c6",
   "metadata": {},
   "outputs": [
    {
     "name": "stderr",
     "output_type": "stream",
     "text": [
      "C:\\Users\\tze\\anaconda3\\lib\\site-packages\\sklearn\\neighbors\\_classification.py:228: FutureWarning: Unlike other reduction functions (e.g. `skew`, `kurtosis`), the default behavior of `mode` typically preserves the axis it acts along. In SciPy 1.11.0, this behavior will change: the default value of `keepdims` will become False, the `axis` over which the statistic is taken will be eliminated, and the value None will no longer be accepted. Set `keepdims` to True or False to avoid this warning.\n",
      "  mode, _ = stats.mode(_y[neigh_ind, k], axis=1)\n",
      "C:\\Users\\tze\\anaconda3\\lib\\site-packages\\sklearn\\neighbors\\_classification.py:228: FutureWarning: Unlike other reduction functions (e.g. `skew`, `kurtosis`), the default behavior of `mode` typically preserves the axis it acts along. In SciPy 1.11.0, this behavior will change: the default value of `keepdims` will become False, the `axis` over which the statistic is taken will be eliminated, and the value None will no longer be accepted. Set `keepdims` to True or False to avoid this warning.\n",
      "  mode, _ = stats.mode(_y[neigh_ind, k], axis=1)\n",
      "C:\\Users\\tze\\anaconda3\\lib\\site-packages\\sklearn\\neighbors\\_classification.py:228: FutureWarning: Unlike other reduction functions (e.g. `skew`, `kurtosis`), the default behavior of `mode` typically preserves the axis it acts along. In SciPy 1.11.0, this behavior will change: the default value of `keepdims` will become False, the `axis` over which the statistic is taken will be eliminated, and the value None will no longer be accepted. Set `keepdims` to True or False to avoid this warning.\n",
      "  mode, _ = stats.mode(_y[neigh_ind, k], axis=1)\n",
      "C:\\Users\\tze\\anaconda3\\lib\\site-packages\\sklearn\\neighbors\\_classification.py:228: FutureWarning: Unlike other reduction functions (e.g. `skew`, `kurtosis`), the default behavior of `mode` typically preserves the axis it acts along. In SciPy 1.11.0, this behavior will change: the default value of `keepdims` will become False, the `axis` over which the statistic is taken will be eliminated, and the value None will no longer be accepted. Set `keepdims` to True or False to avoid this warning.\n",
      "  mode, _ = stats.mode(_y[neigh_ind, k], axis=1)\n",
      "C:\\Users\\tze\\anaconda3\\lib\\site-packages\\sklearn\\neighbors\\_classification.py:228: FutureWarning: Unlike other reduction functions (e.g. `skew`, `kurtosis`), the default behavior of `mode` typically preserves the axis it acts along. In SciPy 1.11.0, this behavior will change: the default value of `keepdims` will become False, the `axis` over which the statistic is taken will be eliminated, and the value None will no longer be accepted. Set `keepdims` to True or False to avoid this warning.\n",
      "  mode, _ = stats.mode(_y[neigh_ind, k], axis=1)\n",
      "C:\\Users\\tze\\anaconda3\\lib\\site-packages\\sklearn\\neighbors\\_classification.py:228: FutureWarning: Unlike other reduction functions (e.g. `skew`, `kurtosis`), the default behavior of `mode` typically preserves the axis it acts along. In SciPy 1.11.0, this behavior will change: the default value of `keepdims` will become False, the `axis` over which the statistic is taken will be eliminated, and the value None will no longer be accepted. Set `keepdims` to True or False to avoid this warning.\n",
      "  mode, _ = stats.mode(_y[neigh_ind, k], axis=1)\n",
      "C:\\Users\\tze\\anaconda3\\lib\\site-packages\\sklearn\\neighbors\\_classification.py:228: FutureWarning: Unlike other reduction functions (e.g. `skew`, `kurtosis`), the default behavior of `mode` typically preserves the axis it acts along. In SciPy 1.11.0, this behavior will change: the default value of `keepdims` will become False, the `axis` over which the statistic is taken will be eliminated, and the value None will no longer be accepted. Set `keepdims` to True or False to avoid this warning.\n",
      "  mode, _ = stats.mode(_y[neigh_ind, k], axis=1)\n",
      "C:\\Users\\tze\\anaconda3\\lib\\site-packages\\sklearn\\neighbors\\_classification.py:228: FutureWarning: Unlike other reduction functions (e.g. `skew`, `kurtosis`), the default behavior of `mode` typically preserves the axis it acts along. In SciPy 1.11.0, this behavior will change: the default value of `keepdims` will become False, the `axis` over which the statistic is taken will be eliminated, and the value None will no longer be accepted. Set `keepdims` to True or False to avoid this warning.\n",
      "  mode, _ = stats.mode(_y[neigh_ind, k], axis=1)\n",
      "C:\\Users\\tze\\anaconda3\\lib\\site-packages\\sklearn\\neighbors\\_classification.py:228: FutureWarning: Unlike other reduction functions (e.g. `skew`, `kurtosis`), the default behavior of `mode` typically preserves the axis it acts along. In SciPy 1.11.0, this behavior will change: the default value of `keepdims` will become False, the `axis` over which the statistic is taken will be eliminated, and the value None will no longer be accepted. Set `keepdims` to True or False to avoid this warning.\n",
      "  mode, _ = stats.mode(_y[neigh_ind, k], axis=1)\n",
      "C:\\Users\\tze\\anaconda3\\lib\\site-packages\\sklearn\\neighbors\\_classification.py:228: FutureWarning: Unlike other reduction functions (e.g. `skew`, `kurtosis`), the default behavior of `mode` typically preserves the axis it acts along. In SciPy 1.11.0, this behavior will change: the default value of `keepdims` will become False, the `axis` over which the statistic is taken will be eliminated, and the value None will no longer be accepted. Set `keepdims` to True or False to avoid this warning.\n",
      "  mode, _ = stats.mode(_y[neigh_ind, k], axis=1)\n"
     ]
    },
    {
     "data": {
      "text/html": [
       "<div>\n",
       "<style scoped>\n",
       "    .dataframe tbody tr th:only-of-type {\n",
       "        vertical-align: middle;\n",
       "    }\n",
       "\n",
       "    .dataframe tbody tr th {\n",
       "        vertical-align: top;\n",
       "    }\n",
       "\n",
       "    .dataframe thead th {\n",
       "        text-align: right;\n",
       "    }\n",
       "</style>\n",
       "<table border=\"1\" class=\"dataframe\">\n",
       "  <thead>\n",
       "    <tr style=\"text-align: right;\">\n",
       "      <th></th>\n",
       "      <th>K-NN</th>\n",
       "      <th>Support Vector Classification</th>\n",
       "      <th>Decision Tree Classification</th>\n",
       "      <th>Random Forest Classification</th>\n",
       "      <th>AdaBoost Classification</th>\n",
       "      <th>Naive Bayes Classification</th>\n",
       "      <th>Logistic Regression</th>\n",
       "      <th>Best-Score</th>\n",
       "    </tr>\n",
       "  </thead>\n",
       "  <tbody>\n",
       "    <tr>\n",
       "      <th>Accuracy</th>\n",
       "      <td>0.656250</td>\n",
       "      <td>0.791250</td>\n",
       "      <td>0.723750</td>\n",
       "      <td>0.785000</td>\n",
       "      <td>0.746250</td>\n",
       "      <td>0.708750</td>\n",
       "      <td>0.820000</td>\n",
       "      <td>Logistic Regression</td>\n",
       "    </tr>\n",
       "    <tr>\n",
       "      <th>Precision</th>\n",
       "      <td>0.826120</td>\n",
       "      <td>0.882302</td>\n",
       "      <td>0.742129</td>\n",
       "      <td>0.874786</td>\n",
       "      <td>0.895027</td>\n",
       "      <td>0.653965</td>\n",
       "      <td>0.839859</td>\n",
       "      <td>AdaBoost Classification</td>\n",
       "    </tr>\n",
       "    <tr>\n",
       "      <th>Recall</th>\n",
       "      <td>0.394167</td>\n",
       "      <td>0.669679</td>\n",
       "      <td>0.676987</td>\n",
       "      <td>0.661987</td>\n",
       "      <td>0.556282</td>\n",
       "      <td>0.880962</td>\n",
       "      <td>0.787949</td>\n",
       "      <td>Naive Bayes Classification</td>\n",
       "    </tr>\n",
       "    <tr>\n",
       "      <th>F1 Score</th>\n",
       "      <td>0.531140</td>\n",
       "      <td>0.758904</td>\n",
       "      <td>0.706146</td>\n",
       "      <td>0.750266</td>\n",
       "      <td>0.680546</td>\n",
       "      <td>0.749783</td>\n",
       "      <td>0.812064</td>\n",
       "      <td>Logistic Regression</td>\n",
       "    </tr>\n",
       "  </tbody>\n",
       "</table>\n",
       "</div>"
      ],
      "text/plain": [
       "               K-NN  Support Vector Classification  \\\n",
       "Accuracy   0.656250                       0.791250   \n",
       "Precision  0.826120                       0.882302   \n",
       "Recall     0.394167                       0.669679   \n",
       "F1 Score   0.531140                       0.758904   \n",
       "\n",
       "           Decision Tree Classification  Random Forest Classification  \\\n",
       "Accuracy                       0.723750                      0.785000   \n",
       "Precision                      0.742129                      0.874786   \n",
       "Recall                         0.676987                      0.661987   \n",
       "F1 Score                       0.706146                      0.750266   \n",
       "\n",
       "           AdaBoost Classification  Naive Bayes Classification  \\\n",
       "Accuracy                  0.746250                    0.708750   \n",
       "Precision                 0.895027                    0.653965   \n",
       "Recall                    0.556282                    0.880962   \n",
       "F1 Score                  0.680546                    0.749783   \n",
       "\n",
       "           Logistic Regression                  Best-Score  \n",
       "Accuracy              0.820000         Logistic Regression  \n",
       "Precision             0.839859     AdaBoost Classification  \n",
       "Recall                0.787949  Naive Bayes Classification  \n",
       "F1 Score              0.812064         Logistic Regression  "
      ]
     },
     "execution_count": 37,
     "metadata": {},
     "output_type": "execute_result"
    }
   ],
   "source": [
    "def evaluate(X, y, folds):\n",
    "    #cross-validations\n",
    "    knn = cross_validate(knn_, X_train, y_train, cv = folds, scoring = scores)\n",
    "    svc = cross_validate(svc_, X_train, y_train, cv = folds, scoring = scores)\n",
    "    dtc = cross_validate(dtc_, X_train, y_train, cv = folds, scoring = scores)\n",
    "    rfc = cross_validate(rfc_, X_train, y_train, cv = folds, scoring = scores)\n",
    "    ada = cross_validate(ada_, X_train, y_train, cv = folds, scoring = scores)\n",
    "    nbc = cross_validate(nbc_, X_train, y_train, cv = folds, scoring = scores)\n",
    "    log = cross_validate(log_, X_train, y_train, cv = folds, scoring = scores)\n",
    "    #model scores dataframe\n",
    "    score_table = pd.DataFrame({'K-NN': [knn['test_accuracy'].mean(),\n",
    "                                         knn['test_precision'].mean(),\n",
    "                                         knn['test_recall'].mean(),\n",
    "                                         knn['test_f1_score'].mean()],\n",
    "                               \n",
    "                                'Support Vector Classification': [svc['test_accuracy'].mean(),\n",
    "                                                                  svc['test_precision'].mean(),\n",
    "                                                                  svc['test_recall'].mean(),\n",
    "                                                                  svc['test_f1_score'].mean()],\n",
    "                               \n",
    "                               'Decision Tree Classification': [dtc['test_accuracy'].mean(),\n",
    "                                                                dtc['test_precision'].mean(),\n",
    "                                                                dtc['test_recall'].mean(),\n",
    "                                                                dtc['test_f1_score'].mean()],\n",
    "                               \n",
    "                               'Random Forest Classification': [rfc['test_accuracy'].mean(),\n",
    "                                                                rfc['test_precision'].mean(),\n",
    "                                                                rfc['test_recall'].mean(),\n",
    "                                                                rfc['test_f1_score'].mean()],\n",
    "                               \n",
    "                               'AdaBoost Classification': [ada['test_accuracy'].mean(),\n",
    "                                                           ada['test_precision'].mean(),\n",
    "                                                           ada['test_recall'].mean(),\n",
    "                                                           ada['test_f1_score'].mean()],\n",
    "                               \n",
    "                               'Naive Bayes Classification': [nbc['test_accuracy'].mean(),\n",
    "                                                              nbc['test_precision'].mean(),\n",
    "                                                              nbc['test_recall'].mean(),\n",
    "                                                              nbc['test_f1_score'].mean()],\n",
    "                               \n",
    "                               'Logistic Regression': [log['test_accuracy'].mean(),\n",
    "                                                       log['test_precision'].mean(),\n",
    "                                                       log['test_recall'].mean(),\n",
    "                                                       log['test_f1_score'].mean()]\n",
    "                               },\n",
    "                              index = ['Accuracy', 'Precision', 'Recall', 'F1 Score'])\n",
    "    #Adding Best-score collumn\n",
    "    score_table['Best-Score'] = score_table.idxmax(axis = 1)\n",
    "    return score_table\n",
    "#Running the function\n",
    "evaluate(X_train, y_train, 10)"
   ]
  }
 ],
 "metadata": {
  "kernelspec": {
   "display_name": "Python 3 (ipykernel)",
   "language": "python",
   "name": "python3"
  },
  "language_info": {
   "codemirror_mode": {
    "name": "ipython",
    "version": 3
   },
   "file_extension": ".py",
   "mimetype": "text/x-python",
   "name": "python",
   "nbconvert_exporter": "python",
   "pygments_lexer": "ipython3",
   "version": "3.9.13"
  }
 },
 "nbformat": 4,
 "nbformat_minor": 5
}

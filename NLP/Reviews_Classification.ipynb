{
  "nbformat": 4,
  "nbformat_minor": 0,
  "metadata": {
    "colab": {
      "provenance": []
    },
    "kernelspec": {
      "name": "python3",
      "display_name": "Python 3"
    },
    "language_info": {
      "name": "python"
    }
  },
  "cells": [
    {
      "cell_type": "markdown",
      "source": [
        "***"
      ],
      "metadata": {
        "id": "gENsZhl7ZJ88"
      }
    },
    {
      "cell_type": "markdown",
      "source": [
        "# E-Commerce Reviews Classification with Cohere's Classify Endpoint"
      ],
      "metadata": {
        "id": "oTHw2md3ZMgc"
      }
    },
    {
      "cell_type": "markdown",
      "source": [
        "## Introduction"
      ],
      "metadata": {
        "id": "u346HgSMd3I5"
      }
    },
    {
      "cell_type": "markdown",
      "source": [
        "***"
      ],
      "metadata": {
        "id": "q6oFNVxmZiJR"
      }
    },
    {
      "cell_type": "markdown",
      "source": [
        "In this lab, we'll learn how to use Cohere's Classify cohere endpoint. This codelab is my own exercise after taking the [Classify endpoint lesson](https://docs.cohere.com/docs/classify-endpoint/) of LLM University."
      ],
      "metadata": {
        "id": "bfAXaSWSbYFg"
      }
    },
    {
      "cell_type": "markdown",
      "source": [
        "LLMs have been pre-trained with a vast amount of training data, allowing them to capture how words are being used and how their meaning changes depending on the context. A very common application of this is text classification.<br> Cohere’s Classify endpoint makes it easy to do text classification. <br> There is a bunch of text that could be classified. In this notebook, we'll work with reviews text from an e-commerce website. The task could be associated to some kind of sentiment analyzis, usefulfor applications like categorizing product feedback."
      ],
      "metadata": {
        "id": "qibfHo_8cNCs"
      }
    },
    {
      "cell_type": "markdown",
      "source": [
        "## 1. Setting Up"
      ],
      "metadata": {
        "id": "40SbE3Z3eIpk"
      }
    },
    {
      "cell_type": "markdown",
      "source": [
        "Here the Cohere Python SDK isinstalled. Notice that an API key is needed, which can be generated from the Cohere [dashboard](https://os.cohere.ai/register) or [CLI tool](https://docs.cohere.ai/cli-key)."
      ],
      "metadata": {
        "id": "ZVM_lVKAeOgq"
      }
    },
    {
      "cell_type": "code",
      "source": [
        "# Install the libraries\n",
        "! pip install cohere altair umap-learn > /dev/null"
      ],
      "metadata": {
        "id": "UUFApejCE4Ky"
      },
      "execution_count": 58,
      "outputs": []
    },
    {
      "cell_type": "code",
      "execution_count": 59,
      "metadata": {
        "id": "b1GUO2XwDyr8"
      },
      "outputs": [],
      "source": [
        "# Import the libraries\n",
        "import cohere\n",
        "import pandas as pd\n",
        "import numpy as np\n",
        "import altair as alt\n",
        "import textwrap as tr\n",
        "from cohere.responses.classify import Example\n",
        "\n",
        "# Setup the Cohere client\n",
        "api_key = '66n3y4rkhk7Lw9AV6p5RjjxuxTHJYZnevyjBWrGK' # Paste your API key here. Remember to not share it publicly\n",
        "co = cohere.Client(api_key)"
      ]
    },
    {
      "cell_type": "markdown",
      "source": [
        "## 2. About Dataset"
      ],
      "metadata": {
        "id": "KZMCvJCAeqIu"
      }
    },
    {
      "cell_type": "markdown",
      "source": [
        "#### Context :\n",
        "This is a Women’s Clothing E-Commerce dataset revolving around the reviews written by customers. Its nine supportive features offer a great environment to parse out the text through its multiple dimensions. Because this is real commercial data, it has been anonymized, and references to the company in the review text and body have been replaced with “retailer”."
      ],
      "metadata": {
        "id": "wXok86nSfBvR"
      }
    },
    {
      "cell_type": "markdown",
      "source": [
        "#### Description :    \n",
        "This dataset includes 23486 rows and 10 feature variables. Each row corresponds to a customer review, and includes the variables:\n",
        "\n",
        "- Clothing ID: Integer Categorical variable that refers to the specific piece being reviewed.\n",
        "- Age: Positive Integer variable of the reviewers age.\n",
        "- Title: String variable for the title of the review.\n",
        "- Review Text: String variable for the review body.\n",
        "- Rating: Positive Ordinal Integer variable for the product score granted by the customer from 1 Worst, to 5 Best.\n",
        "- Recommended IND: Binary variable stating where the customer recommends the product where 1 is recommended, 0 is not recommended.\n",
        "- Positive Feedback Count: Positive Integer documenting the number of other customers who found this review positive.\n",
        "- Division Name: Categorical name of the product high level division.\n",
        "- Department Name: Categorical name of the product department name.\n",
        "Class Name: Categorical name of the product class name."
      ],
      "metadata": {
        "id": "tWggLwQUgJ0w"
      }
    },
    {
      "cell_type": "markdown",
      "source": [
        "## 3. Preprocessing"
      ],
      "metadata": {
        "id": "ZcpRNVpigyig"
      }
    },
    {
      "cell_type": "markdown",
      "source": [
        "This step includes preprocessing step such as : dataset and libraries loading, feature engineering, feature extraction and other prior task depending on the aim of the notebook."
      ],
      "metadata": {
        "id": "ra50AlQxg5OW"
      }
    },
    {
      "cell_type": "markdown",
      "source": [
        "#### Importing dataset"
      ],
      "metadata": {
        "id": "9kEsz4cXh3Dx"
      }
    },
    {
      "cell_type": "code",
      "source": [
        "dataset = pd.read_csv('/content/Womens Clothing E-Commerce Reviews.csv')\n",
        "dataset.head()"
      ],
      "metadata": {
        "colab": {
          "base_uri": "https://localhost:8080/",
          "height": 441
        },
        "id": "VZIxLqHNFiHp",
        "outputId": "bccb0c73-5952-4b5a-cdc1-8a8b836ff521"
      },
      "execution_count": 60,
      "outputs": [
        {
          "output_type": "execute_result",
          "data": {
            "text/plain": [
              "   Unnamed: 0  Clothing ID  Age                    Title  \\\n",
              "0           0          767   33                      NaN   \n",
              "1           1         1080   34                      NaN   \n",
              "2           2         1077   60  Some major design flaws   \n",
              "3           3         1049   50         My favorite buy!   \n",
              "4           4          847   47         Flattering shirt   \n",
              "\n",
              "                                         Review Text  Rating  Recommended IND  \\\n",
              "0  Absolutely wonderful - silky and sexy and comf...       4                1   \n",
              "1  Love this dress!  it's sooo pretty.  i happene...       5                1   \n",
              "2  I had such high hopes for this dress and reall...       3                0   \n",
              "3  I love, love, love this jumpsuit. it's fun, fl...       5                1   \n",
              "4  This shirt is very flattering to all due to th...       5                1   \n",
              "\n",
              "   Positive Feedback Count   Division Name Department Name Class Name  \n",
              "0                        0       Initmates        Intimate  Intimates  \n",
              "1                        4         General         Dresses    Dresses  \n",
              "2                        0         General         Dresses    Dresses  \n",
              "3                        0  General Petite         Bottoms      Pants  \n",
              "4                        6         General            Tops    Blouses  "
            ],
            "text/html": [
              "\n",
              "  <div id=\"df-fe7d5fe7-57ae-4dc8-bfdd-604581bb35d7\">\n",
              "    <div class=\"colab-df-container\">\n",
              "      <div>\n",
              "<style scoped>\n",
              "    .dataframe tbody tr th:only-of-type {\n",
              "        vertical-align: middle;\n",
              "    }\n",
              "\n",
              "    .dataframe tbody tr th {\n",
              "        vertical-align: top;\n",
              "    }\n",
              "\n",
              "    .dataframe thead th {\n",
              "        text-align: right;\n",
              "    }\n",
              "</style>\n",
              "<table border=\"1\" class=\"dataframe\">\n",
              "  <thead>\n",
              "    <tr style=\"text-align: right;\">\n",
              "      <th></th>\n",
              "      <th>Unnamed: 0</th>\n",
              "      <th>Clothing ID</th>\n",
              "      <th>Age</th>\n",
              "      <th>Title</th>\n",
              "      <th>Review Text</th>\n",
              "      <th>Rating</th>\n",
              "      <th>Recommended IND</th>\n",
              "      <th>Positive Feedback Count</th>\n",
              "      <th>Division Name</th>\n",
              "      <th>Department Name</th>\n",
              "      <th>Class Name</th>\n",
              "    </tr>\n",
              "  </thead>\n",
              "  <tbody>\n",
              "    <tr>\n",
              "      <th>0</th>\n",
              "      <td>0</td>\n",
              "      <td>767</td>\n",
              "      <td>33</td>\n",
              "      <td>NaN</td>\n",
              "      <td>Absolutely wonderful - silky and sexy and comf...</td>\n",
              "      <td>4</td>\n",
              "      <td>1</td>\n",
              "      <td>0</td>\n",
              "      <td>Initmates</td>\n",
              "      <td>Intimate</td>\n",
              "      <td>Intimates</td>\n",
              "    </tr>\n",
              "    <tr>\n",
              "      <th>1</th>\n",
              "      <td>1</td>\n",
              "      <td>1080</td>\n",
              "      <td>34</td>\n",
              "      <td>NaN</td>\n",
              "      <td>Love this dress!  it's sooo pretty.  i happene...</td>\n",
              "      <td>5</td>\n",
              "      <td>1</td>\n",
              "      <td>4</td>\n",
              "      <td>General</td>\n",
              "      <td>Dresses</td>\n",
              "      <td>Dresses</td>\n",
              "    </tr>\n",
              "    <tr>\n",
              "      <th>2</th>\n",
              "      <td>2</td>\n",
              "      <td>1077</td>\n",
              "      <td>60</td>\n",
              "      <td>Some major design flaws</td>\n",
              "      <td>I had such high hopes for this dress and reall...</td>\n",
              "      <td>3</td>\n",
              "      <td>0</td>\n",
              "      <td>0</td>\n",
              "      <td>General</td>\n",
              "      <td>Dresses</td>\n",
              "      <td>Dresses</td>\n",
              "    </tr>\n",
              "    <tr>\n",
              "      <th>3</th>\n",
              "      <td>3</td>\n",
              "      <td>1049</td>\n",
              "      <td>50</td>\n",
              "      <td>My favorite buy!</td>\n",
              "      <td>I love, love, love this jumpsuit. it's fun, fl...</td>\n",
              "      <td>5</td>\n",
              "      <td>1</td>\n",
              "      <td>0</td>\n",
              "      <td>General Petite</td>\n",
              "      <td>Bottoms</td>\n",
              "      <td>Pants</td>\n",
              "    </tr>\n",
              "    <tr>\n",
              "      <th>4</th>\n",
              "      <td>4</td>\n",
              "      <td>847</td>\n",
              "      <td>47</td>\n",
              "      <td>Flattering shirt</td>\n",
              "      <td>This shirt is very flattering to all due to th...</td>\n",
              "      <td>5</td>\n",
              "      <td>1</td>\n",
              "      <td>6</td>\n",
              "      <td>General</td>\n",
              "      <td>Tops</td>\n",
              "      <td>Blouses</td>\n",
              "    </tr>\n",
              "  </tbody>\n",
              "</table>\n",
              "</div>\n",
              "      <button class=\"colab-df-convert\" onclick=\"convertToInteractive('df-fe7d5fe7-57ae-4dc8-bfdd-604581bb35d7')\"\n",
              "              title=\"Convert this dataframe to an interactive table.\"\n",
              "              style=\"display:none;\">\n",
              "        \n",
              "  <svg xmlns=\"http://www.w3.org/2000/svg\" height=\"24px\"viewBox=\"0 0 24 24\"\n",
              "       width=\"24px\">\n",
              "    <path d=\"M0 0h24v24H0V0z\" fill=\"none\"/>\n",
              "    <path d=\"M18.56 5.44l.94 2.06.94-2.06 2.06-.94-2.06-.94-.94-2.06-.94 2.06-2.06.94zm-11 1L8.5 8.5l.94-2.06 2.06-.94-2.06-.94L8.5 2.5l-.94 2.06-2.06.94zm10 10l.94 2.06.94-2.06 2.06-.94-2.06-.94-.94-2.06-.94 2.06-2.06.94z\"/><path d=\"M17.41 7.96l-1.37-1.37c-.4-.4-.92-.59-1.43-.59-.52 0-1.04.2-1.43.59L10.3 9.45l-7.72 7.72c-.78.78-.78 2.05 0 2.83L4 21.41c.39.39.9.59 1.41.59.51 0 1.02-.2 1.41-.59l7.78-7.78 2.81-2.81c.8-.78.8-2.07 0-2.86zM5.41 20L4 18.59l7.72-7.72 1.47 1.35L5.41 20z\"/>\n",
              "  </svg>\n",
              "      </button>\n",
              "      \n",
              "  <style>\n",
              "    .colab-df-container {\n",
              "      display:flex;\n",
              "      flex-wrap:wrap;\n",
              "      gap: 12px;\n",
              "    }\n",
              "\n",
              "    .colab-df-convert {\n",
              "      background-color: #E8F0FE;\n",
              "      border: none;\n",
              "      border-radius: 50%;\n",
              "      cursor: pointer;\n",
              "      display: none;\n",
              "      fill: #1967D2;\n",
              "      height: 32px;\n",
              "      padding: 0 0 0 0;\n",
              "      width: 32px;\n",
              "    }\n",
              "\n",
              "    .colab-df-convert:hover {\n",
              "      background-color: #E2EBFA;\n",
              "      box-shadow: 0px 1px 2px rgba(60, 64, 67, 0.3), 0px 1px 3px 1px rgba(60, 64, 67, 0.15);\n",
              "      fill: #174EA6;\n",
              "    }\n",
              "\n",
              "    [theme=dark] .colab-df-convert {\n",
              "      background-color: #3B4455;\n",
              "      fill: #D2E3FC;\n",
              "    }\n",
              "\n",
              "    [theme=dark] .colab-df-convert:hover {\n",
              "      background-color: #434B5C;\n",
              "      box-shadow: 0px 1px 3px 1px rgba(0, 0, 0, 0.15);\n",
              "      filter: drop-shadow(0px 1px 2px rgba(0, 0, 0, 0.3));\n",
              "      fill: #FFFFFF;\n",
              "    }\n",
              "  </style>\n",
              "\n",
              "      <script>\n",
              "        const buttonEl =\n",
              "          document.querySelector('#df-fe7d5fe7-57ae-4dc8-bfdd-604581bb35d7 button.colab-df-convert');\n",
              "        buttonEl.style.display =\n",
              "          google.colab.kernel.accessAllowed ? 'block' : 'none';\n",
              "\n",
              "        async function convertToInteractive(key) {\n",
              "          const element = document.querySelector('#df-fe7d5fe7-57ae-4dc8-bfdd-604581bb35d7');\n",
              "          const dataTable =\n",
              "            await google.colab.kernel.invokeFunction('convertToInteractive',\n",
              "                                                     [key], {});\n",
              "          if (!dataTable) return;\n",
              "\n",
              "          const docLinkHtml = 'Like what you see? Visit the ' +\n",
              "            '<a target=\"_blank\" href=https://colab.research.google.com/notebooks/data_table.ipynb>data table notebook</a>'\n",
              "            + ' to learn more about interactive tables.';\n",
              "          element.innerHTML = '';\n",
              "          dataTable['output_type'] = 'display_data';\n",
              "          await google.colab.output.renderOutput(dataTable, element);\n",
              "          const docLink = document.createElement('div');\n",
              "          docLink.innerHTML = docLinkHtml;\n",
              "          element.appendChild(docLink);\n",
              "        }\n",
              "      </script>\n",
              "    </div>\n",
              "  </div>\n",
              "  "
            ]
          },
          "metadata": {},
          "execution_count": 60
        }
      ]
    },
    {
      "cell_type": "markdown",
      "source": [
        "#### Feature Extraction "
      ],
      "metadata": {
        "id": "cO7bum-qh-9P"
      }
    },
    {
      "cell_type": "markdown",
      "source": [
        "This is just a quick explanation. So we don't need the overall dataset. The size and the dimensionnality are reduced in order to make the dataset suitable for our small study experiment.<br>Only **200** are taken and two features are extracted which are :\n",
        " - **Review Text** feature ;\n",
        " - **Rating** feature."
      ],
      "metadata": {
        "id": "ELtv6SXQiIQq"
      }
    },
    {
      "cell_type": "code",
      "source": [
        "dataset = dataset.iloc[:200, 4:6]\n",
        "dataset.head()"
      ],
      "metadata": {
        "colab": {
          "base_uri": "https://localhost:8080/",
          "height": 206
        },
        "id": "gn4cbBAzIo8I",
        "outputId": "d5132205-e74e-4dbe-8eca-f9898c0c0138"
      },
      "execution_count": 61,
      "outputs": [
        {
          "output_type": "execute_result",
          "data": {
            "text/plain": [
              "                                         Review Text  Rating\n",
              "0  Absolutely wonderful - silky and sexy and comf...       4\n",
              "1  Love this dress!  it's sooo pretty.  i happene...       5\n",
              "2  I had such high hopes for this dress and reall...       3\n",
              "3  I love, love, love this jumpsuit. it's fun, fl...       5\n",
              "4  This shirt is very flattering to all due to th...       5"
            ],
            "text/html": [
              "\n",
              "  <div id=\"df-1e65980e-103a-4f52-b787-2000357f0fed\">\n",
              "    <div class=\"colab-df-container\">\n",
              "      <div>\n",
              "<style scoped>\n",
              "    .dataframe tbody tr th:only-of-type {\n",
              "        vertical-align: middle;\n",
              "    }\n",
              "\n",
              "    .dataframe tbody tr th {\n",
              "        vertical-align: top;\n",
              "    }\n",
              "\n",
              "    .dataframe thead th {\n",
              "        text-align: right;\n",
              "    }\n",
              "</style>\n",
              "<table border=\"1\" class=\"dataframe\">\n",
              "  <thead>\n",
              "    <tr style=\"text-align: right;\">\n",
              "      <th></th>\n",
              "      <th>Review Text</th>\n",
              "      <th>Rating</th>\n",
              "    </tr>\n",
              "  </thead>\n",
              "  <tbody>\n",
              "    <tr>\n",
              "      <th>0</th>\n",
              "      <td>Absolutely wonderful - silky and sexy and comf...</td>\n",
              "      <td>4</td>\n",
              "    </tr>\n",
              "    <tr>\n",
              "      <th>1</th>\n",
              "      <td>Love this dress!  it's sooo pretty.  i happene...</td>\n",
              "      <td>5</td>\n",
              "    </tr>\n",
              "    <tr>\n",
              "      <th>2</th>\n",
              "      <td>I had such high hopes for this dress and reall...</td>\n",
              "      <td>3</td>\n",
              "    </tr>\n",
              "    <tr>\n",
              "      <th>3</th>\n",
              "      <td>I love, love, love this jumpsuit. it's fun, fl...</td>\n",
              "      <td>5</td>\n",
              "    </tr>\n",
              "    <tr>\n",
              "      <th>4</th>\n",
              "      <td>This shirt is very flattering to all due to th...</td>\n",
              "      <td>5</td>\n",
              "    </tr>\n",
              "  </tbody>\n",
              "</table>\n",
              "</div>\n",
              "      <button class=\"colab-df-convert\" onclick=\"convertToInteractive('df-1e65980e-103a-4f52-b787-2000357f0fed')\"\n",
              "              title=\"Convert this dataframe to an interactive table.\"\n",
              "              style=\"display:none;\">\n",
              "        \n",
              "  <svg xmlns=\"http://www.w3.org/2000/svg\" height=\"24px\"viewBox=\"0 0 24 24\"\n",
              "       width=\"24px\">\n",
              "    <path d=\"M0 0h24v24H0V0z\" fill=\"none\"/>\n",
              "    <path d=\"M18.56 5.44l.94 2.06.94-2.06 2.06-.94-2.06-.94-.94-2.06-.94 2.06-2.06.94zm-11 1L8.5 8.5l.94-2.06 2.06-.94-2.06-.94L8.5 2.5l-.94 2.06-2.06.94zm10 10l.94 2.06.94-2.06 2.06-.94-2.06-.94-.94-2.06-.94 2.06-2.06.94z\"/><path d=\"M17.41 7.96l-1.37-1.37c-.4-.4-.92-.59-1.43-.59-.52 0-1.04.2-1.43.59L10.3 9.45l-7.72 7.72c-.78.78-.78 2.05 0 2.83L4 21.41c.39.39.9.59 1.41.59.51 0 1.02-.2 1.41-.59l7.78-7.78 2.81-2.81c.8-.78.8-2.07 0-2.86zM5.41 20L4 18.59l7.72-7.72 1.47 1.35L5.41 20z\"/>\n",
              "  </svg>\n",
              "      </button>\n",
              "      \n",
              "  <style>\n",
              "    .colab-df-container {\n",
              "      display:flex;\n",
              "      flex-wrap:wrap;\n",
              "      gap: 12px;\n",
              "    }\n",
              "\n",
              "    .colab-df-convert {\n",
              "      background-color: #E8F0FE;\n",
              "      border: none;\n",
              "      border-radius: 50%;\n",
              "      cursor: pointer;\n",
              "      display: none;\n",
              "      fill: #1967D2;\n",
              "      height: 32px;\n",
              "      padding: 0 0 0 0;\n",
              "      width: 32px;\n",
              "    }\n",
              "\n",
              "    .colab-df-convert:hover {\n",
              "      background-color: #E2EBFA;\n",
              "      box-shadow: 0px 1px 2px rgba(60, 64, 67, 0.3), 0px 1px 3px 1px rgba(60, 64, 67, 0.15);\n",
              "      fill: #174EA6;\n",
              "    }\n",
              "\n",
              "    [theme=dark] .colab-df-convert {\n",
              "      background-color: #3B4455;\n",
              "      fill: #D2E3FC;\n",
              "    }\n",
              "\n",
              "    [theme=dark] .colab-df-convert:hover {\n",
              "      background-color: #434B5C;\n",
              "      box-shadow: 0px 1px 3px 1px rgba(0, 0, 0, 0.15);\n",
              "      filter: drop-shadow(0px 1px 2px rgba(0, 0, 0, 0.3));\n",
              "      fill: #FFFFFF;\n",
              "    }\n",
              "  </style>\n",
              "\n",
              "      <script>\n",
              "        const buttonEl =\n",
              "          document.querySelector('#df-1e65980e-103a-4f52-b787-2000357f0fed button.colab-df-convert');\n",
              "        buttonEl.style.display =\n",
              "          google.colab.kernel.accessAllowed ? 'block' : 'none';\n",
              "\n",
              "        async function convertToInteractive(key) {\n",
              "          const element = document.querySelector('#df-1e65980e-103a-4f52-b787-2000357f0fed');\n",
              "          const dataTable =\n",
              "            await google.colab.kernel.invokeFunction('convertToInteractive',\n",
              "                                                     [key], {});\n",
              "          if (!dataTable) return;\n",
              "\n",
              "          const docLinkHtml = 'Like what you see? Visit the ' +\n",
              "            '<a target=\"_blank\" href=https://colab.research.google.com/notebooks/data_table.ipynb>data table notebook</a>'\n",
              "            + ' to learn more about interactive tables.';\n",
              "          element.innerHTML = '';\n",
              "          dataTable['output_type'] = 'display_data';\n",
              "          await google.colab.output.renderOutput(dataTable, element);\n",
              "          const docLink = document.createElement('div');\n",
              "          docLink.innerHTML = docLinkHtml;\n",
              "          element.appendChild(docLink);\n",
              "        }\n",
              "      </script>\n",
              "    </div>\n",
              "  </div>\n",
              "  "
            ]
          },
          "metadata": {},
          "execution_count": 61
        }
      ]
    },
    {
      "cell_type": "markdown",
      "source": [
        "#### Label Study and Encoding"
      ],
      "metadata": {
        "id": "P6o7I3uWjVT3"
      }
    },
    {
      "cell_type": "markdown",
      "source": [
        "First we have to check unique valu from the Rating feature. The check gives us ideas about rating range. The rating range is useful for the next step."
      ],
      "metadata": {
        "id": "oaEnxX10jgqY"
      }
    },
    {
      "cell_type": "code",
      "source": [
        "dataset.Rating.unique()"
      ],
      "metadata": {
        "colab": {
          "base_uri": "https://localhost:8080/"
        },
        "id": "sYgw0KgIGAGN",
        "outputId": "bf61d55f-5cc1-4577-db1f-886ec22ed868"
      },
      "execution_count": 40,
      "outputs": [
        {
          "output_type": "execute_result",
          "data": {
            "text/plain": [
              "array([4, 5, 3, 2, 1])"
            ]
          },
          "metadata": {},
          "execution_count": 40
        }
      ]
    },
    {
      "cell_type": "markdown",
      "source": [
        "The verification process shows that the rating range is from 1 to 5. After a look on data we can affirms that ratings are ascending which means :    \n",
        " - 1 is bad rating;\n",
        " - 5 is good rating.\n",
        " Since we've got five values, they will be encoded like following:\n",
        "  - 1 means **Very Bad**;\n",
        "  - 2 means **Bad**;\n",
        "  - 2 means **Fair**;\n",
        "  - 2 means **Good**;\n",
        "  - 2 means **Very Good**.\n",
        "\n",
        "*PS: Superlative is not used to qualify rating for comprehension purpose.*"
      ],
      "metadata": {
        "id": "NubIUJfpkAEn"
      }
    },
    {
      "cell_type": "code",
      "source": [
        "encode = {1 : 'Very Bad', 2 : 'Bad', 3 : 'Fair', 4 : 'Good', 5: 'Very Good'}\n",
        "dataset['Rating'] = dataset['Rating'].map(encode)"
      ],
      "metadata": {
        "id": "uzSGtez4IlaQ"
      },
      "execution_count": 62,
      "outputs": []
    },
    {
      "cell_type": "markdown",
      "source": [
        "#### Feature Engineering"
      ],
      "metadata": {
        "id": "5rm_fPLbl_l-"
      }
    },
    {
      "cell_type": "markdown",
      "source": [
        "This section includes data splitting, training examples and inputs creation.\n",
        "- Data Splitting: The dataset is split in two sets:\n",
        " - Training set (150 rows) used to created training examples.\n",
        " - Test set (remaining rows after dropping NaN) used to make inputs.\n",
        "- Training examples are passed through the classifier allowing it to learn first from the data (Supervized Learn). That is the reason why training examples are labelled.\n",
        "- Inputs: After learning from training example, then inputs are used to predict new label and evaluate the model performance."
      ],
      "metadata": {
        "id": "j4Fz-RXRmPhZ"
      }
    },
    {
      "cell_type": "code",
      "source": [
        "# Data splitting\n",
        "train_set = dataset.iloc[:150, :]\n",
        "test_set = dataset.iloc[150:, :]\n",
        "\n",
        "# Creating Training Examples\n",
        "examples = []\n",
        "for reviews, ratings in zip(train_set['Review Text'], train_set['Rating']):\n",
        "  examples.append(Example(str(reviews), str(ratings)))\n",
        "\n",
        "# Creating Inputs\n",
        "test_set.dropna()\n",
        "inputs = []\n",
        "for r in test_set['Review Text']:\n",
        "  inputs.append(str(r))"
      ],
      "metadata": {
        "id": "6YXh3i2CE94_"
      },
      "execution_count": 63,
      "outputs": []
    },
    {
      "cell_type": "markdown",
      "source": [
        "## 4. Classification Model and Prediction"
      ],
      "metadata": {
        "id": "_4gZBskOpG88"
      }
    },
    {
      "cell_type": "markdown",
      "source": [
        "Cohere’s Classify endpoint makes it easy to take a list of texts and predict their categories, or classes."
      ],
      "metadata": {
        "id": "pMLIrph3pTkp"
      }
    },
    {
      "cell_type": "code",
      "source": [
        "# Classification Function with the Classify endpoint\n",
        "def text_classifier(input, example):\n",
        "  classifier = co.classify(inputs = input,\n",
        "                         model='embed-english-v2.0',\n",
        "                         examples = example)\n",
        "  classifications = classifier.classifications\n",
        "  return classifications"
      ],
      "metadata": {
        "id": "ptF6ELEaQAN-"
      },
      "execution_count": 64,
      "outputs": []
    },
    {
      "cell_type": "code",
      "source": [
        "# Predictions\n",
        "predictions = text_classifier(inputs, examples)\n",
        "\n",
        "# Display Classification Outcomes\n",
        "classes = ['Very Bad', 'Bad', 'Fair', 'Good', 'Very Good']\n",
        "for i, p in zip(inputs, predictions):\n",
        "  class_pred = p.prediction\n",
        "  class_idx = classes.index(class_pred)\n",
        "  class_conf = p.confidence\n",
        "\n",
        "  print(f'Input : {i}')\n",
        "  print(f'Prediction : {class_pred}')\n",
        "  print(f'Confidence : {class_conf:.2f}')\n",
        "  print(f'-'*10)"
      ],
      "metadata": {
        "colab": {
          "base_uri": "https://localhost:8080/"
        },
        "id": "PQQuxdjXTxLS",
        "outputId": "02722bc9-b251-4018-f655-13fa421cf3b0"
      },
      "execution_count": 65,
      "outputs": [
        {
          "output_type": "stream",
          "name": "stdout",
          "text": [
            "Input : Like other reviewers noted, the pics don't do this skirt justice. it is truly beautiful with an intricate lace pattern and rich colors. can't wait to wear this to work!\n",
            "Prediction : Very Good\n",
            "Confidence : 1.00\n",
            "----------\n",
            "Input : Love this skirt. the detail is amazing. runs small i ordered a 12 i'm usually a 10, but still a little snug.\n",
            "Prediction : Very Good\n",
            "Confidence : 0.99\n",
            "----------\n",
            "Input : Not keeping this one. the fabric is a bit tacky-looking in person, the cut is odd and it's just not me. fit is fine and there are snaps to keep the neckline flat and shaped, the colors are as shown and it is a good length (falls to top of hip). i simply did not like it. too metallic looking maybe...\n",
            "Prediction : Fair\n",
            "Confidence : 0.57\n",
            "----------\n",
            "Input : The top as with most of ap's tops is well stitched. material is very uncomfortable. if you have large bust it is a little divulging. this may prompt you to wear something underneath to look modest and change the shape of the top!\n",
            "Prediction : Fair\n",
            "Confidence : 0.56\n",
            "----------\n",
            "Input : I love the metallic colors of this top and figured i could wear it under a ruched jacket and circle skirt for work. welp, that's out the window. this design is poor. for one, this is not a piece for a petite woman with no torso and i don't know how anyone with a longer torso wears t his. this hits above my belly botton on and i got apetite 2. i have no torso. so, without a jacket, i would never wear this. it's very low cut..the back is very low..it's a little loose but i run between a 2 and a 4.\n",
            "Prediction : Fair\n",
            "Confidence : 0.60\n",
            "----------\n",
            "Input : This top is so much better in person. i do not agree with some of the other reviews about the fabric being scratchy. it is not and i have sensitive skin. i love this top and have got lots of compliments.\n",
            "Prediction : Very Good\n",
            "Confidence : 0.65\n",
            "----------\n",
            "Input : This is a lovely pencil skirt that is well-made and really brightens a work day. like a lot skirts with multiple colors, a lot of tops feel like they should match but you have to try a few that really work with the skirt and your look to get the right impact.\n",
            "Prediction : Very Good\n",
            "Confidence : 1.00\n",
            "----------\n",
            "Input : So  disappointed that no where in the limiting did it mention this suit is australian in size!! i ordered the 10 (i'm usually an 8 but that was sold out) and the suit arrives and doesn't even fir over my hips. -- the label clearly says 10 australian us 6!  gutted that i have to return this suit because of this sizing issue.  the suit looks to be well made and the design is adorable of it only for.\n",
            "Prediction : Very Bad\n",
            "Confidence : 0.56\n",
            "----------\n",
            "Input : I saw this top online and read the reviews so i passed when i went into the store. when i went in again i thought i would give it a try. so glad i did ! it fits great and is way way prettier in person ! i ended up buying it and so glad i did !\n",
            "Prediction : Very Good\n",
            "Confidence : 1.00\n",
            "----------\n",
            "Input : This is a very pretty top with vibrant metallic colors. i would be perfect for a holiday party or going out to dinner. it wasn't as scratchy as i thought it would be based on the reviews, however, it ran a little big. i'm 5.3 and about 130 pounds and i almost always wear a size 6, but the six was too big. i'd recommend sizing down. it was also lower cut than i thought it would be....showed a lot of cleavage (i'm a 34d) so it's not work appropriate. .\n",
            "Prediction : Very Good\n",
            "Confidence : 0.64\n",
            "----------\n",
            "Input : Love everything about this beautiful coat except the way it fits on me.  it is just perfect in the shoulders but once it flares out at the bottom, i look like a clown costume.  if i size down it will not fit in my shoulders.  perhaps a tailor can install buckles that match the neckline buckle to the sides of the coat to fold in the flare.  on another note the buckle at the neckline feels very hard and fake, not sure if it's real leather.\n",
            "Prediction : Bad\n",
            "Confidence : 0.71\n",
            "----------\n",
            "Input : The title says it all....this fabric of this top is both the best and worst part of the design. the colors are vibrant and the combination of materials (shoulder is a knit, sweater-like navy fabric) is interesting. however, that is where the positive comments end on this one. the top is so scratchy,, stiff, and, frankly, uncomfortable. i cannot imagine wanting to wear it. it could benefit from a lining, and that might have solved the problem of scratchy, itchy fabric.\n",
            "\n",
            "the stiff fabric of the bo\n",
            "Prediction : Bad\n",
            "Confidence : 0.65\n",
            "----------\n",
            "Input : My usual size 6 fits perfectly... yes the metallic fibers on the inside are scratchy. a cami solves that problem. when ordering, i realized i cld not go strapless & wld have to wear a one of my wider strap cami's in navy or black to cover the bra strap area. it was obvious some sort of cover-up swtr or jacket w/b needed & wld cover the strap area anyway. so, i also ordered the 'faux-fur cardi' in the ivory to wear over this top. it's a shrug-like cardi w/ 3/4 slvs. comes in the plum also if you\n",
            "Prediction : Good\n",
            "Confidence : 0.79\n",
            "----------\n",
            "Input : The online picture does not do this skirt justice. it's very pretty and unique in design. i think it should be worn with a tighter shirt that is tucked in unlike the picture. this is truly a pretty pencil skirt.\n",
            "Prediction : Very Good\n",
            "Confidence : 0.92\n",
            "----------\n",
            "Input : I bought this and like other reviews, agree that the quality probably could be better, but i still love it enough to keep. the buckle fell apart, but i was able to fix it and the zipper seems a little weak. it has pilled, but the fabric is textured, so i didn't even notice until i read the other reviews and then looked back at my jacket.  it is a perfect medium coat for 40's & 50's before i am ready to bust out my ugly down north face for winter.  i get compliments every time i wear it!  love!!\n",
            "Prediction : Bad\n",
            "Confidence : 0.81\n",
            "----------\n",
            "Input : nan\n",
            "Prediction : Very Good\n",
            "Confidence : 0.80\n",
            "----------\n",
            "Input : I bought a petite, size 2. i am 5'3\", 111 lb - it fit perfect with a tiny bit of room. looks just like the one pictured. length on me was about 1 inch lower than the model. very bright with multiple colors. has a nice stretch. very cute.\n",
            "Prediction : Very Good\n",
            "Confidence : 0.76\n",
            "----------\n",
            "Input : This will be perfect for the mild fall weather in texas. it's light weight and i love that the top is a little more fitted and the bottom swings out.\n",
            "Prediction : Very Good\n",
            "Confidence : 0.99\n",
            "----------\n",
            "Input : nan\n",
            "Prediction : Very Good\n",
            "Confidence : 0.80\n",
            "----------\n",
            "Input : I love the dresses by maeve and this one is no exception. i was pleasantly surprised upon receiving this dress because i wasn't sure about the print size and colors when i saw it online, but the print is beautiful. it's a very simple but elegant style and the ruffle on the back adds an extra touch of interest. i like that it has enough coverage at the top (front and back), the underarms do not fall very low, and it is lined. the a-line skirt will flatter most body types. the fabric and overall q\n",
            "Prediction : Very Good\n",
            "Confidence : 0.92\n",
            "----------\n",
            "Input : These pants are fun! i use them as sleep pants. i had to size up because the waist band was a little tight for comfort.\n",
            "Prediction : Good\n",
            "Confidence : 0.99\n",
            "----------\n",
            "Input : I ordered this in xs, i'm 5'4\", around 115lbs, and it fits perfectly. the material is very soft, but not see-through, and the romper is well-made. i wish it came in other colours, i'd buy more!\n",
            "Prediction : Very Good\n",
            "Confidence : 1.00\n",
            "----------\n",
            "Input : I purchased these for something other than sweats to wear for a girls get away weekend. they were so comfortable and flattering, friends told me i could wear them out for dinner.\r\n",
            "\r\n",
            "the fabric is beautiful, and i loved the way they draped. the angled cut on the legs is very cute, and something a bit different. these could be perfect for a hot summer evening dinner, because the fabric is very light and breezy. dress it up with a tank top and ballet flats and you're good to go.\n",
            "Prediction : Good\n",
            "Confidence : 0.92\n",
            "----------\n",
            "Input : Love this cream sleeveless top....it goes with everything and you can dress it up or down! this will be a go to top all summer long and probably wear thru the fall as well with a layered sweater, if needed. i typically wear small or medium size and got the medium hoping for a little longer length. i am 5'7, 34c, and overall wt. of approx. 128 lbs...it fits very nicely . thank you retailer!\n",
            "Prediction : Very Good\n",
            "Confidence : 1.00\n",
            "----------\n",
            "Input : This skirt is beautiful (especially the color) and looks well made. however, i am very pear shaped and this skirt is just too straight to be flattering on me. i agree that it runs small but even when i sized up it still wasn't flattering. i imagine that those who were not bestowed with massive hips will look lovely in this.\n",
            "Prediction : Very Good\n",
            "Confidence : 0.93\n",
            "----------\n",
            "Input : Happy with this top- slightly thinner material than i was expecting but that'll be fine with our hot summers. got the navy striped one- very pretty and extremely soft. washes well. i do wear an tank underneath though bc the armholes are slightly large and you can see part of my bra.\n",
            "Prediction : Very Good\n",
            "Confidence : 0.72\n",
            "----------\n",
            "Input : Love the fit of this sweater! it almost fits like a sweatshirt and definitely not as long as on the model. it hits me just below the hips( for ref. im 5-3\"). im considering getting all the other colors because its so cute and comfortable. could be dressed up or down. runs true to size-im always a small and this fits perfectly roomy.\n",
            "Prediction : Very Good\n",
            "Confidence : 1.00\n",
            "----------\n",
            "Input : I love this sweater!! i like sweaters that are narrow on top and taper out so it doesn't look like a sack on me. plus, it is the perfect weight. i wish i would have bought one in a different color because it is so comfortable.\n",
            "Prediction : Very Good\n",
            "Confidence : 0.81\n",
            "----------\n",
            "Input : The colors are vivid and perfectly autumnal but the fit is a mess. it was overall too large, the waistline curves up in the front and then falls into small pleats which was maternityish, the waistband was thicker than the dress and sat away from my body and the material was a cheapish poly. had the outer dress been made from the same material as the lining, i would have liked it better. the modesty closure was a plus but the dress was already unraveling when i took it out. #returned\n",
            "Prediction : Fair\n",
            "Confidence : 0.99\n",
            "----------\n",
            "Input : Love this tunic! i am a curvy gal (with a few extra 'curves' in the middle) and this is a perfect top for accentuating the good and masking the negative. i purchased the pink color and it is a gorgeous peachy- pink, a much deeper color than what is portrayed in the picture. i found it true to size. typically i wear a medium or large, depending on the structure and the medium fit well. a little more fitted on top and looser around the waist. i came back to buy another in the ivory but alas, it is\n",
            "Prediction : Good\n",
            "Confidence : 0.81\n",
            "----------\n",
            "Input : Loved the green color, the cut is super flattering, but alas, i do need hte petite, ti was a bit long and i looked a little lost. unfrotuantely, the color is sold out in petite :-(\n",
            "Prediction : Good\n",
            "Confidence : 0.77\n",
            "----------\n",
            "Input : But i thought this was lace or with texture, it is more a pattern on regular fabric.\r\n",
            "\r\n",
            "colors are nice, there are subtle flowers with bright colors in the pattern, the fit is nice, the 0p fit snugly enough, i don't think there was much give but that was comfortable enough. petite length did end below the knee as shown. i think it would have been nicer shorter but don't want to have to pay extra to ehm so i left that one behind...maybe on sale :-)\n",
            "Prediction : Good\n",
            "Confidence : 1.00\n",
            "----------\n",
            "Input : I like this sweater so much i just bought it in a second color! the pleats make the sweater conform to my shape just enough to be flattering. i wore it over three different dresses this week that might have felt too bare for work or cooler weather. i live in a hot climate so this is the right weight for our cooler months. the metallic threads give it a little bit of flair and the grey color goes with everything. i'm 5'7\" size 10-12 and the large fit just right.\n",
            "Prediction : Very Good\n",
            "Confidence : 1.00\n",
            "----------\n",
            "Input : Beautiful color,, great quality, and great fit if you size up! i learned my lesson with previous purchases and sized up when i read it runs small. i usually wear a 0/2 and i took a risk and went for the 4. it fits perfectly. i have a 25 in waist.\n",
            "Prediction : Very Good\n",
            "Confidence : 0.96\n",
            "----------\n",
            "Input : Online, this looks like a great sweater. i ordered an xxsp and found that this sweater is much wider in the middle than pictured. in fact, i'm pretty sure they pinned the shirt in the back for the picture to make it appear slimmer. unfortunately, this sweater will not work for me, as i am an hourglass shape and this shirt makes me look 20 pounds heavier.\n",
            "Prediction : Bad\n",
            "Confidence : 0.69\n",
            "----------\n",
            "Input : I was worried about this item when i ordered it because of how it looks in the picture, but i had wishful thinking. i should have gone with my gut! this shirt does not have the same quality as all my other retailer purchases. it is see-through and flimsy. the bottom is just like the picture, it hangs in an odd rumpled way. the top is very flattering though, so it's a shame! if the bottom fit nicer like their other products i could have gotten away with wearing a cami under it to make up for the qu\n",
            "Prediction : Good\n",
            "Confidence : 0.87\n",
            "----------\n",
            "Input : This skirt is a great length and nice piece for fall/winter. i love the color. it fits like a high waisted skirt would which is why i purchased the next size up.\n",
            "Prediction : Very Good\n",
            "Confidence : 1.00\n",
            "----------\n",
            "Input : This easel caftan is simply amazing! the silhouette fits all sizes and shapes while providing a unique dress.\n",
            "Prediction : Very Good\n",
            "Confidence : 0.95\n",
            "----------\n",
            "Input : Just came today: the print is gorgeous.  very bohemian. it's a dressier dress with the chiffon.  on the con side, the chiffon is very delicate, snagged easily while trying on. there's raw edges on the waistband, needed trimming fresh out of the package.  sz 10 fit in the waist, too small for 36d bust; sz 12 fits bust but is big in the waist.  sz 10 ankle length for 5'7\", 12 hits the floor.  haven't decided if i'll keep the 12 and try to alter.\n",
            "Prediction : Good\n",
            "Confidence : 1.00\n",
            "----------\n",
            "Input : My waist measures 28\" and the size 4 is a snug fit. i normally buy size 2 in retailer skirts, but the 2 was unbearably tight. cute skirt though! i like that it's machine washable, and the quality looks good.\n",
            "Prediction : Very Good\n",
            "Confidence : 0.98\n",
            "----------\n",
            "Input : I love the fabric and color (i bought the green one). my only complaint is that the base is wider than the picture shows. it looks more fitted on the model. it is more of an a shape (significantly wider at the hips.)\n",
            "Prediction : Good\n",
            "Confidence : 0.95\n",
            "----------\n",
            "Input : I was minimally torn over whether to return this but ultimately it's going back because the knit is just too thin. i thought it would be cozy and be of normal sweater weight but it's not. and because it's so light, the swing effect doesn't really come off. nothing special.\n",
            "Prediction : Bad\n",
            "Confidence : 0.83\n",
            "----------\n",
            "Input : nan\n",
            "Prediction : Very Good\n",
            "Confidence : 0.80\n",
            "----------\n",
            "Input : I love the color of this skirt, and the fabric is wonderful. it was a bit longer than anticipated, but fit well.\n",
            "Prediction : Very Good\n",
            "Confidence : 1.00\n",
            "----------\n",
            "Input : Dress ran very large in every way. beautiful design, lining and quality material. i should have sized down 2 sizes. item is now sold out.\n",
            "Prediction : Bad\n",
            "Confidence : 0.51\n",
            "----------\n",
            "Input : Finally a \"swing top\" that doesn't look like a sack on me! i've been wanting to partake of this current style, but everything i've tried so far just looks \"dumpy\" on me. not this top -- it is very feminine and flattering. i am 5'7\" 118 lbs and have a small waist -- and although this is a \"swing\" style, it still shows my waist and doesn't overpower me. it is also a lovely fabric -- especially in the soft pink which i got. i'm thinking of going back for more colors!\n",
            "Prediction : Good\n",
            "Confidence : 0.74\n",
            "----------\n",
            "Input : I bought this shirt in the neutral and white and love it. so many people compliment it. i usually pair it with white pants and cute wedges to dress it up (obviously with a statement necklace too). but the greatest thing about this shirt is the fact that you can also dress it down. the material is fabulous but i have not washed it yet so i am not sure if it is going to shrink (which i hope it doesn't because it is one of my favorite pieces). \r\n",
            "\r\n",
            "unlike the other reviewer i did not think that the\n",
            "Prediction : Very Good\n",
            "Confidence : 0.97\n",
            "----------\n",
            "Input : Unlike the other reviewers, i did not have any problem with the sizing, fit or length of this skirt. it is a midi skirt so i think it's suppose to be a little bit longer?? for me it fit true to size. for reference i am 5'8\", 135 pounds and the size 6 fit perfectly. i think the color is beautiful and the quality is good.\n",
            "Prediction : Very Good\n",
            "Confidence : 1.00\n",
            "----------\n",
            "Input : For a now feel, that comfy and well made, this was a great choice!\n",
            "Prediction : Very Good\n",
            "Confidence : 0.73\n",
            "----------\n",
            "Input : This skirt looks exactly as pictured and fits great. i purchased it a few weeks ago and got lots of compliments on it. however, on the third wear, the side zipper split wide open. needless to say, it was returned.\n",
            "Prediction : Very Good\n",
            "Confidence : 0.61\n",
            "----------\n"
          ]
        }
      ]
    },
    {
      "cell_type": "markdown",
      "source": [
        "___"
      ],
      "metadata": {
        "id": "6BN8vgeUrbr-"
      }
    },
    {
      "cell_type": "markdown",
      "source": [
        "**Credits:**\n",
        "- This material comes from the post [Hello, World! Meet Language AI](https://colab.research.google.com/github/cohere-ai/notebooks/blob/main/notebooks/Hello_World_Meet_Language_AI.ipynb#)\n",
        "- [Cohere's Classify Endpoint Course](https://docs.cohere.com/docs/classify-endpoint)"
      ],
      "metadata": {
        "id": "lDV5wDyhpp4d"
      }
    },
    {
      "cell_type": "markdown",
      "source": [
        "___"
      ],
      "metadata": {
        "id": "lgSL-qgNrOcO"
      }
    },
    {
      "cell_type": "markdown",
      "source": [
        "*If you find this notebook useful please upvote and share with your peers to promote NLP and the outsatnding work from the Cohere Website*.<br>\n",
        "***THANK YOU !!!***"
      ],
      "metadata": {
        "id": "sC1d79MSqunQ"
      }
    },
    {
      "cell_type": "markdown",
      "source": [
        "___"
      ],
      "metadata": {
        "id": "35U-u0MNrRCe"
      }
    }
  ]
}
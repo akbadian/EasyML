{
 "cells": [
  {
   "cell_type": "markdown",
   "id": "b3d89883",
   "metadata": {},
   "source": [
    "***"
   ]
  },
  {
   "cell_type": "markdown",
   "id": "a203235b",
   "metadata": {},
   "source": [
    "## Support Vector Regression (SVR)"
   ]
  },
  {
   "cell_type": "markdown",
   "id": "a43b271e",
   "metadata": {},
   "source": [
    "***"
   ]
  },
  {
   "cell_type": "markdown",
   "id": "ec3a952e",
   "metadata": {},
   "source": [
    "### 👉🏾 Data Preprocessing"
   ]
  },
  {
   "cell_type": "markdown",
   "id": "96fed6ed",
   "metadata": {},
   "source": [
    "#### ☑️ Importing Datasets and Libraries"
   ]
  },
  {
   "cell_type": "code",
   "execution_count": 1,
   "id": "c2aa218b",
   "metadata": {},
   "outputs": [],
   "source": [
    "import pandas as pd\n",
    "import numpy as np\n",
    "import matplotlib.pyplot as plt"
   ]
  },
  {
   "cell_type": "code",
   "execution_count": 2,
   "id": "9124a963",
   "metadata": {},
   "outputs": [
    {
     "data": {
      "text/html": [
       "<div>\n",
       "<style scoped>\n",
       "    .dataframe tbody tr th:only-of-type {\n",
       "        vertical-align: middle;\n",
       "    }\n",
       "\n",
       "    .dataframe tbody tr th {\n",
       "        vertical-align: top;\n",
       "    }\n",
       "\n",
       "    .dataframe thead th {\n",
       "        text-align: right;\n",
       "    }\n",
       "</style>\n",
       "<table border=\"1\" class=\"dataframe\">\n",
       "  <thead>\n",
       "    <tr style=\"text-align: right;\">\n",
       "      <th></th>\n",
       "      <th>Position</th>\n",
       "      <th>Level</th>\n",
       "      <th>Salary</th>\n",
       "    </tr>\n",
       "  </thead>\n",
       "  <tbody>\n",
       "    <tr>\n",
       "      <th>0</th>\n",
       "      <td>Business Analyst</td>\n",
       "      <td>1</td>\n",
       "      <td>45000</td>\n",
       "    </tr>\n",
       "    <tr>\n",
       "      <th>1</th>\n",
       "      <td>Junior Consultant</td>\n",
       "      <td>2</td>\n",
       "      <td>50000</td>\n",
       "    </tr>\n",
       "    <tr>\n",
       "      <th>2</th>\n",
       "      <td>Senior Consultant</td>\n",
       "      <td>3</td>\n",
       "      <td>60000</td>\n",
       "    </tr>\n",
       "    <tr>\n",
       "      <th>3</th>\n",
       "      <td>Manager</td>\n",
       "      <td>4</td>\n",
       "      <td>80000</td>\n",
       "    </tr>\n",
       "    <tr>\n",
       "      <th>4</th>\n",
       "      <td>Country Manager</td>\n",
       "      <td>5</td>\n",
       "      <td>110000</td>\n",
       "    </tr>\n",
       "    <tr>\n",
       "      <th>5</th>\n",
       "      <td>Region Manager</td>\n",
       "      <td>6</td>\n",
       "      <td>150000</td>\n",
       "    </tr>\n",
       "    <tr>\n",
       "      <th>6</th>\n",
       "      <td>Partner</td>\n",
       "      <td>7</td>\n",
       "      <td>200000</td>\n",
       "    </tr>\n",
       "    <tr>\n",
       "      <th>7</th>\n",
       "      <td>Senior Partner</td>\n",
       "      <td>8</td>\n",
       "      <td>300000</td>\n",
       "    </tr>\n",
       "    <tr>\n",
       "      <th>8</th>\n",
       "      <td>C-level</td>\n",
       "      <td>9</td>\n",
       "      <td>500000</td>\n",
       "    </tr>\n",
       "    <tr>\n",
       "      <th>9</th>\n",
       "      <td>CEO</td>\n",
       "      <td>10</td>\n",
       "      <td>1000000</td>\n",
       "    </tr>\n",
       "  </tbody>\n",
       "</table>\n",
       "</div>"
      ],
      "text/plain": [
       "            Position  Level   Salary\n",
       "0   Business Analyst      1    45000\n",
       "1  Junior Consultant      2    50000\n",
       "2  Senior Consultant      3    60000\n",
       "3            Manager      4    80000\n",
       "4    Country Manager      5   110000\n",
       "5     Region Manager      6   150000\n",
       "6            Partner      7   200000\n",
       "7     Senior Partner      8   300000\n",
       "8            C-level      9   500000\n",
       "9                CEO     10  1000000"
      ]
     },
     "execution_count": 2,
     "metadata": {},
     "output_type": "execute_result"
    }
   ],
   "source": [
    "data = pd.read_csv('C:/Users/HP Elitebook/OneDrive/Bureau/HOMEWORKS/ML_BOOTCAMP/Machine Learning A-Z (Codes and Datasets)/Part 2 - Regression/Section 6 - Polynomial Regression/Python/Position_Salaries.csv')\n",
    "data"
   ]
  },
  {
   "cell_type": "code",
   "execution_count": 3,
   "id": "7c78c665",
   "metadata": {},
   "outputs": [],
   "source": [
    "x = data.iloc[:, 1:-1].values\n",
    "y = data.iloc[:, -1].values"
   ]
  },
  {
   "cell_type": "markdown",
   "id": "4e60c444",
   "metadata": {},
   "source": [
    "<div class = 'alert alert-block alert-warning'> ⚠️⚠️⚠️ We reshape <b>y</b> into vertical 2D-array because the feature scaling method expect unique formats for features to work. </div>"
   ]
  },
  {
   "cell_type": "code",
   "execution_count": 4,
   "id": "684722d5",
   "metadata": {},
   "outputs": [],
   "source": [
    "y = y[:, np.newaxis]"
   ]
  },
  {
   "cell_type": "markdown",
   "id": "36fe84c9",
   "metadata": {},
   "source": [
    "#### ☑️ Feature Scaling"
   ]
  },
  {
   "cell_type": "code",
   "execution_count": 5,
   "id": "efe6a179",
   "metadata": {},
   "outputs": [],
   "source": [
    "from sklearn.preprocessing import StandardScaler\n",
    "sc_y = StandardScaler()\n",
    "sc_x = StandardScaler()\n",
    "y = sc_y.fit_transform(y)\n",
    "x = sc_x.fit_transform(x)"
   ]
  },
  {
   "cell_type": "markdown",
   "id": "38058e22",
   "metadata": {},
   "source": [
    "### 👉🏾 Training the model"
   ]
  },
  {
   "cell_type": "code",
   "execution_count": 6,
   "id": "fb5dfe8f",
   "metadata": {},
   "outputs": [
    {
     "name": "stderr",
     "output_type": "stream",
     "text": [
      "C:\\Users\\HP Elitebook\\anaconda3\\lib\\site-packages\\sklearn\\utils\\validation.py:63: DataConversionWarning: A column-vector y was passed when a 1d array was expected. Please change the shape of y to (n_samples, ), for example using ravel().\n",
      "  return f(*args, **kwargs)\n"
     ]
    },
    {
     "data": {
      "text/plain": [
       "SVR()"
      ]
     },
     "execution_count": 6,
     "metadata": {},
     "output_type": "execute_result"
    }
   ],
   "source": [
    "from sklearn.svm import SVR\n",
    "regressor = SVR(kernel = 'rbf')\n",
    "regressor.fit(x, y)"
   ]
  },
  {
   "cell_type": "markdown",
   "id": "6d47409d",
   "metadata": {},
   "source": [
    "### 👉🏾 Predictions "
   ]
  },
  {
   "cell_type": "markdown",
   "id": "f304dcad",
   "metadata": {},
   "source": [
    "<div class = 'alert alert-block alert-warning'> ⚠️⚠️⚠️ As our features are scaled, we have to scaled the predicting variable too for a correct prediction. <br> And for a fair result we must reverse the scaling transformation with the <code> inverse_transform()</code> method from the concerned class</div>"
   ]
  },
  {
   "cell_type": "code",
   "execution_count": 7,
   "id": "0074e707",
   "metadata": {},
   "outputs": [
    {
     "data": {
      "text/plain": [
       "array([170370.0204065])"
      ]
     },
     "execution_count": 7,
     "metadata": {},
     "output_type": "execute_result"
    }
   ],
   "source": [
    "sc_y.inverse_transform(regressor.predict(sc_x.transform([[6.5]])))"
   ]
  },
  {
   "cell_type": "markdown",
   "id": "0d9eade6",
   "metadata": {},
   "source": [
    "### 👉🏾 Visualizations"
   ]
  },
  {
   "cell_type": "markdown",
   "id": "3c3134dc",
   "metadata": {},
   "source": [
    "#### ☑️ Simple Visualization 🆚 Advanced Visualization"
   ]
  },
  {
   "cell_type": "code",
   "execution_count": 10,
   "id": "bff18f40",
   "metadata": {},
   "outputs": [
    {
     "data": {
      "image/png": "[encoded data removed]",
      "text/plain": [
       "<Figure size 864x360 with 2 Axes>"
      ]
     },
     "metadata": {
      "needs_background": "light"
     },
     "output_type": "display_data"
    }
   ],
   "source": [
    "# Trying to refine x for a smooth curve\n",
    "x_g = np.arange(min(sc_x.inverse_transform(x)), max(sc_x.inverse_transform(x)), 0.1)\n",
    "x_g = x_g[:,np.newaxis]\n",
    "# Simple Viz Plotting\n",
    "plt.figure(figsize = (12,5))\n",
    "plt.subplot(1,2,1)\n",
    "plt.scatter(sc_x.inverse_transform(x), # Inversing the scaling to get initial number\n",
    "            sc_y.inverse_transform(y), # ''\n",
    "            c = 'red')\n",
    "plt.plot(sc_x.inverse_transform(x),    # ''\n",
    "         sc_y.inverse_transform(regressor.predict(x)), # Inversing the scaling to Y_size so the prediction will be in the same range as Y \n",
    "         c = 'blue')\n",
    "plt.title('Simple Viz.')\n",
    "plt.ylabel('Salaries')\n",
    "plt.xlabel('Level')\n",
    "# Advanced Viz Plotting\n",
    "plt.subplot(1,2,2)\n",
    "plt.scatter(sc_x.inverse_transform(x), sc_y.inverse_transform(y), c = 'red')\n",
    "plt.plot(x_g,\n",
    "         sc_y.inverse_transform(regressor.predict(sc_x.transform(x_g))),# After setting X into orginal scale, \n",
    "         #we must put it back to Standard Scale for the prediction method\n",
    "         # And inverse again to the Y_scale\n",
    "         c = 'blue')\n",
    "plt.title('Advanced Viz.')\n",
    "plt.ylabel('Salaries')\n",
    "plt.xlabel('Level')\n",
    "plt.show()"
   ]
  }
 ],
 "metadata": {
  "kernelspec": {
   "display_name": "Python 3 (ipykernel)",
   "language": "python",
   "name": "python3"
  },
  "language_info": {
   "codemirror_mode": {
    "name": "ipython",
    "version": 3
   },
   "file_extension": ".py",
   "mimetype": "text/x-python",
   "name": "python",
   "nbconvert_exporter": "python",
   "pygments_lexer": "ipython3",
   "version": "3.9.12"
  }
 },
 "nbformat": 4,
 "nbformat_minor": 5
}

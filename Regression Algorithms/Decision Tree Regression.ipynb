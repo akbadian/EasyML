{
 "cells": [
  {
   "cell_type": "markdown",
   "id": "44433053",
   "metadata": {},
   "source": [
    "***"
   ]
  },
  {
   "cell_type": "markdown",
   "id": "2b9947ef",
   "metadata": {},
   "source": [
    "## Decision Tree Regression"
   ]
  },
  {
   "cell_type": "markdown",
   "id": "6bd03531",
   "metadata": {},
   "source": [
    "***"
   ]
  },
  {
   "cell_type": "markdown",
   "id": "2c87155d",
   "metadata": {},
   "source": [
    "### 👉🏾 Data Preprocessing"
   ]
  },
  {
   "cell_type": "markdown",
   "id": "29303807",
   "metadata": {},
   "source": [
    "#### ☑️ Importing Libraries and Datasets"
   ]
  },
  {
   "cell_type": "code",
   "execution_count": 1,
   "id": "2af72240",
   "metadata": {},
   "outputs": [],
   "source": [
    "import numpy as np\n",
    "import matplotlib.pyplot as plt\n",
    "import pandas as pd"
   ]
  },
  {
   "cell_type": "code",
   "execution_count": 3,
   "id": "d6f2e72d",
   "metadata": {},
   "outputs": [],
   "source": [
    "dataset = pd.read_csv('C:/Users/HP Elitebook/OneDrive/Bureau/HOMEWORKS/ML_BOOTCAMP/Machine Learning A-Z (Codes and Datasets)/Part 2 - Regression/Section 6 - Polynomial Regression/Python/Position_Salaries.csv')\n",
    "x = dataset.iloc[:, 1:-1].values\n",
    "y = dataset.iloc[:, -1].values"
   ]
  },
  {
   "cell_type": "markdown",
   "id": "8084c747",
   "metadata": {},
   "source": [
    "### 👉🏾 Training DTR model on the whole dataset"
   ]
  },
  {
   "cell_type": "markdown",
   "id": "83259434",
   "metadata": {},
   "source": [
    "#### ☑️ Fitting the model"
   ]
  },
  {
   "cell_type": "code",
   "execution_count": 8,
   "id": "e2c9ecad",
   "metadata": {},
   "outputs": [
    {
     "data": {
      "text/plain": [
       "DecisionTreeRegressor(random_state=0)"
      ]
     },
     "execution_count": 8,
     "metadata": {},
     "output_type": "execute_result"
    }
   ],
   "source": [
    "from sklearn.tree import DecisionTreeRegressor\n",
    "regressor = DecisionTreeRegressor(random_state = 0)\n",
    "regressor.fit(x, y)"
   ]
  },
  {
   "cell_type": "markdown",
   "id": "bcb751c7",
   "metadata": {},
   "source": [
    "#### ☑️ Predicting new result"
   ]
  },
  {
   "cell_type": "code",
   "execution_count": 9,
   "id": "296670dc",
   "metadata": {},
   "outputs": [
    {
     "data": {
      "text/plain": [
       "array([150000.])"
      ]
     },
     "execution_count": 9,
     "metadata": {},
     "output_type": "execute_result"
    }
   ],
   "source": [
    "new_result = regressor.predict([[6.5]])\n",
    "new_result"
   ]
  },
  {
   "cell_type": "markdown",
   "id": "5c1f27b9",
   "metadata": {},
   "source": [
    "#### ☑️ Visualization in HR"
   ]
  },
  {
   "cell_type": "code",
   "execution_count": 20,
   "id": "fcd6d8cd",
   "metadata": {
    "scrolled": true
   },
   "outputs": [
    {
     "data": {
      "image/png": "[encoded data removed]",
      "text/plain": [
       "<Figure size 432x288 with 1 Axes>"
      ]
     },
     "metadata": {
      "needs_background": "light"
     },
     "output_type": "display_data"
    }
   ],
   "source": [
    "x_ = np.arange(min(x),max(x), 0.1)\n",
    "x_ = x_[:, np.newaxis]\n",
    "plt.scatter(x, y, c = 'green')\n",
    "plt.plot(x_, regressor.predict(x_), c = 'red')\n",
    "plt.title('Salary Position Viz withe DTR Model', c='blue')\n",
    "plt.xlabel('Level')\n",
    "plt.ylabel('Salaries')\n",
    "plt.show()"
   ]
  },
  {
   "cell_type": "code",
   "execution_count": null,
   "id": "f984cbfe",
   "metadata": {},
   "outputs": [],
   "source": []
  }
 ],
 "metadata": {
  "kernelspec": {
   "display_name": "Python 3 (ipykernel)",
   "language": "python",
   "name": "python3"
  },
  "language_info": {
   "codemirror_mode": {
    "name": "ipython",
    "version": 3
   },
   "file_extension": ".py",
   "mimetype": "text/x-python",
   "name": "python",
   "nbconvert_exporter": "python",
   "pygments_lexer": "ipython3",
   "version": "3.9.7"
  }
 },
 "nbformat": 4,
 "nbformat_minor": 5
}

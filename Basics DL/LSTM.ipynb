{
 "cells": [
  {
   "attachments": {},
   "cell_type": "markdown",
   "metadata": {},
   "source": [
    "## Google Stock Prediction with RNN-LSTM"
   ]
  },
  {
   "attachments": {},
   "cell_type": "markdown",
   "metadata": {},
   "source": [
    "### Part 1: Data Preprocessing"
   ]
  },
  {
   "attachments": {},
   "cell_type": "markdown",
   "metadata": {},
   "source": [
    "##### Loading Utilities"
   ]
  },
  {
   "cell_type": "code",
   "execution_count": 26,
   "metadata": {},
   "outputs": [],
   "source": [
    "import pandas as pd\n",
    "import numpy as np\n",
    "import matplotlib.pyplot as plt "
   ]
  },
  {
   "cell_type": "code",
   "execution_count": 27,
   "metadata": {},
   "outputs": [],
   "source": [
    "train_df = pd.read_csv(\"C:/Users/tze/OneDrive/Deep Learning/Part 3 - Recurrent Neural Networks/Google_Stock_Price_Train.csv\")\n",
    "test_df =  pd.read_csv(\"C:/Users/tze/OneDrive/Deep Learning/Part 3 - Recurrent Neural Networks/Google_Stock_Price_Test.csv\")\n",
    "training_set = train_df.iloc[:, 1:2].values"
   ]
  },
  {
   "attachments": {},
   "cell_type": "markdown",
   "metadata": {},
   "source": [
    "#####  Feature Scaling"
   ]
  },
  {
   "attachments": {},
   "cell_type": "markdown",
   "metadata": {},
   "source": [
    "Normally feature scaling is done after splitting data into training and test sets.<br>\n",
    "Here, data have been already split in two separate datasets for the training and test so we merely apply the scaling."
   ]
  },
  {
   "cell_type": "code",
   "execution_count": 28,
   "metadata": {},
   "outputs": [],
   "source": [
    "from sklearn.preprocessing import MinMaxScaler\n",
    "scaler = MinMaxScaler(feature_range= (0,1))\n",
    "train_scaled = scaler.fit_transform(training_set)"
   ]
  },
  {
   "attachments": {},
   "cell_type": "markdown",
   "metadata": {},
   "source": [
    "#### Feature Extraction"
   ]
  },
  {
   "attachments": {},
   "cell_type": "markdown",
   "metadata": {},
   "source": [
    "- In order to predict the next output we use 60 times steps in the past.<br>\n",
    "- This value was heuristic as small values may lead to overfitting and large value to underfitting. <br>\n",
    "- The LSTM will try to identify and learn the underlying trend from the past values and based on what the next value will be predicted."
   ]
  },
  {
   "cell_type": "code",
   "execution_count": 29,
   "metadata": {},
   "outputs": [],
   "source": [
    "# Creating data structure with 60 timesteps and 1 output\n",
    "X_train = []\n",
    "y_train =[]\n",
    "for i in range(60, len(train_df)):\n",
    "    X_train.append(train_scaled[i-60:i, 0])\n",
    "    y_train.append(train_scaled[i, 0])\n",
    "X_train, y_train = np.array(X_train), np.array(y_train)\n",
    "\n",
    "# Reshaping features\n",
    "X_train = np.reshape(X_train, (X_train.shape[0], X_train.shape[1], 1)) "
   ]
  },
  {
   "attachments": {},
   "cell_type": "markdown",
   "metadata": {},
   "source": [
    "### Part 2: Building LSTM"
   ]
  },
  {
   "cell_type": "code",
   "execution_count": 30,
   "metadata": {},
   "outputs": [],
   "source": [
    "# Loading necessaries\n",
    "from keras.models import Sequential\n",
    "from keras.layers import (LSTM, Dense, Dropout)"
   ]
  },
  {
   "attachments": {},
   "cell_type": "markdown",
   "metadata": {},
   "source": [
    "#### Initialization and Layers"
   ]
  },
  {
   "cell_type": "code",
   "execution_count": 31,
   "metadata": {},
   "outputs": [],
   "source": [
    "# Initialization\n",
    "regressor = Sequential()\n",
    "\n",
    "# LSTM Layers\n",
    "regressor.add(LSTM(units = 50, return_sequences= True, input_shape = (X_train.shape[1], 1) ))\n",
    "regressor.add(Dropout(0.20))\n",
    "#\n",
    "regressor.add(LSTM(units = 50, return_sequences= True))\n",
    "regressor.add(Dropout(0.20))\n",
    "#\n",
    "regressor.add(LSTM(units = 50, return_sequences= True))\n",
    "regressor.add(Dropout(0.20))\n",
    "#\n",
    "regressor.add(LSTM(units = 50 ))\n",
    "regressor.add(Dropout(0.20))\n",
    "\n",
    "# Output Layer\n",
    "regressor.add(Dense(units= 1))"
   ]
  },
  {
   "attachments": {},
   "cell_type": "markdown",
   "metadata": {},
   "source": [
    "#### Compiling  and Fitting RNN"
   ]
  },
  {
   "cell_type": "code",
   "execution_count": 32,
   "metadata": {},
   "outputs": [
    {
     "name": "stdout",
     "output_type": "stream",
     "text": [
      "Epoch 1/100\n",
      "38/38 [==============================] - 44s 299ms/step - loss: 0.0315\n",
      "Epoch 2/100\n",
      "38/38 [==============================] - 11s 298ms/step - loss: 0.0063\n",
      "Epoch 3/100\n",
      "38/38 [==============================] - 11s 286ms/step - loss: 0.0057\n",
      "Epoch 4/100\n",
      "38/38 [==============================] - 11s 290ms/step - loss: 0.0060\n",
      "Epoch 5/100\n",
      "38/38 [==============================] - 10s 275ms/step - loss: 0.0068\n",
      "Epoch 6/100\n",
      "38/38 [==============================] - 11s 294ms/step - loss: 0.0046\n",
      "Epoch 7/100\n",
      "38/38 [==============================] - 11s 300ms/step - loss: 0.0047\n",
      "Epoch 8/100\n",
      "38/38 [==============================] - 12s 315ms/step - loss: 0.0044\n",
      "Epoch 9/100\n",
      "38/38 [==============================] - 4s 111ms/step - loss: 0.0046\n",
      "Epoch 10/100\n",
      "38/38 [==============================] - 4s 110ms/step - loss: 0.0049\n",
      "Epoch 11/100\n",
      "38/38 [==============================] - 4s 103ms/step - loss: 0.0048\n",
      "Epoch 12/100\n",
      "38/38 [==============================] - 4s 101ms/step - loss: 0.0043\n",
      "Epoch 13/100\n",
      "38/38 [==============================] - 4s 100ms/step - loss: 0.0038\n",
      "Epoch 14/100\n",
      "38/38 [==============================] - 4s 100ms/step - loss: 0.0040\n",
      "Epoch 15/100\n",
      "38/38 [==============================] - 4s 111ms/step - loss: 0.0040\n",
      "Epoch 16/100\n",
      "38/38 [==============================] - 4s 110ms/step - loss: 0.0034\n",
      "Epoch 17/100\n",
      "38/38 [==============================] - 4s 109ms/step - loss: 0.0033\n",
      "Epoch 18/100\n",
      "38/38 [==============================] - 4s 108ms/step - loss: 0.0036\n",
      "Epoch 19/100\n",
      "38/38 [==============================] - 4s 109ms/step - loss: 0.0038\n",
      "Epoch 20/100\n",
      "38/38 [==============================] - 4s 107ms/step - loss: 0.0036\n",
      "Epoch 21/100\n",
      "38/38 [==============================] - 4s 108ms/step - loss: 0.0034\n",
      "Epoch 22/100\n",
      "38/38 [==============================] - 4s 108ms/step - loss: 0.0032\n",
      "Epoch 23/100\n",
      "38/38 [==============================] - 4s 110ms/step - loss: 0.0033\n",
      "Epoch 24/100\n",
      "38/38 [==============================] - 5s 124ms/step - loss: 0.0032\n",
      "Epoch 25/100\n",
      "38/38 [==============================] - 4s 109ms/step - loss: 0.0031\n",
      "Epoch 26/100\n",
      "38/38 [==============================] - 4s 108ms/step - loss: 0.0031\n",
      "Epoch 27/100\n",
      "38/38 [==============================] - 4s 111ms/step - loss: 0.0031\n",
      "Epoch 28/100\n",
      "38/38 [==============================] - 4s 108ms/step - loss: 0.0031\n",
      "Epoch 29/100\n",
      "38/38 [==============================] - 4s 107ms/step - loss: 0.0027\n",
      "Epoch 30/100\n",
      "38/38 [==============================] - 4s 110ms/step - loss: 0.0031\n",
      "Epoch 31/100\n",
      "38/38 [==============================] - 4s 109ms/step - loss: 0.0031\n",
      "Epoch 32/100\n",
      "38/38 [==============================] - 4s 108ms/step - loss: 0.0031\n",
      "Epoch 33/100\n",
      "38/38 [==============================] - 4s 108ms/step - loss: 0.0032\n",
      "Epoch 34/100\n",
      "38/38 [==============================] - 4s 107ms/step - loss: 0.0029\n",
      "Epoch 35/100\n",
      "38/38 [==============================] - 4s 108ms/step - loss: 0.0026\n",
      "Epoch 36/100\n",
      "38/38 [==============================] - 4s 108ms/step - loss: 0.0028\n",
      "Epoch 37/100\n",
      "38/38 [==============================] - 4s 109ms/step - loss: 0.0028\n",
      "Epoch 38/100\n",
      "38/38 [==============================] - 4s 109ms/step - loss: 0.0026\n",
      "Epoch 39/100\n",
      "38/38 [==============================] - 4s 108ms/step - loss: 0.0024\n",
      "Epoch 40/100\n",
      "38/38 [==============================] - 4s 109ms/step - loss: 0.0028\n",
      "Epoch 41/100\n",
      "38/38 [==============================] - 4s 107ms/step - loss: 0.0027\n",
      "Epoch 42/100\n",
      "38/38 [==============================] - 4s 108ms/step - loss: 0.0025\n",
      "Epoch 43/100\n",
      "38/38 [==============================] - 4s 107ms/step - loss: 0.0027\n",
      "Epoch 44/100\n",
      "38/38 [==============================] - 4s 108ms/step - loss: 0.0025\n",
      "Epoch 45/100\n",
      "38/38 [==============================] - 4s 109ms/step - loss: 0.0021\n",
      "Epoch 46/100\n",
      "38/38 [==============================] - 4s 109ms/step - loss: 0.0023\n",
      "Epoch 47/100\n",
      "38/38 [==============================] - 4s 108ms/step - loss: 0.0026\n",
      "Epoch 48/100\n",
      "38/38 [==============================] - 4s 110ms/step - loss: 0.0023\n",
      "Epoch 49/100\n",
      "38/38 [==============================] - 4s 108ms/step - loss: 0.0025\n",
      "Epoch 50/100\n",
      "38/38 [==============================] - 4s 108ms/step - loss: 0.0021\n",
      "Epoch 51/100\n",
      "38/38 [==============================] - 4s 110ms/step - loss: 0.0025\n",
      "Epoch 52/100\n",
      "38/38 [==============================] - 4s 108ms/step - loss: 0.0024\n",
      "Epoch 53/100\n",
      "38/38 [==============================] - 4s 108ms/step - loss: 0.0023\n",
      "Epoch 54/100\n",
      "38/38 [==============================] - 4s 111ms/step - loss: 0.0021\n",
      "Epoch 55/100\n",
      "38/38 [==============================] - 4s 107ms/step - loss: 0.0023\n",
      "Epoch 56/100\n",
      "38/38 [==============================] - 4s 108ms/step - loss: 0.0023\n",
      "Epoch 57/100\n",
      "38/38 [==============================] - 4s 110ms/step - loss: 0.0019\n",
      "Epoch 58/100\n",
      "38/38 [==============================] - 4s 108ms/step - loss: 0.0020\n",
      "Epoch 59/100\n",
      "38/38 [==============================] - 4s 107ms/step - loss: 0.0021\n",
      "Epoch 60/100\n",
      "38/38 [==============================] - 4s 108ms/step - loss: 0.0021\n",
      "Epoch 61/100\n",
      "38/38 [==============================] - 4s 110ms/step - loss: 0.0018\n",
      "Epoch 62/100\n",
      "38/38 [==============================] - 4s 108ms/step - loss: 0.0021\n",
      "Epoch 63/100\n",
      "38/38 [==============================] - 4s 108ms/step - loss: 0.0021\n",
      "Epoch 64/100\n",
      "38/38 [==============================] - 4s 109ms/step - loss: 0.0021\n",
      "Epoch 65/100\n",
      "38/38 [==============================] - 4s 108ms/step - loss: 0.0020\n",
      "Epoch 66/100\n",
      "38/38 [==============================] - 4s 108ms/step - loss: 0.0020\n",
      "Epoch 67/100\n",
      "38/38 [==============================] - 4s 110ms/step - loss: 0.0018\n",
      "Epoch 68/100\n",
      "38/38 [==============================] - 4s 109ms/step - loss: 0.0021\n",
      "Epoch 69/100\n",
      "38/38 [==============================] - 4s 114ms/step - loss: 0.0018\n",
      "Epoch 70/100\n",
      "38/38 [==============================] - 6s 171ms/step - loss: 0.0019\n",
      "Epoch 71/100\n",
      "38/38 [==============================] - 6s 147ms/step - loss: 0.0016\n",
      "Epoch 72/100\n",
      "38/38 [==============================] - 5s 141ms/step - loss: 0.0018\n",
      "Epoch 73/100\n",
      "38/38 [==============================] - 5s 144ms/step - loss: 0.0016\n",
      "Epoch 74/100\n",
      "38/38 [==============================] - 5s 134ms/step - loss: 0.0017\n",
      "Epoch 75/100\n",
      "38/38 [==============================] - 5s 121ms/step - loss: 0.0017\n",
      "Epoch 76/100\n",
      "38/38 [==============================] - 5s 122ms/step - loss: 0.0020\n",
      "Epoch 77/100\n",
      "38/38 [==============================] - 5s 122ms/step - loss: 0.0017\n",
      "Epoch 78/100\n",
      "38/38 [==============================] - 5s 124ms/step - loss: 0.0017\n",
      "Epoch 79/100\n",
      "38/38 [==============================] - 5s 122ms/step - loss: 0.0017\n",
      "Epoch 80/100\n",
      "38/38 [==============================] - 5s 121ms/step - loss: 0.0017\n",
      "Epoch 81/100\n",
      "38/38 [==============================] - 5s 122ms/step - loss: 0.0016\n",
      "Epoch 82/100\n",
      "38/38 [==============================] - 5s 122ms/step - loss: 0.0016\n",
      "Epoch 83/100\n",
      "38/38 [==============================] - 5s 121ms/step - loss: 0.0016\n",
      "Epoch 84/100\n",
      "38/38 [==============================] - 5s 121ms/step - loss: 0.0016\n",
      "Epoch 85/100\n",
      "38/38 [==============================] - 5s 124ms/step - loss: 0.0016\n",
      "Epoch 86/100\n",
      "38/38 [==============================] - 5s 124ms/step - loss: 0.0018\n",
      "Epoch 87/100\n",
      "38/38 [==============================] - 5s 126ms/step - loss: 0.0019\n",
      "Epoch 88/100\n",
      "38/38 [==============================] - 5s 125ms/step - loss: 0.0016\n",
      "Epoch 89/100\n",
      "38/38 [==============================] - 5s 126ms/step - loss: 0.0016\n",
      "Epoch 90/100\n",
      "38/38 [==============================] - 5s 127ms/step - loss: 0.0016\n",
      "Epoch 91/100\n",
      "38/38 [==============================] - 5s 128ms/step - loss: 0.0014\n",
      "Epoch 92/100\n",
      "38/38 [==============================] - 5s 127ms/step - loss: 0.0014\n",
      "Epoch 93/100\n",
      "38/38 [==============================] - 5s 129ms/step - loss: 0.0016\n",
      "Epoch 94/100\n",
      "38/38 [==============================] - 5s 125ms/step - loss: 0.0014\n",
      "Epoch 95/100\n",
      "38/38 [==============================] - 5s 134ms/step - loss: 0.0015\n",
      "Epoch 96/100\n",
      "38/38 [==============================] - 5s 124ms/step - loss: 0.0016\n",
      "Epoch 97/100\n",
      "38/38 [==============================] - 5s 124ms/step - loss: 0.0015\n",
      "Epoch 98/100\n",
      "38/38 [==============================] - 5s 119ms/step - loss: 0.0013\n",
      "Epoch 99/100\n",
      "38/38 [==============================] - 5s 120ms/step - loss: 0.0015\n",
      "Epoch 100/100\n",
      "38/38 [==============================] - 5s 119ms/step - loss: 0.0014\n"
     ]
    },
    {
     "data": {
      "text/plain": [
       "<keras.callbacks.History at 0x21c27f40590>"
      ]
     },
     "execution_count": 32,
     "metadata": {},
     "output_type": "execute_result"
    }
   ],
   "source": [
    "# Compilation\n",
    "regressor.compile(optimizer = 'adam', loss = 'mean_squared_error')\n",
    "\n",
    "# Fitting\n",
    "regressor.fit(X_train, y_train, epochs = 100, batch_size = 32)"
   ]
  },
  {
   "attachments": {},
   "cell_type": "markdown",
   "metadata": {},
   "source": [
    "### Predictions"
   ]
  },
  {
   "cell_type": "code",
   "execution_count": 33,
   "metadata": {},
   "outputs": [
    {
     "name": "stdout",
     "output_type": "stream",
     "text": [
      "1/1 [==============================] - 3s 3s/step\n"
     ]
    }
   ],
   "source": [
    "# Getting the test set\n",
    "test_set = test_df.iloc[:, 1:2].values\n",
    "# Getting complete dataset\n",
    "total_dataset = pd.concat((train_df['Open'], test_df['Open']), axis = 0)\n",
    "inputs = total_dataset[len(total_dataset) - len(test_df) - 60:].values\n",
    "inputs = inputs.reshape(-1, 1)\n",
    "inputs = scaler.transform(inputs)\n",
    "\n",
    "# Here y_train isn't extracted as it has to be predicted\n",
    "X_test = []\n",
    "for i in range(60, 80):\n",
    "    X_test.append(inputs[i-60:i, 0])\n",
    "X_test = np.array(X_test)\n",
    "X_test = np.reshape(X_test, (X_test.shape[0], X_test.shape[1], 1))\n",
    "\n",
    "# Prediction\n",
    "predicted_set = regressor.predict(X_test)\n",
    "predicted_set = scaler.inverse_transform(predicted_set)\n"
   ]
  },
  {
   "attachments": {},
   "cell_type": "markdown",
   "metadata": {},
   "source": [
    "### Visualization\n"
   ]
  },
  {
   "cell_type": "code",
   "execution_count": 41,
   "metadata": {},
   "outputs": [
    {
     "data": {
      "image/png": "[encoded data removed]",
      "text/plain": [
       "<Figure size 800x400 with 1 Axes>"
      ]
     },
     "metadata": {},
     "output_type": "display_data"
    }
   ],
   "source": [
    "plt.figure(figsize = (8, 4))\n",
    "plt.plot(test_set, color = 'red', label = 'Real Stock Price')\n",
    "plt.plot(predicted_set, color = 'blue', label = 'Predicted Stock Price')\n",
    "plt.xlabel('Time')\n",
    "plt.ylabel('Stock Price')\n",
    "plt.title('Real Stock Price VS Predicted Stock Price')\n",
    "plt.legend()\n",
    "plt.show()"
   ]
  }
 ],
 "metadata": {
  "kernelspec": {
   "display_name": "Python 3",
   "language": "python",
   "name": "python3"
  },
  "language_info": {
   "codemirror_mode": {
    "name": "ipython",
    "version": 3
   },
   "file_extension": ".py",
   "mimetype": "text/x-python",
   "name": "python",
   "nbconvert_exporter": "python",
   "pygments_lexer": "ipython3",
   "version": "3.11.3"
  },
  "orig_nbformat": 4
 },
 "nbformat": 4,
 "nbformat_minor": 2
}

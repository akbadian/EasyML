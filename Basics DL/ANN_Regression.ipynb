{
  "nbformat": 4,
  "nbformat_minor": 0,
  "metadata": {
    "colab": {
      "provenance": []
    },
    "kernelspec": {
      "name": "python3",
      "display_name": "Python 3"
    },
    "language_info": {
      "name": "python"
    }
  },
  "cells": [
    {
      "cell_type": "markdown",
      "source": [
        "\n",
        "\n",
        "---\n",
        "\n"
      ],
      "metadata": {
        "id": "gB_77WKUlAQL"
      }
    },
    {
      "cell_type": "markdown",
      "source": [
        "## ANN Regression "
      ],
      "metadata": {
        "id": "3kW2wpqtRdfj"
      }
    },
    {
      "cell_type": "markdown",
      "source": [
        "***"
      ],
      "metadata": {
        "id": "cEJnBNY3Rwol"
      }
    },
    {
      "cell_type": "markdown",
      "source": [
        "### Data Preprocessing"
      ],
      "metadata": {
        "id": "MNlUIFDLSBWK"
      }
    },
    {
      "cell_type": "markdown",
      "source": [
        "#### Libraries"
      ],
      "metadata": {
        "id": "loYM0ZCqTX6w"
      }
    },
    {
      "cell_type": "code",
      "source": [
        "import pandas as pd\n",
        "import numpy as np \n",
        "import tensorflow as tf "
      ],
      "metadata": {
        "id": "DU6S2xu4R1Nc"
      },
      "execution_count": 2,
      "outputs": []
    },
    {
      "cell_type": "markdown",
      "source": [
        "#### Dataset"
      ],
      "metadata": {
        "id": "sVrx5zCuToMC"
      }
    },
    {
      "cell_type": "markdown",
      "source": [],
      "metadata": {
        "id": "lJt3YqFaTiie"
      }
    },
    {
      "cell_type": "code",
      "source": [
        "df = pd.read_excel(\"Folds5x2_pp.xlsx\")\n",
        "df.head()"
      ],
      "metadata": {
        "colab": {
          "base_uri": "https://localhost:8080/",
          "height": 214
        },
        "id": "dYNYTEruSlYR",
        "outputId": "053900b2-753a-4487-b102-0a86a652f144"
      },
      "execution_count": 5,
      "outputs": [
        {
          "output_type": "execute_result",
          "data": {
            "text/plain": [
              "      AT      V       AP     RH      PE\n",
              "0  14.96  41.76  1024.07  73.17  463.26\n",
              "1  25.18  62.96  1020.04  59.08  444.37\n",
              "2   5.11  39.40  1012.16  92.14  488.56\n",
              "3  20.86  57.32  1010.24  76.64  446.48\n",
              "4  10.82  37.50  1009.23  96.62  473.90"
            ],
            "text/html": [
              "\n",
              "  <div id=\"df-766b0894-05c8-49c6-b949-1adcd9502717\">\n",
              "    <div class=\"colab-df-container\">\n",
              "      <div>\n",
              "<style scoped>\n",
              "    .dataframe tbody tr th:only-of-type {\n",
              "        vertical-align: middle;\n",
              "    }\n",
              "\n",
              "    .dataframe tbody tr th {\n",
              "        vertical-align: top;\n",
              "    }\n",
              "\n",
              "    .dataframe thead th {\n",
              "        text-align: right;\n",
              "    }\n",
              "</style>\n",
              "<table border=\"1\" class=\"dataframe\">\n",
              "  <thead>\n",
              "    <tr style=\"text-align: right;\">\n",
              "      <th></th>\n",
              "      <th>AT</th>\n",
              "      <th>V</th>\n",
              "      <th>AP</th>\n",
              "      <th>RH</th>\n",
              "      <th>PE</th>\n",
              "    </tr>\n",
              "  </thead>\n",
              "  <tbody>\n",
              "    <tr>\n",
              "      <th>0</th>\n",
              "      <td>14.96</td>\n",
              "      <td>41.76</td>\n",
              "      <td>1024.07</td>\n",
              "      <td>73.17</td>\n",
              "      <td>463.26</td>\n",
              "    </tr>\n",
              "    <tr>\n",
              "      <th>1</th>\n",
              "      <td>25.18</td>\n",
              "      <td>62.96</td>\n",
              "      <td>1020.04</td>\n",
              "      <td>59.08</td>\n",
              "      <td>444.37</td>\n",
              "    </tr>\n",
              "    <tr>\n",
              "      <th>2</th>\n",
              "      <td>5.11</td>\n",
              "      <td>39.40</td>\n",
              "      <td>1012.16</td>\n",
              "      <td>92.14</td>\n",
              "      <td>488.56</td>\n",
              "    </tr>\n",
              "    <tr>\n",
              "      <th>3</th>\n",
              "      <td>20.86</td>\n",
              "      <td>57.32</td>\n",
              "      <td>1010.24</td>\n",
              "      <td>76.64</td>\n",
              "      <td>446.48</td>\n",
              "    </tr>\n",
              "    <tr>\n",
              "      <th>4</th>\n",
              "      <td>10.82</td>\n",
              "      <td>37.50</td>\n",
              "      <td>1009.23</td>\n",
              "      <td>96.62</td>\n",
              "      <td>473.90</td>\n",
              "    </tr>\n",
              "  </tbody>\n",
              "</table>\n",
              "</div>\n",
              "      <button class=\"colab-df-convert\" onclick=\"convertToInteractive('df-766b0894-05c8-49c6-b949-1adcd9502717')\"\n",
              "              title=\"Convert this dataframe to an interactive table.\"\n",
              "              style=\"display:none;\">\n",
              "        \n",
              "  <svg xmlns=\"http://www.w3.org/2000/svg\" height=\"24px\"viewBox=\"0 0 24 24\"\n",
              "       width=\"24px\">\n",
              "    <path d=\"M0 0h24v24H0V0z\" fill=\"none\"/>\n",
              "    <path d=\"M18.56 5.44l.94 2.06.94-2.06 2.06-.94-2.06-.94-.94-2.06-.94 2.06-2.06.94zm-11 1L8.5 8.5l.94-2.06 2.06-.94-2.06-.94L8.5 2.5l-.94 2.06-2.06.94zm10 10l.94 2.06.94-2.06 2.06-.94-2.06-.94-.94-2.06-.94 2.06-2.06.94z\"/><path d=\"M17.41 7.96l-1.37-1.37c-.4-.4-.92-.59-1.43-.59-.52 0-1.04.2-1.43.59L10.3 9.45l-7.72 7.72c-.78.78-.78 2.05 0 2.83L4 21.41c.39.39.9.59 1.41.59.51 0 1.02-.2 1.41-.59l7.78-7.78 2.81-2.81c.8-.78.8-2.07 0-2.86zM5.41 20L4 18.59l7.72-7.72 1.47 1.35L5.41 20z\"/>\n",
              "  </svg>\n",
              "      </button>\n",
              "      \n",
              "  <style>\n",
              "    .colab-df-container {\n",
              "      display:flex;\n",
              "      flex-wrap:wrap;\n",
              "      gap: 12px;\n",
              "    }\n",
              "\n",
              "    .colab-df-convert {\n",
              "      background-color: #E8F0FE;\n",
              "      border: none;\n",
              "      border-radius: 50%;\n",
              "      cursor: pointer;\n",
              "      display: none;\n",
              "      fill: #1967D2;\n",
              "      height: 32px;\n",
              "      padding: 0 0 0 0;\n",
              "      width: 32px;\n",
              "    }\n",
              "\n",
              "    .colab-df-convert:hover {\n",
              "      background-color: #E2EBFA;\n",
              "      box-shadow: 0px 1px 2px rgba(60, 64, 67, 0.3), 0px 1px 3px 1px rgba(60, 64, 67, 0.15);\n",
              "      fill: #174EA6;\n",
              "    }\n",
              "\n",
              "    [theme=dark] .colab-df-convert {\n",
              "      background-color: #3B4455;\n",
              "      fill: #D2E3FC;\n",
              "    }\n",
              "\n",
              "    [theme=dark] .colab-df-convert:hover {\n",
              "      background-color: #434B5C;\n",
              "      box-shadow: 0px 1px 3px 1px rgba(0, 0, 0, 0.15);\n",
              "      filter: drop-shadow(0px 1px 2px rgba(0, 0, 0, 0.3));\n",
              "      fill: #FFFFFF;\n",
              "    }\n",
              "  </style>\n",
              "\n",
              "      <script>\n",
              "        const buttonEl =\n",
              "          document.querySelector('#df-766b0894-05c8-49c6-b949-1adcd9502717 button.colab-df-convert');\n",
              "        buttonEl.style.display =\n",
              "          google.colab.kernel.accessAllowed ? 'block' : 'none';\n",
              "\n",
              "        async function convertToInteractive(key) {\n",
              "          const element = document.querySelector('#df-766b0894-05c8-49c6-b949-1adcd9502717');\n",
              "          const dataTable =\n",
              "            await google.colab.kernel.invokeFunction('convertToInteractive',\n",
              "                                                     [key], {});\n",
              "          if (!dataTable) return;\n",
              "\n",
              "          const docLinkHtml = 'Like what you see? Visit the ' +\n",
              "            '<a target=\"_blank\" href=https://colab.research.google.com/notebooks/data_table.ipynb>data table notebook</a>'\n",
              "            + ' to learn more about interactive tables.';\n",
              "          element.innerHTML = '';\n",
              "          dataTable['output_type'] = 'display_data';\n",
              "          await google.colab.output.renderOutput(dataTable, element);\n",
              "          const docLink = document.createElement('div');\n",
              "          docLink.innerHTML = docLinkHtml;\n",
              "          element.appendChild(docLink);\n",
              "        }\n",
              "      </script>\n",
              "    </div>\n",
              "  </div>\n",
              "  "
            ]
          },
          "metadata": {},
          "execution_count": 5
        }
      ]
    },
    {
      "cell_type": "markdown",
      "source": [
        "#### Feature Extraction "
      ],
      "metadata": {
        "id": "oLJzSTvgUAkW"
      }
    },
    {
      "cell_type": "code",
      "source": [
        "X = df.iloc[:, :-1].values\n",
        "y = df.iloc[:, -1].values"
      ],
      "metadata": {
        "id": "ElXa-WqWUOMj"
      },
      "execution_count": 7,
      "outputs": []
    },
    {
      "cell_type": "markdown",
      "source": [
        "#### Splitting the dataset"
      ],
      "metadata": {
        "id": "l5JECwV3Ueos"
      }
    },
    {
      "cell_type": "code",
      "source": [
        "from sklearn.model_selection import train_test_split\n",
        "X_train, X_test, y_train, y_test = train_test_split(X, y, test_size = 0.25, random_state = 42)"
      ],
      "metadata": {
        "id": "wYINloIfU_5V"
      },
      "execution_count": 14,
      "outputs": []
    },
    {
      "cell_type": "markdown",
      "source": [
        "### Building ANN"
      ],
      "metadata": {
        "id": "6i35XmkbWVK8"
      }
    },
    {
      "cell_type": "markdown",
      "source": [
        "#### Initializing the ANN"
      ],
      "metadata": {
        "id": "PGodYBcpWwhz"
      }
    },
    {
      "cell_type": "code",
      "source": [
        "ann = tf.keras.models.Sequential()"
      ],
      "metadata": {
        "id": "nNvJX776WgXL"
      },
      "execution_count": 15,
      "outputs": []
    },
    {
      "cell_type": "markdown",
      "source": [
        "#### Input layers"
      ],
      "metadata": {
        "id": "IUf_LfNJXV2-"
      }
    },
    {
      "cell_type": "code",
      "source": [
        "ann.add(tf.keras.layers.Dense(units = 4, activation = 'relu'))"
      ],
      "metadata": {
        "id": "VmVict64XchA"
      },
      "execution_count": 16,
      "outputs": []
    },
    {
      "cell_type": "markdown",
      "source": [
        "#### First hidden layers"
      ],
      "metadata": {
        "id": "lNjqLlWda5k9"
      }
    },
    {
      "cell_type": "code",
      "source": [
        "ann.add(tf.keras.layers.Dense(units = 6, activation = 'relu'))"
      ],
      "metadata": {
        "id": "vC09xBpMbAiO"
      },
      "execution_count": 17,
      "outputs": []
    },
    {
      "cell_type": "markdown",
      "source": [
        "#### Second hidden layers"
      ],
      "metadata": {
        "id": "h-_VwLdGbGiD"
      }
    },
    {
      "cell_type": "code",
      "source": [
        "ann.add(tf.keras.layers.Dense(units = 6, activation = 'relu'))"
      ],
      "metadata": {
        "id": "0m6hIPeCbNH5"
      },
      "execution_count": 19,
      "outputs": []
    },
    {
      "cell_type": "markdown",
      "source": [
        "#### Output layer"
      ],
      "metadata": {
        "id": "LyMaCHPWbT0v"
      }
    },
    {
      "cell_type": "code",
      "source": [
        "ann.add(tf.keras.layers.Dense(units = 1))"
      ],
      "metadata": {
        "id": "FDLCDIHpbpWM"
      },
      "execution_count": 20,
      "outputs": []
    },
    {
      "cell_type": "markdown",
      "source": [
        "### Training ANN on the training set"
      ],
      "metadata": {
        "id": "Ka6hoenucWsP"
      }
    },
    {
      "cell_type": "markdown",
      "source": [
        "#### Compiling the model"
      ],
      "metadata": {
        "id": "uvdWlA3hc2Yb"
      }
    },
    {
      "cell_type": "code",
      "source": [
        "ann.compile(optimizer = 'adam', loss = 'mean_squared_error')"
      ],
      "metadata": {
        "id": "ZQ9l7ahCdhop"
      },
      "execution_count": 24,
      "outputs": []
    },
    {
      "cell_type": "markdown",
      "source": [
        "#### Fitting the model"
      ],
      "metadata": {
        "id": "S_DcW2-LdxEN"
      }
    },
    {
      "cell_type": "code",
      "source": [
        "ann.fit(X_train, y_train, batch_size=32, epochs=100)"
      ],
      "metadata": {
        "colab": {
          "base_uri": "https://localhost:8080/"
        },
        "id": "oab5yf_bcetI",
        "outputId": "5f171f3b-e079-41b9-b42e-630491c02333"
      },
      "execution_count": 26,
      "outputs": [
        {
          "output_type": "stream",
          "name": "stdout",
          "text": [
            "Epoch 1/100\n",
            "225/225 [==============================] - 0s 2ms/step - loss: 27.0071\n",
            "Epoch 2/100\n",
            "225/225 [==============================] - 0s 2ms/step - loss: 26.6370\n",
            "Epoch 3/100\n",
            "225/225 [==============================] - 0s 2ms/step - loss: 25.6588\n",
            "Epoch 4/100\n",
            "225/225 [==============================] - 0s 2ms/step - loss: 25.5576\n",
            "Epoch 5/100\n",
            "225/225 [==============================] - 0s 2ms/step - loss: 27.2546\n",
            "Epoch 6/100\n",
            "225/225 [==============================] - 0s 2ms/step - loss: 26.0062\n",
            "Epoch 7/100\n",
            "225/225 [==============================] - 0s 2ms/step - loss: 26.5135\n",
            "Epoch 8/100\n",
            "225/225 [==============================] - 0s 2ms/step - loss: 25.4563\n",
            "Epoch 9/100\n",
            "225/225 [==============================] - 0s 2ms/step - loss: 25.3298\n",
            "Epoch 10/100\n",
            "225/225 [==============================] - 0s 2ms/step - loss: 27.2215\n",
            "Epoch 11/100\n",
            "225/225 [==============================] - 0s 2ms/step - loss: 26.1967\n",
            "Epoch 12/100\n",
            "225/225 [==============================] - 0s 2ms/step - loss: 25.6960\n",
            "Epoch 13/100\n",
            "225/225 [==============================] - 1s 3ms/step - loss: 25.8813\n",
            "Epoch 14/100\n",
            "225/225 [==============================] - 1s 3ms/step - loss: 25.8132\n",
            "Epoch 15/100\n",
            "225/225 [==============================] - 1s 3ms/step - loss: 25.4410\n",
            "Epoch 16/100\n",
            "225/225 [==============================] - 1s 3ms/step - loss: 26.3768\n",
            "Epoch 17/100\n",
            "225/225 [==============================] - 1s 3ms/step - loss: 26.3927\n",
            "Epoch 18/100\n",
            "225/225 [==============================] - 1s 3ms/step - loss: 24.9631\n",
            "Epoch 19/100\n",
            "225/225 [==============================] - 0s 2ms/step - loss: 25.2635\n",
            "Epoch 20/100\n",
            "225/225 [==============================] - 0s 2ms/step - loss: 25.3369\n",
            "Epoch 21/100\n",
            "225/225 [==============================] - 0s 2ms/step - loss: 25.5911\n",
            "Epoch 22/100\n",
            "225/225 [==============================] - 0s 2ms/step - loss: 25.1529\n",
            "Epoch 23/100\n",
            "225/225 [==============================] - 0s 2ms/step - loss: 25.3084\n",
            "Epoch 24/100\n",
            "225/225 [==============================] - 0s 2ms/step - loss: 25.9485\n",
            "Epoch 25/100\n",
            "225/225 [==============================] - 0s 2ms/step - loss: 25.6905\n",
            "Epoch 26/100\n",
            "225/225 [==============================] - 0s 2ms/step - loss: 26.1874\n",
            "Epoch 27/100\n",
            "225/225 [==============================] - 0s 2ms/step - loss: 24.8847\n",
            "Epoch 28/100\n",
            "225/225 [==============================] - 0s 2ms/step - loss: 25.6202\n",
            "Epoch 29/100\n",
            "225/225 [==============================] - 0s 2ms/step - loss: 26.3134\n",
            "Epoch 30/100\n",
            "225/225 [==============================] - 0s 2ms/step - loss: 26.2814\n",
            "Epoch 31/100\n",
            "225/225 [==============================] - 0s 2ms/step - loss: 25.7542\n",
            "Epoch 32/100\n",
            "225/225 [==============================] - 0s 2ms/step - loss: 25.3953\n",
            "Epoch 33/100\n",
            "225/225 [==============================] - 0s 2ms/step - loss: 25.2673\n",
            "Epoch 34/100\n",
            "225/225 [==============================] - 0s 2ms/step - loss: 25.7609\n",
            "Epoch 35/100\n",
            "225/225 [==============================] - 0s 2ms/step - loss: 25.4416\n",
            "Epoch 36/100\n",
            "225/225 [==============================] - 0s 2ms/step - loss: 26.0362\n",
            "Epoch 37/100\n",
            "225/225 [==============================] - 0s 2ms/step - loss: 24.8835\n",
            "Epoch 38/100\n",
            "225/225 [==============================] - 0s 2ms/step - loss: 26.1236\n",
            "Epoch 39/100\n",
            "225/225 [==============================] - 0s 2ms/step - loss: 25.5637\n",
            "Epoch 40/100\n",
            "225/225 [==============================] - 0s 2ms/step - loss: 24.9859\n",
            "Epoch 41/100\n",
            "225/225 [==============================] - 0s 2ms/step - loss: 25.9484\n",
            "Epoch 42/100\n",
            "225/225 [==============================] - 0s 2ms/step - loss: 24.9279\n",
            "Epoch 43/100\n",
            "225/225 [==============================] - 0s 2ms/step - loss: 25.9076\n",
            "Epoch 44/100\n",
            "225/225 [==============================] - 0s 2ms/step - loss: 25.3528\n",
            "Epoch 45/100\n",
            "225/225 [==============================] - 0s 2ms/step - loss: 25.1063\n",
            "Epoch 46/100\n",
            "225/225 [==============================] - 0s 2ms/step - loss: 25.3410\n",
            "Epoch 47/100\n",
            "225/225 [==============================] - 0s 2ms/step - loss: 25.3142\n",
            "Epoch 48/100\n",
            "225/225 [==============================] - 0s 2ms/step - loss: 26.6686\n",
            "Epoch 49/100\n",
            "225/225 [==============================] - 0s 2ms/step - loss: 25.1698\n",
            "Epoch 50/100\n",
            "225/225 [==============================] - 0s 2ms/step - loss: 25.0063\n",
            "Epoch 51/100\n",
            "225/225 [==============================] - 0s 2ms/step - loss: 25.1150\n",
            "Epoch 52/100\n",
            "225/225 [==============================] - 0s 2ms/step - loss: 24.7668\n",
            "Epoch 53/100\n",
            "225/225 [==============================] - 0s 2ms/step - loss: 25.5382\n",
            "Epoch 54/100\n",
            "225/225 [==============================] - 0s 2ms/step - loss: 26.2722\n",
            "Epoch 55/100\n",
            "225/225 [==============================] - 0s 2ms/step - loss: 26.0212\n",
            "Epoch 56/100\n",
            "225/225 [==============================] - 0s 2ms/step - loss: 26.0878\n",
            "Epoch 57/100\n",
            "225/225 [==============================] - 0s 2ms/step - loss: 25.3782\n",
            "Epoch 58/100\n",
            "225/225 [==============================] - 0s 2ms/step - loss: 24.6888\n",
            "Epoch 59/100\n",
            "225/225 [==============================] - 0s 2ms/step - loss: 25.8908\n",
            "Epoch 60/100\n",
            "225/225 [==============================] - 0s 2ms/step - loss: 27.3996\n",
            "Epoch 61/100\n",
            "225/225 [==============================] - 0s 2ms/step - loss: 24.7703\n",
            "Epoch 62/100\n",
            "225/225 [==============================] - 0s 2ms/step - loss: 25.4948\n",
            "Epoch 63/100\n",
            "225/225 [==============================] - 0s 2ms/step - loss: 25.0416\n",
            "Epoch 64/100\n",
            "225/225 [==============================] - 0s 2ms/step - loss: 24.7367\n",
            "Epoch 65/100\n",
            "225/225 [==============================] - 0s 2ms/step - loss: 24.9826\n",
            "Epoch 66/100\n",
            "225/225 [==============================] - 0s 2ms/step - loss: 24.9521\n",
            "Epoch 67/100\n",
            "225/225 [==============================] - 0s 2ms/step - loss: 25.4441\n",
            "Epoch 68/100\n",
            "225/225 [==============================] - 0s 2ms/step - loss: 25.1907\n",
            "Epoch 69/100\n",
            "225/225 [==============================] - 0s 2ms/step - loss: 26.0109\n",
            "Epoch 70/100\n",
            "225/225 [==============================] - 0s 2ms/step - loss: 26.3157\n",
            "Epoch 71/100\n",
            "225/225 [==============================] - 0s 2ms/step - loss: 25.7934\n",
            "Epoch 72/100\n",
            "225/225 [==============================] - 0s 2ms/step - loss: 24.7395\n",
            "Epoch 73/100\n",
            "225/225 [==============================] - 0s 2ms/step - loss: 25.9394\n",
            "Epoch 74/100\n",
            "225/225 [==============================] - 0s 2ms/step - loss: 25.8232\n",
            "Epoch 75/100\n",
            "225/225 [==============================] - 0s 2ms/step - loss: 24.8747\n",
            "Epoch 76/100\n",
            "225/225 [==============================] - 0s 2ms/step - loss: 24.9135\n",
            "Epoch 77/100\n",
            "225/225 [==============================] - 0s 2ms/step - loss: 26.7021\n",
            "Epoch 78/100\n",
            "225/225 [==============================] - 0s 2ms/step - loss: 25.7792\n",
            "Epoch 79/100\n",
            "225/225 [==============================] - 0s 2ms/step - loss: 24.7917\n",
            "Epoch 80/100\n",
            "225/225 [==============================] - 0s 2ms/step - loss: 25.0319\n",
            "Epoch 81/100\n",
            "225/225 [==============================] - 0s 2ms/step - loss: 24.8387\n",
            "Epoch 82/100\n",
            "225/225 [==============================] - 0s 2ms/step - loss: 25.9361\n",
            "Epoch 83/100\n",
            "225/225 [==============================] - 0s 2ms/step - loss: 26.1208\n",
            "Epoch 84/100\n",
            "225/225 [==============================] - 0s 2ms/step - loss: 25.1020\n",
            "Epoch 85/100\n",
            "225/225 [==============================] - 0s 2ms/step - loss: 24.7974\n",
            "Epoch 86/100\n",
            "225/225 [==============================] - 0s 2ms/step - loss: 25.2280\n",
            "Epoch 87/100\n",
            "225/225 [==============================] - 0s 2ms/step - loss: 24.4335\n",
            "Epoch 88/100\n",
            "225/225 [==============================] - 0s 2ms/step - loss: 25.5822\n",
            "Epoch 89/100\n",
            "225/225 [==============================] - 0s 2ms/step - loss: 25.2431\n",
            "Epoch 90/100\n",
            "225/225 [==============================] - 0s 2ms/step - loss: 25.0695\n",
            "Epoch 91/100\n",
            "225/225 [==============================] - 0s 2ms/step - loss: 25.2187\n",
            "Epoch 92/100\n",
            "225/225 [==============================] - 0s 2ms/step - loss: 24.9122\n",
            "Epoch 93/100\n",
            "225/225 [==============================] - 0s 2ms/step - loss: 25.6789\n",
            "Epoch 94/100\n",
            "225/225 [==============================] - 0s 2ms/step - loss: 25.1003\n",
            "Epoch 95/100\n",
            "225/225 [==============================] - 0s 2ms/step - loss: 25.6026\n",
            "Epoch 96/100\n",
            "225/225 [==============================] - 0s 2ms/step - loss: 25.4385\n",
            "Epoch 97/100\n",
            "225/225 [==============================] - 0s 2ms/step - loss: 25.0983\n",
            "Epoch 98/100\n",
            "225/225 [==============================] - 0s 2ms/step - loss: 26.0605\n",
            "Epoch 99/100\n",
            "225/225 [==============================] - 0s 2ms/step - loss: 25.3320\n",
            "Epoch 100/100\n",
            "225/225 [==============================] - 0s 2ms/step - loss: 25.8458\n"
          ]
        },
        {
          "output_type": "execute_result",
          "data": {
            "text/plain": [
              "<keras.callbacks.History at 0x7feeb3583190>"
            ]
          },
          "metadata": {},
          "execution_count": 26
        }
      ]
    },
    {
      "cell_type": "markdown",
      "source": [
        "### Prediction and Performance Evaluation"
      ],
      "metadata": {
        "id": "htVwDf3EeYYt"
      }
    },
    {
      "cell_type": "markdown",
      "source": [
        "#### Prediction"
      ],
      "metadata": {
        "id": "8mBa5ajzeiE1"
      }
    },
    {
      "cell_type": "code",
      "source": [
        "y_pred = ann.predict(X_test)"
      ],
      "metadata": {
        "colab": {
          "base_uri": "https://localhost:8080/"
        },
        "id": "MPykivZYemNw",
        "outputId": "f100bc15-7f4e-488e-c2e9-1672aed5283a"
      },
      "execution_count": 29,
      "outputs": [
        {
          "output_type": "stream",
          "name": "stdout",
          "text": [
            "75/75 [==============================] - 0s 1ms/step\n"
          ]
        }
      ]
    },
    {
      "cell_type": "markdown",
      "source": [
        "#### Performance Evaluation "
      ],
      "metadata": {
        "id": "fQxU2bP8e0jx"
      }
    },
    {
      "cell_type": "code",
      "source": [
        "from sklearn.metrics import r2_score, mean_squared_error as mse\n",
        "score = r2_score(y_test, y_pred)\n",
        "error = mse(y_test, y_pred)\n",
        "print('Determination Coefficient:',score)\n",
        "print('Mean Squared Error: ',error)"
      ],
      "metadata": {
        "colab": {
          "base_uri": "https://localhost:8080/"
        },
        "id": "eDH8q_yfe6B1",
        "outputId": "2b3f03e4-a4dc-437e-dd36-c3758c3c34e1"
      },
      "execution_count": 35,
      "outputs": [
        {
          "output_type": "stream",
          "name": "stdout",
          "text": [
            "Determination Coefficient: 0.9118398170047035\n",
            "Mean Squared Error:  25.62650930857625\n"
          ]
        }
      ]
    }
  ]
}
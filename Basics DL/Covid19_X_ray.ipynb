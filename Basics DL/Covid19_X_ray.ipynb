{
 "cells": [
  {
   "cell_type": "markdown",
   "id": "2c1ba425",
   "metadata": {},
   "source": [
    "***"
   ]
  },
  {
   "cell_type": "markdown",
   "id": "01ff3059",
   "metadata": {},
   "source": [
    "## Covid-19 Patient X-ray Prediction"
   ]
  },
  {
   "cell_type": "markdown",
   "id": "1fb0e838",
   "metadata": {},
   "source": [
    "***\n"
   ]
  },
  {
   "cell_type": "markdown",
   "id": "f3fb3c7d",
   "metadata": {},
   "source": [
    "### Data Preprocessing"
   ]
  },
  {
   "cell_type": "markdown",
   "id": "691f5f9b",
   "metadata": {},
   "source": [
    "#### Step 1 - Importing libraries"
   ]
  },
  {
   "cell_type": "code",
   "execution_count": 1,
   "id": "658c5893",
   "metadata": {},
   "outputs": [],
   "source": [
    "import tensorflow as tf\n",
    "from keras.preprocessing.image import ImageDataGenerator"
   ]
  },
  {
   "cell_type": "markdown",
   "id": "3b164083",
   "metadata": {},
   "source": [
    "#### Step 2 - Preprocessing the training set"
   ]
  },
  {
   "cell_type": "code",
   "execution_count": 2,
   "id": "89ba184b",
   "metadata": {},
   "outputs": [
    {
     "name": "stdout",
     "output_type": "stream",
     "text": [
      "Found 148 images belonging to 2 classes.\n"
     ]
    }
   ],
   "source": [
    "train_datagen = ImageDataGenerator(rescale = 1./255,\n",
    "                               horizontal_flip = True)\n",
    "\n",
    "training_set = train_datagen.flow_from_directory(\"C:/Users/tze/OneDrive/ML_BOOTCAMP/DEEP LEARNING/xray_dataset_covid19/train\",\n",
    "                                                 batch_size = 32,\n",
    "                                                 target_size = (64,64),\n",
    "                                                 class_mode = 'binary',\n",
    "                                                 color_mode = 'grayscale'\n",
    ")"
   ]
  },
  {
   "cell_type": "markdown",
   "id": "8d080fc5",
   "metadata": {},
   "source": [
    "#### Step 3 - Preprocessing the test set"
   ]
  },
  {
   "cell_type": "code",
   "execution_count": 3,
   "id": "e48ad8be",
   "metadata": {},
   "outputs": [
    {
     "name": "stdout",
     "output_type": "stream",
     "text": [
      "Found 40 images belonging to 2 classes.\n"
     ]
    }
   ],
   "source": [
    "test_datagen = ImageDataGenerator(rescale = 1./255)\n",
    "\n",
    "test_set = test_datagen.flow_from_directory(\"C:/Users/tze/OneDrive/ML_BOOTCAMP/DEEP LEARNING/xray_dataset_covid19/test\",\n",
    "                                                 batch_size = 32,\n",
    "                                                 target_size = (64,64),\n",
    "                                                 class_mode = 'binary',\n",
    "                                                 color_mode = 'grayscale'\n",
    ")"
   ]
  },
  {
   "cell_type": "markdown",
   "id": "736f3bd9",
   "metadata": {},
   "source": [
    "### Building CNN"
   ]
  },
  {
   "cell_type": "markdown",
   "id": "ae13e3e5",
   "metadata": {},
   "source": [
    "#### Initializing the CNN"
   ]
  },
  {
   "cell_type": "code",
   "execution_count": 4,
   "id": "8b572d5f",
   "metadata": {},
   "outputs": [],
   "source": [
    "cnn = tf.keras.models.Sequential()"
   ]
  },
  {
   "cell_type": "markdown",
   "id": "0448d8dc",
   "metadata": {},
   "source": [
    "#### Step 1 - Convolution"
   ]
  },
  {
   "cell_type": "code",
   "execution_count": 5,
   "id": "7955642d",
   "metadata": {},
   "outputs": [],
   "source": [
    "cnn.add(tf.keras.layers.Conv2D(filters = 32, kernel_size = 3, activation = 'relu', input_shape = [64,64,1]))"
   ]
  },
  {
   "cell_type": "markdown",
   "id": "ae04155c",
   "metadata": {},
   "source": [
    "#### Step 2 - Pooling"
   ]
  },
  {
   "cell_type": "code",
   "execution_count": 6,
   "id": "567f3263",
   "metadata": {},
   "outputs": [],
   "source": [
    "cnn.add(tf.keras.layers.MaxPool2D(pool_size = 2, strides = 2))"
   ]
  },
  {
   "cell_type": "markdown",
   "id": "149dad08",
   "metadata": {},
   "source": [
    "#### Step 3 - Second Convolutional and Pooling layers"
   ]
  },
  {
   "cell_type": "code",
   "execution_count": 7,
   "id": "ea795b2e",
   "metadata": {},
   "outputs": [],
   "source": [
    "cnn.add(tf.keras.layers.Conv2D(filters = 32, kernel_size = 3, activation = 'relu'))\n",
    "cnn.add(tf.keras.layers.MaxPool2D(pool_size = 2, strides = 2))"
   ]
  },
  {
   "cell_type": "markdown",
   "id": "8561cb4c",
   "metadata": {},
   "source": [
    "#### Step 4 - Flattening"
   ]
  },
  {
   "cell_type": "code",
   "execution_count": 8,
   "id": "458d01da",
   "metadata": {},
   "outputs": [],
   "source": [
    "cnn.add(tf.keras.layers.Flatten())"
   ]
  },
  {
   "cell_type": "markdown",
   "id": "c50ec03d",
   "metadata": {},
   "source": [
    "#### Step 5 - Full Connection"
   ]
  },
  {
   "cell_type": "code",
   "execution_count": 9,
   "id": "f4f04423",
   "metadata": {},
   "outputs": [],
   "source": [
    "cnn.add(tf.keras.layers.Dense(units = 64, activation = 'relu'))"
   ]
  },
  {
   "cell_type": "markdown",
   "id": "2379d990",
   "metadata": {},
   "source": [
    "#### Step 6 - Output Layer"
   ]
  },
  {
   "cell_type": "code",
   "execution_count": 10,
   "id": "2ac67d7d",
   "metadata": {},
   "outputs": [],
   "source": [
    "cnn.add(tf.keras.layers.Dense(units = 1, activation = 'sigmoid'))"
   ]
  },
  {
   "cell_type": "markdown",
   "id": "bcab5aa2",
   "metadata": {},
   "source": [
    "### Training the CNN "
   ]
  },
  {
   "cell_type": "markdown",
   "id": "62d007fe",
   "metadata": {},
   "source": [
    "#### Step 1 - Compiling the ANN"
   ]
  },
  {
   "cell_type": "code",
   "execution_count": 11,
   "id": "44173ee1",
   "metadata": {},
   "outputs": [],
   "source": [
    "cnn.compile(optimizer = 'adam', loss = 'binary_crossentropy', metrics = ['accuracy'])"
   ]
  },
  {
   "cell_type": "markdown",
   "id": "8ad22840",
   "metadata": {},
   "source": [
    "#### Step 2 - Fitting the model"
   ]
  },
  {
   "cell_type": "code",
   "execution_count": 12,
   "id": "04574e33",
   "metadata": {},
   "outputs": [
    {
     "name": "stdout",
     "output_type": "stream",
     "text": [
      "Epoch 1/25\n",
      "5/5 [==============================] - 17s 3s/step - loss: 0.7535 - accuracy: 0.5000 - val_loss: 0.6921 - val_accuracy: 0.5000\n",
      "Epoch 2/25\n",
      "5/5 [==============================] - 11s 2s/step - loss: 0.6818 - accuracy: 0.5000 - val_loss: 0.6696 - val_accuracy: 0.5250\n",
      "Epoch 3/25\n",
      "5/5 [==============================] - 11s 2s/step - loss: 0.6654 - accuracy: 0.5000 - val_loss: 0.6375 - val_accuracy: 0.5750\n",
      "Epoch 4/25\n",
      "5/5 [==============================] - 11s 2s/step - loss: 0.6305 - accuracy: 0.6892 - val_loss: 0.5737 - val_accuracy: 0.9750\n",
      "Epoch 5/25\n",
      "5/5 [==============================] - 11s 2s/step - loss: 0.5822 - accuracy: 0.8378 - val_loss: 0.4754 - val_accuracy: 1.0000\n",
      "Epoch 6/25\n",
      "5/5 [==============================] - 11s 2s/step - loss: 0.4921 - accuracy: 0.9054 - val_loss: 0.3359 - val_accuracy: 0.9750\n",
      "Epoch 7/25\n",
      "5/5 [==============================] - 11s 2s/step - loss: 0.3879 - accuracy: 0.9122 - val_loss: 0.1997 - val_accuracy: 0.9750\n",
      "Epoch 8/25\n",
      "5/5 [==============================] - 11s 2s/step - loss: 0.2914 - accuracy: 0.9122 - val_loss: 0.1170 - val_accuracy: 0.9750\n",
      "Epoch 9/25\n",
      "5/5 [==============================] - 11s 2s/step - loss: 0.2251 - accuracy: 0.9324 - val_loss: 0.0717 - val_accuracy: 0.9750\n",
      "Epoch 10/25\n",
      "5/5 [==============================] - 11s 2s/step - loss: 0.1770 - accuracy: 0.9459 - val_loss: 0.1091 - val_accuracy: 0.9500\n",
      "Epoch 11/25\n",
      "5/5 [==============================] - 11s 2s/step - loss: 0.2074 - accuracy: 0.8986 - val_loss: 0.1102 - val_accuracy: 0.9500\n",
      "Epoch 12/25\n",
      "5/5 [==============================] - 12s 2s/step - loss: 0.1748 - accuracy: 0.9122 - val_loss: 0.0571 - val_accuracy: 1.0000\n",
      "Epoch 13/25\n",
      "5/5 [==============================] - 11s 2s/step - loss: 0.1405 - accuracy: 0.9527 - val_loss: 0.0599 - val_accuracy: 0.9750\n",
      "Epoch 14/25\n",
      "5/5 [==============================] - 11s 2s/step - loss: 0.1376 - accuracy: 0.9459 - val_loss: 0.0522 - val_accuracy: 1.0000\n",
      "Epoch 15/25\n",
      "5/5 [==============================] - 11s 2s/step - loss: 0.1706 - accuracy: 0.9392 - val_loss: 0.0524 - val_accuracy: 1.0000\n",
      "Epoch 16/25\n",
      "5/5 [==============================] - 11s 2s/step - loss: 0.1215 - accuracy: 0.9527 - val_loss: 0.0645 - val_accuracy: 1.0000\n",
      "Epoch 17/25\n",
      "5/5 [==============================] - 11s 2s/step - loss: 0.0924 - accuracy: 0.9595 - val_loss: 0.0827 - val_accuracy: 0.9750\n",
      "Epoch 18/25\n",
      "5/5 [==============================] - 11s 3s/step - loss: 0.1064 - accuracy: 0.9595 - val_loss: 0.1036 - val_accuracy: 0.9750\n",
      "Epoch 19/25\n",
      "5/5 [==============================] - 11s 2s/step - loss: 0.0825 - accuracy: 0.9730 - val_loss: 0.0614 - val_accuracy: 0.9750\n",
      "Epoch 20/25\n",
      "5/5 [==============================] - 11s 2s/step - loss: 0.0790 - accuracy: 0.9797 - val_loss: 0.0583 - val_accuracy: 1.0000\n",
      "Epoch 21/25\n",
      "5/5 [==============================] - 11s 2s/step - loss: 0.0662 - accuracy: 0.9730 - val_loss: 0.0479 - val_accuracy: 1.0000\n",
      "Epoch 22/25\n",
      "5/5 [==============================] - 12s 3s/step - loss: 0.0598 - accuracy: 0.9865 - val_loss: 0.0492 - val_accuracy: 1.0000\n",
      "Epoch 23/25\n",
      "5/5 [==============================] - 12s 2s/step - loss: 0.0529 - accuracy: 0.9797 - val_loss: 0.0444 - val_accuracy: 1.0000\n",
      "Epoch 24/25\n",
      "5/5 [==============================] - 11s 2s/step - loss: 0.0459 - accuracy: 0.9865 - val_loss: 0.0458 - val_accuracy: 1.0000\n",
      "Epoch 25/25\n",
      "5/5 [==============================] - 11s 3s/step - loss: 0.0609 - accuracy: 0.9730 - val_loss: 0.0431 - val_accuracy: 1.0000\n"
     ]
    },
    {
     "data": {
      "text/plain": [
       "<keras.callbacks.History at 0x1ffff87fdf0>"
      ]
     },
     "execution_count": 12,
     "metadata": {},
     "output_type": "execute_result"
    }
   ],
   "source": [
    "cnn.fit(x = training_set, validation_data = test_set, epochs = 25)"
   ]
  },
  {
   "cell_type": "markdown",
   "id": "abc4d85b",
   "metadata": {},
   "source": [
    "### Making a single value prediction"
   ]
  },
  {
   "cell_type": "markdown",
   "id": "bc080a92",
   "metadata": {},
   "source": [
    "#### Prediction of random image"
   ]
  },
  {
   "cell_type": "code",
   "execution_count": 14,
   "id": "0098c22a",
   "metadata": {},
   "outputs": [
    {
     "name": "stderr",
     "output_type": "stream",
     "text": [
      "C:\\Users\\tze\\anaconda3\\lib\\site-packages\\keras\\utils\\image_utils.py:409: UserWarning: grayscale is deprecated. Please use color_mode = \"grayscale\"\n",
      "  warnings.warn(\n"
     ]
    },
    {
     "name": "stdout",
     "output_type": "stream",
     "text": [
      "1/1 [==============================] - 0s 174ms/step\n"
     ]
    }
   ],
   "source": [
    "import numpy as np\n",
    "test_img = tf.keras.preprocessing.image.load_img(\"C:/Users/tze/OneDrive/ML_BOOTCAMP/DEEP LEARNING/xray_dataset_covid19/predict.jpg\", grayscale = True,  target_size = (64,64))\n",
    "test_img = tf.keras.preprocessing.image.img_to_array(test_img)\n",
    "test_img = np.expand_dims(test_img, axis = 0)\n",
    "prediction = cnn.predict(test_img)"
   ]
  },
  {
   "cell_type": "markdown",
   "id": "f80af351",
   "metadata": {},
   "source": [
    "#### Output configuration "
   ]
  },
  {
   "cell_type": "code",
   "execution_count": 16,
   "id": "046d24ba",
   "metadata": {},
   "outputs": [
    {
     "name": "stdout",
     "output_type": "stream",
     "text": [
      "This is a normal patient\n"
     ]
    }
   ],
   "source": [
    "training_set.class_indices\n",
    "if prediction[0][0] == 1:\n",
    "    value = 'This is a normal patient'\n",
    "else:\n",
    "    value = 'This is a pneumonia patient'\n",
    "\n",
    "print(value)"
   ]
  }
 ],
 "metadata": {
  "kernelspec": {
   "display_name": "Python 3 (ipykernel)",
   "language": "python",
   "name": "python3"
  },
  "language_info": {
   "codemirror_mode": {
    "name": "ipython",
    "version": 3
   },
   "file_extension": ".py",
   "mimetype": "text/x-python",
   "name": "python",
   "nbconvert_exporter": "python",
   "pygments_lexer": "ipython3",
   "version": "3.9.13"
  }
 },
 "nbformat": 4,
 "nbformat_minor": 5
}

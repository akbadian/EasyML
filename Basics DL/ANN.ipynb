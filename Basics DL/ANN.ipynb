{
 "cells": [
  {
   "cell_type": "markdown",
   "id": "2c1ba425",
   "metadata": {},
   "source": [
    "***"
   ]
  },
  {
   "cell_type": "markdown",
   "id": "01ff3059",
   "metadata": {},
   "source": [
    "## Artificial Neural Network ( ANN)"
   ]
  },
  {
   "cell_type": "markdown",
   "id": "1fb0e838",
   "metadata": {},
   "source": [
    "***\n"
   ]
  },
  {
   "cell_type": "markdown",
   "id": "f3fb3c7d",
   "metadata": {},
   "source": [
    "### Data Preprocessing"
   ]
  },
  {
   "cell_type": "markdown",
   "id": "691f5f9b",
   "metadata": {},
   "source": [
    "#### Importing libraries"
   ]
  },
  {
   "cell_type": "code",
   "execution_count": 1,
   "id": "957b6a79",
   "metadata": {},
   "outputs": [],
   "source": [
    "import pandas as pd\n",
    "import numpy as np \n",
    "import tensorflow as tf"
   ]
  },
  {
   "cell_type": "markdown",
   "id": "3b164083",
   "metadata": {},
   "source": [
    "#### Importing dataset"
   ]
  },
  {
   "cell_type": "code",
   "execution_count": 2,
   "id": "1ea8c3e9",
   "metadata": {
    "scrolled": true
   },
   "outputs": [
    {
     "data": {
      "text/html": [
       "<div>\n",
       "<style scoped>\n",
       "    .dataframe tbody tr th:only-of-type {\n",
       "        vertical-align: middle;\n",
       "    }\n",
       "\n",
       "    .dataframe tbody tr th {\n",
       "        vertical-align: top;\n",
       "    }\n",
       "\n",
       "    .dataframe thead th {\n",
       "        text-align: right;\n",
       "    }\n",
       "</style>\n",
       "<table border=\"1\" class=\"dataframe\">\n",
       "  <thead>\n",
       "    <tr style=\"text-align: right;\">\n",
       "      <th></th>\n",
       "      <th>RowNumber</th>\n",
       "      <th>CustomerId</th>\n",
       "      <th>Surname</th>\n",
       "      <th>CreditScore</th>\n",
       "      <th>Geography</th>\n",
       "      <th>Gender</th>\n",
       "      <th>Age</th>\n",
       "      <th>Tenure</th>\n",
       "      <th>Balance</th>\n",
       "      <th>NumOfProducts</th>\n",
       "      <th>HasCrCard</th>\n",
       "      <th>IsActiveMember</th>\n",
       "      <th>EstimatedSalary</th>\n",
       "      <th>Exited</th>\n",
       "    </tr>\n",
       "  </thead>\n",
       "  <tbody>\n",
       "    <tr>\n",
       "      <th>0</th>\n",
       "      <td>1</td>\n",
       "      <td>15634602</td>\n",
       "      <td>Hargrave</td>\n",
       "      <td>619</td>\n",
       "      <td>France</td>\n",
       "      <td>Female</td>\n",
       "      <td>42</td>\n",
       "      <td>2</td>\n",
       "      <td>0.00</td>\n",
       "      <td>1</td>\n",
       "      <td>1</td>\n",
       "      <td>1</td>\n",
       "      <td>101348.88</td>\n",
       "      <td>1</td>\n",
       "    </tr>\n",
       "    <tr>\n",
       "      <th>1</th>\n",
       "      <td>2</td>\n",
       "      <td>15647311</td>\n",
       "      <td>Hill</td>\n",
       "      <td>608</td>\n",
       "      <td>Spain</td>\n",
       "      <td>Female</td>\n",
       "      <td>41</td>\n",
       "      <td>1</td>\n",
       "      <td>83807.86</td>\n",
       "      <td>1</td>\n",
       "      <td>0</td>\n",
       "      <td>1</td>\n",
       "      <td>112542.58</td>\n",
       "      <td>0</td>\n",
       "    </tr>\n",
       "    <tr>\n",
       "      <th>2</th>\n",
       "      <td>3</td>\n",
       "      <td>15619304</td>\n",
       "      <td>Onio</td>\n",
       "      <td>502</td>\n",
       "      <td>France</td>\n",
       "      <td>Female</td>\n",
       "      <td>42</td>\n",
       "      <td>8</td>\n",
       "      <td>159660.80</td>\n",
       "      <td>3</td>\n",
       "      <td>1</td>\n",
       "      <td>0</td>\n",
       "      <td>113931.57</td>\n",
       "      <td>1</td>\n",
       "    </tr>\n",
       "    <tr>\n",
       "      <th>3</th>\n",
       "      <td>4</td>\n",
       "      <td>15701354</td>\n",
       "      <td>Boni</td>\n",
       "      <td>699</td>\n",
       "      <td>France</td>\n",
       "      <td>Female</td>\n",
       "      <td>39</td>\n",
       "      <td>1</td>\n",
       "      <td>0.00</td>\n",
       "      <td>2</td>\n",
       "      <td>0</td>\n",
       "      <td>0</td>\n",
       "      <td>93826.63</td>\n",
       "      <td>0</td>\n",
       "    </tr>\n",
       "    <tr>\n",
       "      <th>4</th>\n",
       "      <td>5</td>\n",
       "      <td>15737888</td>\n",
       "      <td>Mitchell</td>\n",
       "      <td>850</td>\n",
       "      <td>Spain</td>\n",
       "      <td>Female</td>\n",
       "      <td>43</td>\n",
       "      <td>2</td>\n",
       "      <td>125510.82</td>\n",
       "      <td>1</td>\n",
       "      <td>1</td>\n",
       "      <td>1</td>\n",
       "      <td>79084.10</td>\n",
       "      <td>0</td>\n",
       "    </tr>\n",
       "  </tbody>\n",
       "</table>\n",
       "</div>"
      ],
      "text/plain": [
       "   RowNumber  CustomerId   Surname  CreditScore Geography  Gender  Age  \\\n",
       "0          1    15634602  Hargrave          619    France  Female   42   \n",
       "1          2    15647311      Hill          608     Spain  Female   41   \n",
       "2          3    15619304      Onio          502    France  Female   42   \n",
       "3          4    15701354      Boni          699    France  Female   39   \n",
       "4          5    15737888  Mitchell          850     Spain  Female   43   \n",
       "\n",
       "   Tenure    Balance  NumOfProducts  HasCrCard  IsActiveMember  \\\n",
       "0       2       0.00              1          1               1   \n",
       "1       1   83807.86              1          0               1   \n",
       "2       8  159660.80              3          1               0   \n",
       "3       1       0.00              2          0               0   \n",
       "4       2  125510.82              1          1               1   \n",
       "\n",
       "   EstimatedSalary  Exited  \n",
       "0        101348.88       1  \n",
       "1        112542.58       0  \n",
       "2        113931.57       1  \n",
       "3         93826.63       0  \n",
       "4         79084.10       0  "
      ]
     },
     "execution_count": 2,
     "metadata": {},
     "output_type": "execute_result"
    },
    {
     "data": {
      "text/html": [
       "<div>\n",
       "<style scoped>\n",
       "    .dataframe tbody tr th:only-of-type {\n",
       "        vertical-align: middle;\n",
       "    }\n",
       "\n",
       "    .dataframe tbody tr th {\n",
       "        vertical-align: top;\n",
       "    }\n",
       "\n",
       "    .dataframe thead th {\n",
       "        text-align: right;\n",
       "    }\n",
       "</style>\n",
       "<table border=\"1\" class=\"dataframe\">\n",
       "  <thead>\n",
       "    <tr style=\"text-align: right;\">\n",
       "      <th></th>\n",
       "      <th>RowNumber</th>\n",
       "      <th>CustomerId</th>\n",
       "      <th>Surname</th>\n",
       "      <th>CreditScore</th>\n",
       "      <th>Geography</th>\n",
       "      <th>Gender</th>\n",
       "      <th>Age</th>\n",
       "      <th>Tenure</th>\n",
       "      <th>Balance</th>\n",
       "      <th>NumOfProducts</th>\n",
       "      <th>HasCrCard</th>\n",
       "      <th>IsActiveMember</th>\n",
       "      <th>EstimatedSalary</th>\n",
       "      <th>Exited</th>\n",
       "    </tr>\n",
       "  </thead>\n",
       "  <tbody>\n",
       "    <tr>\n",
       "      <th>0</th>\n",
       "      <td>1</td>\n",
       "      <td>15634602</td>\n",
       "      <td>Hargrave</td>\n",
       "      <td>619</td>\n",
       "      <td>France</td>\n",
       "      <td>Female</td>\n",
       "      <td>42</td>\n",
       "      <td>2</td>\n",
       "      <td>0.00</td>\n",
       "      <td>1</td>\n",
       "      <td>1</td>\n",
       "      <td>1</td>\n",
       "      <td>101348.88</td>\n",
       "      <td>1</td>\n",
       "    </tr>\n",
       "    <tr>\n",
       "      <th>1</th>\n",
       "      <td>2</td>\n",
       "      <td>15647311</td>\n",
       "      <td>Hill</td>\n",
       "      <td>608</td>\n",
       "      <td>Spain</td>\n",
       "      <td>Female</td>\n",
       "      <td>41</td>\n",
       "      <td>1</td>\n",
       "      <td>83807.86</td>\n",
       "      <td>1</td>\n",
       "      <td>0</td>\n",
       "      <td>1</td>\n",
       "      <td>112542.58</td>\n",
       "      <td>0</td>\n",
       "    </tr>\n",
       "    <tr>\n",
       "      <th>2</th>\n",
       "      <td>3</td>\n",
       "      <td>15619304</td>\n",
       "      <td>Onio</td>\n",
       "      <td>502</td>\n",
       "      <td>France</td>\n",
       "      <td>Female</td>\n",
       "      <td>42</td>\n",
       "      <td>8</td>\n",
       "      <td>159660.80</td>\n",
       "      <td>3</td>\n",
       "      <td>1</td>\n",
       "      <td>0</td>\n",
       "      <td>113931.57</td>\n",
       "      <td>1</td>\n",
       "    </tr>\n",
       "    <tr>\n",
       "      <th>3</th>\n",
       "      <td>4</td>\n",
       "      <td>15701354</td>\n",
       "      <td>Boni</td>\n",
       "      <td>699</td>\n",
       "      <td>France</td>\n",
       "      <td>Female</td>\n",
       "      <td>39</td>\n",
       "      <td>1</td>\n",
       "      <td>0.00</td>\n",
       "      <td>2</td>\n",
       "      <td>0</td>\n",
       "      <td>0</td>\n",
       "      <td>93826.63</td>\n",
       "      <td>0</td>\n",
       "    </tr>\n",
       "    <tr>\n",
       "      <th>4</th>\n",
       "      <td>5</td>\n",
       "      <td>15737888</td>\n",
       "      <td>Mitchell</td>\n",
       "      <td>850</td>\n",
       "      <td>Spain</td>\n",
       "      <td>Female</td>\n",
       "      <td>43</td>\n",
       "      <td>2</td>\n",
       "      <td>125510.82</td>\n",
       "      <td>1</td>\n",
       "      <td>1</td>\n",
       "      <td>1</td>\n",
       "      <td>79084.10</td>\n",
       "      <td>0</td>\n",
       "    </tr>\n",
       "  </tbody>\n",
       "</table>\n",
       "</div>"
      ],
      "text/plain": [
       "   RowNumber  CustomerId   Surname  CreditScore Geography  Gender  Age  \\\n",
       "0          1    15634602  Hargrave          619    France  Female   42   \n",
       "1          2    15647311      Hill          608     Spain  Female   41   \n",
       "2          3    15619304      Onio          502    France  Female   42   \n",
       "3          4    15701354      Boni          699    France  Female   39   \n",
       "4          5    15737888  Mitchell          850     Spain  Female   43   \n",
       "\n",
       "   Tenure    Balance  NumOfProducts  HasCrCard  IsActiveMember  \\\n",
       "0       2       0.00              1          1               1   \n",
       "1       1   83807.86              1          0               1   \n",
       "2       8  159660.80              3          1               0   \n",
       "3       1       0.00              2          0               0   \n",
       "4       2  125510.82              1          1               1   \n",
       "\n",
       "   EstimatedSalary  Exited  \n",
       "0        101348.88       1  \n",
       "1        112542.58       0  \n",
       "2        113931.57       1  \n",
       "3         93826.63       0  \n",
       "4         79084.10       0  "
      ]
     },
     "execution_count": 2,
     "metadata": {},
     "output_type": "execute_result"
    },
    {
     "data": {
      "text/html": [
       "<div>\n",
       "<style scoped>\n",
       "    .dataframe tbody tr th:only-of-type {\n",
       "        vertical-align: middle;\n",
       "    }\n",
       "\n",
       "    .dataframe tbody tr th {\n",
       "        vertical-align: top;\n",
       "    }\n",
       "\n",
       "    .dataframe thead th {\n",
       "        text-align: right;\n",
       "    }\n",
       "</style>\n",
       "<table border=\"1\" class=\"dataframe\">\n",
       "  <thead>\n",
       "    <tr style=\"text-align: right;\">\n",
       "      <th></th>\n",
       "      <th>RowNumber</th>\n",
       "      <th>CustomerId</th>\n",
       "      <th>Surname</th>\n",
       "      <th>CreditScore</th>\n",
       "      <th>Geography</th>\n",
       "      <th>Gender</th>\n",
       "      <th>Age</th>\n",
       "      <th>Tenure</th>\n",
       "      <th>Balance</th>\n",
       "      <th>NumOfProducts</th>\n",
       "      <th>HasCrCard</th>\n",
       "      <th>IsActiveMember</th>\n",
       "      <th>EstimatedSalary</th>\n",
       "      <th>Exited</th>\n",
       "    </tr>\n",
       "  </thead>\n",
       "  <tbody>\n",
       "    <tr>\n",
       "      <th>0</th>\n",
       "      <td>1</td>\n",
       "      <td>15634602</td>\n",
       "      <td>Hargrave</td>\n",
       "      <td>619</td>\n",
       "      <td>France</td>\n",
       "      <td>Female</td>\n",
       "      <td>42</td>\n",
       "      <td>2</td>\n",
       "      <td>0.00</td>\n",
       "      <td>1</td>\n",
       "      <td>1</td>\n",
       "      <td>1</td>\n",
       "      <td>101348.88</td>\n",
       "      <td>1</td>\n",
       "    </tr>\n",
       "    <tr>\n",
       "      <th>1</th>\n",
       "      <td>2</td>\n",
       "      <td>15647311</td>\n",
       "      <td>Hill</td>\n",
       "      <td>608</td>\n",
       "      <td>Spain</td>\n",
       "      <td>Female</td>\n",
       "      <td>41</td>\n",
       "      <td>1</td>\n",
       "      <td>83807.86</td>\n",
       "      <td>1</td>\n",
       "      <td>0</td>\n",
       "      <td>1</td>\n",
       "      <td>112542.58</td>\n",
       "      <td>0</td>\n",
       "    </tr>\n",
       "    <tr>\n",
       "      <th>2</th>\n",
       "      <td>3</td>\n",
       "      <td>15619304</td>\n",
       "      <td>Onio</td>\n",
       "      <td>502</td>\n",
       "      <td>France</td>\n",
       "      <td>Female</td>\n",
       "      <td>42</td>\n",
       "      <td>8</td>\n",
       "      <td>159660.80</td>\n",
       "      <td>3</td>\n",
       "      <td>1</td>\n",
       "      <td>0</td>\n",
       "      <td>113931.57</td>\n",
       "      <td>1</td>\n",
       "    </tr>\n",
       "    <tr>\n",
       "      <th>3</th>\n",
       "      <td>4</td>\n",
       "      <td>15701354</td>\n",
       "      <td>Boni</td>\n",
       "      <td>699</td>\n",
       "      <td>France</td>\n",
       "      <td>Female</td>\n",
       "      <td>39</td>\n",
       "      <td>1</td>\n",
       "      <td>0.00</td>\n",
       "      <td>2</td>\n",
       "      <td>0</td>\n",
       "      <td>0</td>\n",
       "      <td>93826.63</td>\n",
       "      <td>0</td>\n",
       "    </tr>\n",
       "    <tr>\n",
       "      <th>4</th>\n",
       "      <td>5</td>\n",
       "      <td>15737888</td>\n",
       "      <td>Mitchell</td>\n",
       "      <td>850</td>\n",
       "      <td>Spain</td>\n",
       "      <td>Female</td>\n",
       "      <td>43</td>\n",
       "      <td>2</td>\n",
       "      <td>125510.82</td>\n",
       "      <td>1</td>\n",
       "      <td>1</td>\n",
       "      <td>1</td>\n",
       "      <td>79084.10</td>\n",
       "      <td>0</td>\n",
       "    </tr>\n",
       "  </tbody>\n",
       "</table>\n",
       "</div>"
      ],
      "text/plain": [
       "   RowNumber  CustomerId   Surname  CreditScore Geography  Gender  Age  \\\n",
       "0          1    15634602  Hargrave          619    France  Female   42   \n",
       "1          2    15647311      Hill          608     Spain  Female   41   \n",
       "2          3    15619304      Onio          502    France  Female   42   \n",
       "3          4    15701354      Boni          699    France  Female   39   \n",
       "4          5    15737888  Mitchell          850     Spain  Female   43   \n",
       "\n",
       "   Tenure    Balance  NumOfProducts  HasCrCard  IsActiveMember  \\\n",
       "0       2       0.00              1          1               1   \n",
       "1       1   83807.86              1          0               1   \n",
       "2       8  159660.80              3          1               0   \n",
       "3       1       0.00              2          0               0   \n",
       "4       2  125510.82              1          1               1   \n",
       "\n",
       "   EstimatedSalary  Exited  \n",
       "0        101348.88       1  \n",
       "1        112542.58       0  \n",
       "2        113931.57       1  \n",
       "3         93826.63       0  \n",
       "4         79084.10       0  "
      ]
     },
     "execution_count": 2,
     "metadata": {},
     "output_type": "execute_result"
    },
    {
     "data": {
      "text/html": [
       "<div>\n",
       "<style scoped>\n",
       "    .dataframe tbody tr th:only-of-type {\n",
       "        vertical-align: middle;\n",
       "    }\n",
       "\n",
       "    .dataframe tbody tr th {\n",
       "        vertical-align: top;\n",
       "    }\n",
       "\n",
       "    .dataframe thead th {\n",
       "        text-align: right;\n",
       "    }\n",
       "</style>\n",
       "<table border=\"1\" class=\"dataframe\">\n",
       "  <thead>\n",
       "    <tr style=\"text-align: right;\">\n",
       "      <th></th>\n",
       "      <th>RowNumber</th>\n",
       "      <th>CustomerId</th>\n",
       "      <th>Surname</th>\n",
       "      <th>CreditScore</th>\n",
       "      <th>Geography</th>\n",
       "      <th>Gender</th>\n",
       "      <th>Age</th>\n",
       "      <th>Tenure</th>\n",
       "      <th>Balance</th>\n",
       "      <th>NumOfProducts</th>\n",
       "      <th>HasCrCard</th>\n",
       "      <th>IsActiveMember</th>\n",
       "      <th>EstimatedSalary</th>\n",
       "      <th>Exited</th>\n",
       "    </tr>\n",
       "  </thead>\n",
       "  <tbody>\n",
       "    <tr>\n",
       "      <th>0</th>\n",
       "      <td>1</td>\n",
       "      <td>15634602</td>\n",
       "      <td>Hargrave</td>\n",
       "      <td>619</td>\n",
       "      <td>France</td>\n",
       "      <td>Female</td>\n",
       "      <td>42</td>\n",
       "      <td>2</td>\n",
       "      <td>0.00</td>\n",
       "      <td>1</td>\n",
       "      <td>1</td>\n",
       "      <td>1</td>\n",
       "      <td>101348.88</td>\n",
       "      <td>1</td>\n",
       "    </tr>\n",
       "    <tr>\n",
       "      <th>1</th>\n",
       "      <td>2</td>\n",
       "      <td>15647311</td>\n",
       "      <td>Hill</td>\n",
       "      <td>608</td>\n",
       "      <td>Spain</td>\n",
       "      <td>Female</td>\n",
       "      <td>41</td>\n",
       "      <td>1</td>\n",
       "      <td>83807.86</td>\n",
       "      <td>1</td>\n",
       "      <td>0</td>\n",
       "      <td>1</td>\n",
       "      <td>112542.58</td>\n",
       "      <td>0</td>\n",
       "    </tr>\n",
       "    <tr>\n",
       "      <th>2</th>\n",
       "      <td>3</td>\n",
       "      <td>15619304</td>\n",
       "      <td>Onio</td>\n",
       "      <td>502</td>\n",
       "      <td>France</td>\n",
       "      <td>Female</td>\n",
       "      <td>42</td>\n",
       "      <td>8</td>\n",
       "      <td>159660.80</td>\n",
       "      <td>3</td>\n",
       "      <td>1</td>\n",
       "      <td>0</td>\n",
       "      <td>113931.57</td>\n",
       "      <td>1</td>\n",
       "    </tr>\n",
       "    <tr>\n",
       "      <th>3</th>\n",
       "      <td>4</td>\n",
       "      <td>15701354</td>\n",
       "      <td>Boni</td>\n",
       "      <td>699</td>\n",
       "      <td>France</td>\n",
       "      <td>Female</td>\n",
       "      <td>39</td>\n",
       "      <td>1</td>\n",
       "      <td>0.00</td>\n",
       "      <td>2</td>\n",
       "      <td>0</td>\n",
       "      <td>0</td>\n",
       "      <td>93826.63</td>\n",
       "      <td>0</td>\n",
       "    </tr>\n",
       "    <tr>\n",
       "      <th>4</th>\n",
       "      <td>5</td>\n",
       "      <td>15737888</td>\n",
       "      <td>Mitchell</td>\n",
       "      <td>850</td>\n",
       "      <td>Spain</td>\n",
       "      <td>Female</td>\n",
       "      <td>43</td>\n",
       "      <td>2</td>\n",
       "      <td>125510.82</td>\n",
       "      <td>1</td>\n",
       "      <td>1</td>\n",
       "      <td>1</td>\n",
       "      <td>79084.10</td>\n",
       "      <td>0</td>\n",
       "    </tr>\n",
       "  </tbody>\n",
       "</table>\n",
       "</div>"
      ],
      "text/plain": [
       "   RowNumber  CustomerId   Surname  CreditScore Geography  Gender  Age  \\\n",
       "0          1    15634602  Hargrave          619    France  Female   42   \n",
       "1          2    15647311      Hill          608     Spain  Female   41   \n",
       "2          3    15619304      Onio          502    France  Female   42   \n",
       "3          4    15701354      Boni          699    France  Female   39   \n",
       "4          5    15737888  Mitchell          850     Spain  Female   43   \n",
       "\n",
       "   Tenure    Balance  NumOfProducts  HasCrCard  IsActiveMember  \\\n",
       "0       2       0.00              1          1               1   \n",
       "1       1   83807.86              1          0               1   \n",
       "2       8  159660.80              3          1               0   \n",
       "3       1       0.00              2          0               0   \n",
       "4       2  125510.82              1          1               1   \n",
       "\n",
       "   EstimatedSalary  Exited  \n",
       "0        101348.88       1  \n",
       "1        112542.58       0  \n",
       "2        113931.57       1  \n",
       "3         93826.63       0  \n",
       "4         79084.10       0  "
      ]
     },
     "execution_count": 2,
     "metadata": {},
     "output_type": "execute_result"
    }
   ],
   "source": [
    "df = pd.read_csv(\"C:/Users/tze/OneDrive/ML_BOOTCAMP/Machine Learning A-Z (Codes and Datasets)/Part 8 - Deep Learning/Section 39 - Artificial Neural Networks (ANN)/Python/Churn_Modelling.csv\")\n",
    "df.head()"
   ]
  },
  {
   "cell_type": "markdown",
   "id": "9db0db54",
   "metadata": {},
   "source": [
    "#### features extraction"
   ]
  },
  {
   "cell_type": "code",
   "execution_count": 3,
   "id": "6231cf25",
   "metadata": {},
   "outputs": [],
   "source": [
    "X = df.iloc[:, 3:-1].values\n",
    "y = df.iloc[:, -1].values"
   ]
  },
  {
   "cell_type": "markdown",
   "id": "dc7f006c",
   "metadata": {},
   "source": [
    "#### Features encoding"
   ]
  },
  {
   "cell_type": "markdown",
   "id": "73dd7a6c",
   "metadata": {},
   "source": [
    "#### - Label encoding \"Gender\""
   ]
  },
  {
   "cell_type": "code",
   "execution_count": 4,
   "id": "1dc22804",
   "metadata": {},
   "outputs": [],
   "source": [
    "from sklearn.preprocessing import LabelEncoder\n",
    "encoder = LabelEncoder()\n",
    "X[:, 2] = encoder.fit_transform(X[:, 2])"
   ]
  },
  {
   "cell_type": "markdown",
   "id": "971de4a4",
   "metadata": {},
   "source": [
    "#### - One Hot Encoder for 'Geograpy'"
   ]
  },
  {
   "cell_type": "code",
   "execution_count": 5,
   "id": "98e05f8c",
   "metadata": {},
   "outputs": [],
   "source": [
    "from sklearn.compose import ColumnTransformer\n",
    "from sklearn.preprocessing import OneHotEncoder\n",
    "transf = ColumnTransformer(transformers = [('encoder', OneHotEncoder(), [1])], remainder = 'passthrough')\n",
    "X = np.array(transf.fit_transform(X))"
   ]
  },
  {
   "cell_type": "markdown",
   "id": "560adddf",
   "metadata": {},
   "source": [
    "#### Splitting the dataset"
   ]
  },
  {
   "cell_type": "code",
   "execution_count": 6,
   "id": "53a1ff0f",
   "metadata": {},
   "outputs": [],
   "source": [
    "from sklearn.model_selection import train_test_split\n",
    "X_train, X_test, y_train, y_test = train_test_split(X, y, test_size = 0.25, random_state = 42)"
   ]
  },
  {
   "cell_type": "markdown",
   "id": "c81af202",
   "metadata": {},
   "source": [
    "#### Feature scaling"
   ]
  },
  {
   "cell_type": "code",
   "execution_count": 7,
   "id": "bf0947de",
   "metadata": {},
   "outputs": [],
   "source": [
    "from sklearn.preprocessing import StandardScaler\n",
    "sc = StandardScaler()\n",
    "X_train = sc.fit_transform(X_train)\n",
    "X_test = sc.transform(X_test)"
   ]
  },
  {
   "cell_type": "markdown",
   "id": "736f3bd9",
   "metadata": {},
   "source": [
    "### Building ANN"
   ]
  },
  {
   "cell_type": "markdown",
   "id": "ae13e3e5",
   "metadata": {},
   "source": [
    "#### Initializing the ANN"
   ]
  },
  {
   "cell_type": "markdown",
   "id": "79c30050",
   "metadata": {},
   "source": [
    "ANNs are created with <code>Tensorflow</code> library, specially with the <code>Keras</code> class and his method <code>Sequential()</code>"
   ]
  },
  {
   "cell_type": "code",
   "execution_count": 8,
   "id": "f1d57fbb",
   "metadata": {},
   "outputs": [],
   "source": [
    "ann = tf.keras.models.Sequential()"
   ]
  },
  {
   "cell_type": "markdown",
   "id": "0448d8dc",
   "metadata": {},
   "source": [
    "#### Adding input layers and first hidden layers"
   ]
  },
  {
   "cell_type": "markdown",
   "id": "83bdeb2c",
   "metadata": {},
   "source": [
    "With the <code>add()</code> method of <code>tf.keras</code> we're able to build layers whatever it is: input layers, output layers and even hidden ones.<br>\n",
    "Also building layer requires another tensorflow method taking as main hyperparameters the number of layers and the activation function.<br>\n",
    "In most of case the number of input layers is equal to the number of independant variables and the number of output layers is equal to the number of class of the dependant variables."
   ]
  },
  {
   "cell_type": "code",
   "execution_count": 9,
   "id": "9980ff1f",
   "metadata": {},
   "outputs": [],
   "source": [
    "ann.add(tf.keras.layers.Dense(units = 6, activation = 'relu'))"
   ]
  },
  {
   "cell_type": "markdown",
   "id": "ae04155c",
   "metadata": {},
   "source": [
    "#### Adding second hidden layer"
   ]
  },
  {
   "cell_type": "code",
   "execution_count": 10,
   "id": "3be57634",
   "metadata": {},
   "outputs": [],
   "source": [
    "ann.add(tf.keras.layers.Dense(units = 6, activation = 'relu'))"
   ]
  },
  {
   "cell_type": "markdown",
   "id": "149dad08",
   "metadata": {},
   "source": [
    "#### Adding the output layer"
   ]
  },
  {
   "cell_type": "code",
   "execution_count": 11,
   "id": "e3201fb6",
   "metadata": {},
   "outputs": [],
   "source": [
    "ann.add(tf.keras.layers.Dense(units = 1, activation = 'sigmoid'))"
   ]
  },
  {
   "cell_type": "markdown",
   "id": "bcab5aa2",
   "metadata": {},
   "source": [
    "### Training the ANNs "
   ]
  },
  {
   "cell_type": "markdown",
   "id": "62d007fe",
   "metadata": {},
   "source": [
    "#### Compiling the ANN"
   ]
  },
  {
   "cell_type": "markdown",
   "id": "9f42bc03",
   "metadata": {},
   "source": [
    "Here we are using binary cross-entropy as loss function because we're doing a binary classification.<br>\n",
    "If we were doing non-binary classification we would use categorical cross-entropy as loss function."
   ]
  },
  {
   "cell_type": "markdown",
   "id": "b7472553",
   "metadata": {},
   "source": [
    "Optimizer is an algorithm which update the NNs on purpose to upgrade weights and reduce loss function. Here we use the <code>adam optimizer</code> which is an adaptive optimise made by combination of others optimizers. "
   ]
  },
  {
   "cell_type": "code",
   "execution_count": 12,
   "id": "4c5e8146",
   "metadata": {},
   "outputs": [],
   "source": [
    "ann.compile(optimizer = 'adam', loss = 'binary_crossentropy', metrics = ['accuracy'])"
   ]
  },
  {
   "cell_type": "markdown",
   "id": "8ad22840",
   "metadata": {},
   "source": [
    "#### Fitting the model"
   ]
  },
  {
   "cell_type": "code",
   "execution_count": 13,
   "id": "89b524a7",
   "metadata": {},
   "outputs": [
    {
     "name": "stdout",
     "output_type": "stream",
     "text": [
      "Epoch 1/50\n",
      "Epoch 1/50\n",
      "Epoch 1/50\n",
      "Epoch 1/50\n",
      "235/235 [==============================] - 3s 4ms/step - loss: 0.6683 - accuracy: 0.6099\n",
      "235/235 [==============================] - 3s 4ms/step - loss: 0.6683 - accuracy: 0.6099\n",
      "235/235 [==============================] - 3s 4ms/step - loss: 0.6683 - accuracy: 0.6099\n",
      "235/235 [==============================] - 3s 4ms/step - loss: 0.6683 - accuracy: 0.6099\n",
      "Epoch 2/50\n",
      "Epoch 2/50\n",
      "Epoch 2/50\n",
      "Epoch 2/50\n",
      "235/235 [==============================] - 1s 5ms/step - loss: 0.4845 - accuracy: 0.7949\n",
      "235/235 [==============================] - 1s 5ms/step - loss: 0.4845 - accuracy: 0.7949\n",
      "235/235 [==============================] - 1s 5ms/step - loss: 0.4845 - accuracy: 0.7949\n",
      "235/235 [==============================] - 1s 5ms/step - loss: 0.4845 - accuracy: 0.7949\n",
      "Epoch 3/50\n",
      "Epoch 3/50\n",
      "Epoch 3/50\n",
      "Epoch 3/50\n",
      "235/235 [==============================] - 1s 6ms/step - loss: 0.4444 - accuracy: 0.8045\n",
      "235/235 [==============================] - 1s 6ms/step - loss: 0.4444 - accuracy: 0.8045\n",
      "235/235 [==============================] - 1s 6ms/step - loss: 0.4444 - accuracy: 0.8045\n",
      "235/235 [==============================] - 1s 6ms/step - loss: 0.4444 - accuracy: 0.8045\n",
      "Epoch 4/50\n",
      "Epoch 4/50\n",
      "Epoch 4/50\n",
      "Epoch 4/50\n",
      "235/235 [==============================] - 2s 7ms/step - loss: 0.4234 - accuracy: 0.8151\n",
      "235/235 [==============================] - 2s 7ms/step - loss: 0.4234 - accuracy: 0.8151\n",
      "235/235 [==============================] - 2s 7ms/step - loss: 0.4234 - accuracy: 0.8151\n",
      "235/235 [==============================] - 2s 7ms/step - loss: 0.4234 - accuracy: 0.8151\n",
      "Epoch 5/50\n",
      "Epoch 5/50\n",
      "Epoch 5/50\n",
      "Epoch 5/50\n",
      "235/235 [==============================] - 2s 6ms/step - loss: 0.4093 - accuracy: 0.8257\n",
      "235/235 [==============================] - 2s 6ms/step - loss: 0.4093 - accuracy: 0.8257\n",
      "235/235 [==============================] - 2s 6ms/step - loss: 0.4093 - accuracy: 0.8257\n",
      "235/235 [==============================] - 2s 6ms/step - loss: 0.4093 - accuracy: 0.8257\n",
      "Epoch 6/50\n",
      "Epoch 6/50\n",
      "Epoch 6/50\n",
      "Epoch 6/50\n",
      "235/235 [==============================] - 1s 4ms/step - loss: 0.3975 - accuracy: 0.8320\n",
      "235/235 [==============================] - 1s 4ms/step - loss: 0.3975 - accuracy: 0.8320\n",
      "235/235 [==============================] - 1s 4ms/step - loss: 0.3975 - accuracy: 0.8320\n",
      "235/235 [==============================] - 1s 4ms/step - loss: 0.3975 - accuracy: 0.8320\n",
      "Epoch 7/50\n",
      "Epoch 7/50\n",
      "Epoch 7/50\n",
      "Epoch 7/50\n",
      "235/235 [==============================] - 1s 6ms/step - loss: 0.3871 - accuracy: 0.8385\n",
      "235/235 [==============================] - 1s 6ms/step - loss: 0.3871 - accuracy: 0.8385\n",
      "235/235 [==============================] - 1s 6ms/step - loss: 0.3871 - accuracy: 0.8385\n",
      "235/235 [==============================] - 1s 6ms/step - loss: 0.3871 - accuracy: 0.8385\n",
      "Epoch 8/50\n",
      "Epoch 8/50\n",
      "Epoch 8/50\n",
      "Epoch 8/50\n",
      "235/235 [==============================] - 1s 5ms/step - loss: 0.3784 - accuracy: 0.8415\n",
      "235/235 [==============================] - 1s 5ms/step - loss: 0.3784 - accuracy: 0.8415\n",
      "235/235 [==============================] - 1s 5ms/step - loss: 0.3784 - accuracy: 0.8415\n",
      "235/235 [==============================] - 1s 5ms/step - loss: 0.3784 - accuracy: 0.8415\n",
      "Epoch 9/50\n",
      "Epoch 9/50\n",
      "Epoch 9/50\n",
      "Epoch 9/50\n",
      "235/235 [==============================] - 1s 5ms/step - loss: 0.3713 - accuracy: 0.8435\n",
      "235/235 [==============================] - 1s 5ms/step - loss: 0.3713 - accuracy: 0.8435\n",
      "235/235 [==============================] - 1s 5ms/step - loss: 0.3713 - accuracy: 0.8435\n",
      "235/235 [==============================] - 1s 5ms/step - loss: 0.3713 - accuracy: 0.8435\n",
      "Epoch 10/50\n",
      "Epoch 10/50\n",
      "Epoch 10/50\n",
      "Epoch 10/50\n",
      "235/235 [==============================] - 1s 5ms/step - loss: 0.3660 - accuracy: 0.8447\n",
      "235/235 [==============================] - 1s 5ms/step - loss: 0.3660 - accuracy: 0.8447\n",
      "235/235 [==============================] - 1s 5ms/step - loss: 0.3660 - accuracy: 0.8447\n",
      "235/235 [==============================] - 1s 5ms/step - loss: 0.3660 - accuracy: 0.8447\n",
      "Epoch 11/50\n",
      "Epoch 11/50\n",
      "Epoch 11/50\n",
      "Epoch 11/50\n",
      "235/235 [==============================] - 1s 5ms/step - loss: 0.3615 - accuracy: 0.8460\n",
      "235/235 [==============================] - 1s 5ms/step - loss: 0.3615 - accuracy: 0.8460\n",
      "235/235 [==============================] - 1s 5ms/step - loss: 0.3615 - accuracy: 0.8460\n",
      "235/235 [==============================] - 1s 5ms/step - loss: 0.3615 - accuracy: 0.8460\n",
      "Epoch 12/50\n",
      "Epoch 12/50\n",
      "Epoch 12/50\n",
      "Epoch 12/50\n",
      "235/235 [==============================] - 2s 7ms/step - loss: 0.3579 - accuracy: 0.8489\n",
      "235/235 [==============================] - 2s 7ms/step - loss: 0.3579 - accuracy: 0.8489\n",
      "235/235 [==============================] - 2s 7ms/step - loss: 0.3579 - accuracy: 0.8489\n",
      "235/235 [==============================] - 2s 7ms/step - loss: 0.3579 - accuracy: 0.8489\n",
      "Epoch 13/50\n",
      "Epoch 13/50\n",
      "  1/235 [..............................] - ETA: 3s - loss: 0.2529 - accuracy: 0.9062Epoch 13/50\n",
      "  1/235 [..............................] - ETA: 3s - loss: 0.2529 - accuracy: 0.9062Epoch 13/50\n",
      "235/235 [==============================] - 1s 5ms/step - loss: 0.3547 - accuracy: 0.8507\n",
      "235/235 [==============================] - 1s 5ms/step - loss: 0.3547 - accuracy: 0.8507\n",
      "235/235 [==============================] - 1s 5ms/step - loss: 0.3547 - accuracy: 0.8507\n",
      "235/235 [==============================] - 1s 5ms/step - loss: 0.3547 - accuracy: 0.8507\n",
      "Epoch 14/50\n",
      "Epoch 14/50\n",
      "Epoch 14/50\n",
      "Epoch 14/50\n",
      "235/235 [==============================] - 1s 5ms/step - loss: 0.3524 - accuracy: 0.8525\n",
      "235/235 [==============================] - 1s 5ms/step - loss: 0.3524 - accuracy: 0.8525\n",
      "235/235 [==============================] - 1s 5ms/step - loss: 0.3524 - accuracy: 0.8525\n",
      "235/235 [==============================] - 1s 5ms/step - loss: 0.3524 - accuracy: 0.8525\n",
      "Epoch 15/50\n",
      "Epoch 15/50\n",
      "Epoch 15/50\n",
      "Epoch 15/50\n",
      "235/235 [==============================] - 1s 6ms/step - loss: 0.3496 - accuracy: 0.8539\n",
      "235/235 [==============================] - 1s 6ms/step - loss: 0.3496 - accuracy: 0.8539\n",
      "235/235 [==============================] - 1s 6ms/step - loss: 0.3496 - accuracy: 0.8539\n",
      "235/235 [==============================] - 1s 6ms/step - loss: 0.3496 - accuracy: 0.8539\n",
      "Epoch 16/50\n",
      "Epoch 16/50\n",
      "Epoch 16/50\n",
      "  1/235 [..............................] - ETA: 2s - loss: 0.4117 - accuracy: 0.8438Epoch 16/50\n",
      "235/235 [==============================] - 1s 5ms/step - loss: 0.3482 - accuracy: 0.8565\n",
      "235/235 [==============================] - 1s 5ms/step - loss: 0.3482 - accuracy: 0.8565\n",
      "235/235 [==============================] - 1s 5ms/step - loss: 0.3482 - accuracy: 0.8565\n",
      "235/235 [==============================] - 1s 5ms/step - loss: 0.3482 - accuracy: 0.8565\n",
      "Epoch 17/50\n",
      "Epoch 17/50\n",
      "Epoch 17/50\n",
      "Epoch 17/50\n",
      "235/235 [==============================] - 1s 5ms/step - loss: 0.3463 - accuracy: 0.8572\n",
      "235/235 [==============================] - 1s 5ms/step - loss: 0.3463 - accuracy: 0.8572\n",
      "235/235 [==============================] - 1s 5ms/step - loss: 0.3463 - accuracy: 0.8572\n",
      "235/235 [==============================] - 1s 5ms/step - loss: 0.3463 - accuracy: 0.8572\n",
      "Epoch 18/50\n",
      "Epoch 18/50\n",
      "Epoch 18/50\n",
      "Epoch 18/50\n",
      "235/235 [==============================] - 1s 5ms/step - loss: 0.3456 - accuracy: 0.8580\n",
      "235/235 [==============================] - 1s 5ms/step - loss: 0.3456 - accuracy: 0.8580\n",
      "235/235 [==============================] - 1s 5ms/step - loss: 0.3456 - accuracy: 0.8580\n",
      "235/235 [==============================] - 1s 5ms/step - loss: 0.3456 - accuracy: 0.8580\n",
      "Epoch 19/50\n",
      "Epoch 19/50\n",
      "Epoch 19/50\n",
      "Epoch 19/50\n",
      "235/235 [==============================] - 1s 5ms/step - loss: 0.3449 - accuracy: 0.8564\n",
      "235/235 [==============================] - 1s 5ms/step - loss: 0.3449 - accuracy: 0.8564\n",
      "235/235 [==============================] - 1s 5ms/step - loss: 0.3449 - accuracy: 0.8564\n",
      "235/235 [==============================] - 1s 5ms/step - loss: 0.3449 - accuracy: 0.8564\n",
      "Epoch 20/50\n",
      "Epoch 20/50\n",
      "Epoch 20/50\n",
      "Epoch 20/50\n",
      "235/235 [==============================] - 1s 5ms/step - loss: 0.3441 - accuracy: 0.8571\n",
      "235/235 [==============================] - 1s 5ms/step - loss: 0.3441 - accuracy: 0.8571\n",
      "235/235 [==============================] - 1s 5ms/step - loss: 0.3441 - accuracy: 0.8571\n"
     ]
    },
    {
     "name": "stdout",
     "output_type": "stream",
     "text": [
      "235/235 [==============================] - 1s 5ms/step - loss: 0.3441 - accuracy: 0.8571\n",
      "Epoch 21/50\n",
      "Epoch 21/50\n",
      "  1/235 [..............................] - ETA: 1s - loss: 0.4471 - accuracy: 0.8125Epoch 21/50\n",
      "  1/235 [..............................] - ETA: 1s - loss: 0.4471 - accuracy: 0.8125Epoch 21/50\n",
      "235/235 [==============================] - 1s 6ms/step - loss: 0.3432 - accuracy: 0.8584\n",
      "235/235 [==============================] - 1s 6ms/step - loss: 0.3432 - accuracy: 0.8584\n",
      "235/235 [==============================] - 1s 6ms/step - loss: 0.3432 - accuracy: 0.8584\n",
      "235/235 [==============================] - 1s 6ms/step - loss: 0.3432 - accuracy: 0.8584\n",
      "Epoch 22/50\n",
      "Epoch 22/50\n",
      "Epoch 22/50\n",
      "Epoch 22/50\n",
      "235/235 [==============================] - 2s 6ms/step - loss: 0.3429 - accuracy: 0.8583\n",
      "235/235 [==============================] - 2s 6ms/step - loss: 0.3429 - accuracy: 0.8583\n",
      "235/235 [==============================] - 2s 6ms/step - loss: 0.3429 - accuracy: 0.8583\n",
      "235/235 [==============================] - 2s 6ms/step - loss: 0.3429 - accuracy: 0.8583\n",
      "Epoch 23/50\n",
      "Epoch 23/50\n",
      "Epoch 23/50\n",
      "Epoch 23/50\n",
      "235/235 [==============================] - 2s 7ms/step - loss: 0.3423 - accuracy: 0.8595\n",
      "235/235 [==============================] - 2s 7ms/step - loss: 0.3423 - accuracy: 0.8595\n",
      "235/235 [==============================] - 2s 7ms/step - loss: 0.3423 - accuracy: 0.8595\n",
      "235/235 [==============================] - 2s 7ms/step - loss: 0.3423 - accuracy: 0.8595\n",
      "Epoch 24/50\n",
      "Epoch 24/50\n",
      "Epoch 24/50\n",
      "Epoch 24/50\n",
      "235/235 [==============================] - 2s 7ms/step - loss: 0.3421 - accuracy: 0.8592\n",
      "235/235 [==============================] - 2s 7ms/step - loss: 0.3421 - accuracy: 0.8592\n",
      "235/235 [==============================] - 2s 7ms/step - loss: 0.3421 - accuracy: 0.8592\n",
      "235/235 [==============================] - 2s 7ms/step - loss: 0.3421 - accuracy: 0.8592\n",
      "Epoch 25/50\n",
      "Epoch 25/50\n",
      "Epoch 25/50\n",
      "Epoch 25/50\n",
      "235/235 [==============================] - 1s 6ms/step - loss: 0.3417 - accuracy: 0.8589\n",
      "235/235 [==============================] - 1s 6ms/step - loss: 0.3417 - accuracy: 0.8589\n",
      "235/235 [==============================] - 1s 6ms/step - loss: 0.3417 - accuracy: 0.8589\n",
      "235/235 [==============================] - 1s 6ms/step - loss: 0.3417 - accuracy: 0.8589\n",
      "Epoch 26/50\n",
      "Epoch 26/50\n",
      "Epoch 26/50\n",
      "Epoch 26/50\n",
      "235/235 [==============================] - 2s 6ms/step - loss: 0.3409 - accuracy: 0.8603\n",
      "235/235 [==============================] - 2s 6ms/step - loss: 0.3409 - accuracy: 0.8603\n",
      "235/235 [==============================] - 2s 6ms/step - loss: 0.3409 - accuracy: 0.8603\n",
      "235/235 [==============================] - 2s 6ms/step - loss: 0.3409 - accuracy: 0.8603\n",
      "Epoch 27/50\n",
      "Epoch 27/50\n",
      "Epoch 27/50\n",
      "Epoch 27/50\n",
      "235/235 [==============================] - 1s 6ms/step - loss: 0.3405 - accuracy: 0.8588\n",
      "235/235 [==============================] - 1s 6ms/step - loss: 0.3405 - accuracy: 0.8588\n",
      "235/235 [==============================] - 1s 6ms/step - loss: 0.3405 - accuracy: 0.8588\n",
      "235/235 [==============================] - 1s 6ms/step - loss: 0.3405 - accuracy: 0.8588\n",
      "Epoch 28/50\n",
      "Epoch 28/50\n",
      "Epoch 28/50\n",
      "Epoch 28/50\n",
      "235/235 [==============================] - 1s 5ms/step - loss: 0.3403 - accuracy: 0.8593\n",
      "235/235 [==============================] - 1s 5ms/step - loss: 0.3403 - accuracy: 0.8593\n",
      "235/235 [==============================] - 1s 5ms/step - loss: 0.3403 - accuracy: 0.8593\n",
      "235/235 [==============================] - 1s 5ms/step - loss: 0.3403 - accuracy: 0.8593\n",
      "Epoch 29/50\n",
      "Epoch 29/50\n",
      "Epoch 29/50\n",
      "Epoch 29/50\n",
      "235/235 [==============================] - 1s 6ms/step - loss: 0.3399 - accuracy: 0.8595\n",
      "235/235 [==============================] - 1s 6ms/step - loss: 0.3399 - accuracy: 0.8595\n",
      "235/235 [==============================] - 1s 6ms/step - loss: 0.3399 - accuracy: 0.8595\n",
      "235/235 [==============================] - 1s 6ms/step - loss: 0.3399 - accuracy: 0.8595\n",
      "Epoch 30/50\n",
      "Epoch 30/50\n",
      "Epoch 30/50\n",
      "Epoch 30/50\n",
      "235/235 [==============================] - 1s 6ms/step - loss: 0.3398 - accuracy: 0.8613\n",
      "235/235 [==============================] - 1s 6ms/step - loss: 0.3398 - accuracy: 0.8613\n",
      "235/235 [==============================] - 1s 6ms/step - loss: 0.3398 - accuracy: 0.8613\n",
      "235/235 [==============================] - 1s 6ms/step - loss: 0.3398 - accuracy: 0.8613\n",
      "Epoch 31/50\n",
      "Epoch 31/50\n",
      "Epoch 31/50\n",
      "Epoch 31/50\n",
      "235/235 [==============================] - 1s 6ms/step - loss: 0.3393 - accuracy: 0.8604\n",
      "235/235 [==============================] - 1s 6ms/step - loss: 0.3393 - accuracy: 0.8604\n",
      "235/235 [==============================] - 1s 6ms/step - loss: 0.3393 - accuracy: 0.8604\n",
      "235/235 [==============================] - 1s 6ms/step - loss: 0.3393 - accuracy: 0.8604\n",
      "Epoch 32/50\n",
      "Epoch 32/50\n",
      "Epoch 32/50\n",
      "Epoch 32/50\n",
      "235/235 [==============================] - 1s 5ms/step - loss: 0.3390 - accuracy: 0.8607\n",
      "235/235 [==============================] - 1s 5ms/step - loss: 0.3390 - accuracy: 0.8607\n",
      "235/235 [==============================] - 1s 5ms/step - loss: 0.3390 - accuracy: 0.8607\n",
      "235/235 [==============================] - 1s 5ms/step - loss: 0.3390 - accuracy: 0.8607\n",
      "Epoch 33/50\n",
      "Epoch 33/50\n",
      "Epoch 33/50\n",
      "Epoch 33/50\n",
      "235/235 [==============================] - 1s 6ms/step - loss: 0.3388 - accuracy: 0.8607\n",
      "235/235 [==============================] - 1s 6ms/step - loss: 0.3388 - accuracy: 0.8607\n",
      "235/235 [==============================] - 1s 6ms/step - loss: 0.3388 - accuracy: 0.8607\n",
      "235/235 [==============================] - 1s 6ms/step - loss: 0.3388 - accuracy: 0.8607\n",
      "Epoch 34/50\n",
      "Epoch 34/50\n",
      "Epoch 34/50\n",
      "  1/235 [..............................] - ETA: 2s - loss: 0.1656 - accuracy: 0.9688Epoch 34/50\n",
      "235/235 [==============================] - 1s 6ms/step - loss: 0.3383 - accuracy: 0.8608\n",
      "235/235 [==============================] - 1s 6ms/step - loss: 0.3383 - accuracy: 0.8608\n",
      "235/235 [==============================] - 1s 6ms/step - loss: 0.3383 - accuracy: 0.8608\n",
      "235/235 [==============================] - 1s 6ms/step - loss: 0.3383 - accuracy: 0.8608\n",
      "Epoch 35/50\n",
      "Epoch 35/50\n",
      "Epoch 35/50\n",
      "Epoch 35/50\n",
      "235/235 [==============================] - 1s 4ms/step - loss: 0.3382 - accuracy: 0.8621\n",
      "235/235 [==============================] - 1s 4ms/step - loss: 0.3382 - accuracy: 0.8621\n",
      "235/235 [==============================] - 1s 4ms/step - loss: 0.3382 - accuracy: 0.8621\n",
      "235/235 [==============================] - 1s 4ms/step - loss: 0.3382 - accuracy: 0.8621\n",
      "Epoch 36/50\n",
      "Epoch 36/50\n",
      "Epoch 36/50\n",
      "Epoch 36/50\n",
      "235/235 [==============================] - 1s 5ms/step - loss: 0.3378 - accuracy: 0.8612\n",
      "235/235 [==============================] - 1s 5ms/step - loss: 0.3378 - accuracy: 0.8612\n",
      "235/235 [==============================] - 1s 5ms/step - loss: 0.3378 - accuracy: 0.8612\n",
      "235/235 [==============================] - 1s 5ms/step - loss: 0.3378 - accuracy: 0.8612\n",
      "Epoch 37/50\n",
      "Epoch 37/50\n",
      "Epoch 37/50\n",
      "Epoch 37/50\n",
      "235/235 [==============================] - 1s 6ms/step - loss: 0.3381 - accuracy: 0.8616\n",
      "235/235 [==============================] - 1s 6ms/step - loss: 0.3381 - accuracy: 0.8616\n",
      "235/235 [==============================] - 1s 6ms/step - loss: 0.3381 - accuracy: 0.8616\n",
      "235/235 [==============================] - 1s 6ms/step - loss: 0.3381 - accuracy: 0.8616\n",
      "Epoch 38/50\n",
      "Epoch 38/50\n",
      "  1/235 [..............................] - ETA: 1s - loss: 0.4230 - accuracy: 0.8438Epoch 38/50\n",
      "  1/235 [..............................] - ETA: 1s - loss: 0.4230 - accuracy: 0.8438Epoch 38/50\n",
      "235/235 [==============================] - 1s 6ms/step - loss: 0.3380 - accuracy: 0.8617\n",
      "235/235 [==============================] - 1s 6ms/step - loss: 0.3380 - accuracy: 0.8617\n",
      "235/235 [==============================] - 1s 6ms/step - loss: 0.3380 - accuracy: 0.8617\n",
      "235/235 [==============================] - 1s 6ms/step - loss: 0.3380 - accuracy: 0.8617\n",
      "Epoch 39/50\n",
      "Epoch 39/50\n",
      "Epoch 39/50\n",
      "  1/235 [..............................] - ETA: 2s - loss: 0.3324 - accuracy: 0.9062Epoch 39/50\n",
      "235/235 [==============================] - 1s 6ms/step - loss: 0.3378 - accuracy: 0.8611\n",
      "235/235 [==============================] - 1s 6ms/step - loss: 0.3378 - accuracy: 0.8611\n",
      "235/235 [==============================] - 1s 6ms/step - loss: 0.3378 - accuracy: 0.8611\n",
      "235/235 [==============================] - 1s 6ms/step - loss: 0.3378 - accuracy: 0.8611\n"
     ]
    },
    {
     "name": "stdout",
     "output_type": "stream",
     "text": [
      "Epoch 40/50\n",
      "Epoch 40/50\n",
      "Epoch 40/50\n",
      "  1/235 [..............................] - ETA: 2s - loss: 0.2794 - accuracy: 0.8750Epoch 40/50\n",
      "235/235 [==============================] - 1s 6ms/step - loss: 0.3377 - accuracy: 0.8627\n",
      "235/235 [==============================] - 1s 6ms/step - loss: 0.3377 - accuracy: 0.8627\n",
      "235/235 [==============================] - 1s 6ms/step - loss: 0.3377 - accuracy: 0.8627\n",
      "235/235 [==============================] - 1s 6ms/step - loss: 0.3377 - accuracy: 0.8627\n",
      "Epoch 41/50\n",
      "Epoch 41/50\n",
      "Epoch 41/50\n",
      "Epoch 41/50\n",
      "235/235 [==============================] - 1s 6ms/step - loss: 0.3373 - accuracy: 0.8620\n",
      "235/235 [==============================] - 1s 6ms/step - loss: 0.3373 - accuracy: 0.8620\n",
      "235/235 [==============================] - 1s 6ms/step - loss: 0.3373 - accuracy: 0.8620\n",
      "235/235 [==============================] - 1s 6ms/step - loss: 0.3373 - accuracy: 0.8620\n",
      "Epoch 42/50\n",
      "Epoch 42/50\n",
      "Epoch 42/50\n",
      "Epoch 42/50\n",
      "235/235 [==============================] - 1s 6ms/step - loss: 0.3368 - accuracy: 0.8624\n",
      "235/235 [==============================] - 1s 6ms/step - loss: 0.3368 - accuracy: 0.8624\n",
      "235/235 [==============================] - 1s 6ms/step - loss: 0.3368 - accuracy: 0.8624\n",
      "235/235 [==============================] - 1s 6ms/step - loss: 0.3368 - accuracy: 0.8624\n",
      "Epoch 43/50\n",
      "Epoch 43/50\n",
      "Epoch 43/50\n",
      "Epoch 43/50\n",
      "235/235 [==============================] - 1s 6ms/step - loss: 0.3370 - accuracy: 0.8605\n",
      "235/235 [==============================] - 1s 6ms/step - loss: 0.3370 - accuracy: 0.8605\n",
      "235/235 [==============================] - 1s 6ms/step - loss: 0.3370 - accuracy: 0.8605\n",
      "235/235 [==============================] - 1s 6ms/step - loss: 0.3370 - accuracy: 0.8605\n",
      "Epoch 44/50\n",
      "Epoch 44/50\n",
      "Epoch 44/50\n",
      "Epoch 44/50\n",
      "235/235 [==============================] - 2s 7ms/step - loss: 0.3366 - accuracy: 0.8609\n",
      "235/235 [==============================] - 2s 7ms/step - loss: 0.3366 - accuracy: 0.8609\n",
      "235/235 [==============================] - 2s 7ms/step - loss: 0.3366 - accuracy: 0.8609\n",
      "235/235 [==============================] - 2s 7ms/step - loss: 0.3366 - accuracy: 0.8609\n",
      "Epoch 45/50\n",
      "Epoch 45/50\n",
      "Epoch 45/50\n",
      "Epoch 45/50\n",
      "235/235 [==============================] - 2s 7ms/step - loss: 0.3364 - accuracy: 0.8615\n",
      "235/235 [==============================] - 2s 7ms/step - loss: 0.3364 - accuracy: 0.8615\n",
      "235/235 [==============================] - 2s 7ms/step - loss: 0.3364 - accuracy: 0.8615\n",
      "235/235 [==============================] - 2s 7ms/step - loss: 0.3364 - accuracy: 0.8615\n",
      "Epoch 46/50\n",
      "Epoch 46/50\n",
      "Epoch 46/50\n",
      "Epoch 46/50\n",
      "235/235 [==============================] - 1s 6ms/step - loss: 0.3364 - accuracy: 0.8612\n",
      "235/235 [==============================] - 1s 6ms/step - loss: 0.3364 - accuracy: 0.8612\n",
      "235/235 [==============================] - 1s 6ms/step - loss: 0.3364 - accuracy: 0.8612\n",
      "235/235 [==============================] - 1s 6ms/step - loss: 0.3364 - accuracy: 0.8612\n",
      "Epoch 47/50\n",
      "Epoch 47/50\n",
      "Epoch 47/50\n",
      "Epoch 47/50\n",
      "235/235 [==============================] - 1s 6ms/step - loss: 0.3364 - accuracy: 0.8615\n",
      "235/235 [==============================] - 1s 6ms/step - loss: 0.3364 - accuracy: 0.8615\n",
      "235/235 [==============================] - 1s 6ms/step - loss: 0.3364 - accuracy: 0.8615\n",
      "235/235 [==============================] - 1s 6ms/step - loss: 0.3364 - accuracy: 0.8615\n",
      "Epoch 48/50\n",
      "Epoch 48/50\n",
      "Epoch 48/50\n",
      "Epoch 48/50\n",
      "235/235 [==============================] - 1s 6ms/step - loss: 0.3361 - accuracy: 0.8616\n",
      "235/235 [==============================] - 1s 6ms/step - loss: 0.3361 - accuracy: 0.8616\n",
      "235/235 [==============================] - 1s 6ms/step - loss: 0.3361 - accuracy: 0.8616\n",
      "235/235 [==============================] - 1s 6ms/step - loss: 0.3361 - accuracy: 0.8616\n",
      "Epoch 49/50\n",
      "Epoch 49/50\n",
      "Epoch 49/50\n",
      "Epoch 49/50\n",
      "235/235 [==============================] - 1s 6ms/step - loss: 0.3360 - accuracy: 0.8613\n",
      "235/235 [==============================] - 1s 6ms/step - loss: 0.3360 - accuracy: 0.8613\n",
      "235/235 [==============================] - 1s 6ms/step - loss: 0.3360 - accuracy: 0.8613\n",
      "235/235 [==============================] - 1s 6ms/step - loss: 0.3360 - accuracy: 0.8613\n",
      "Epoch 50/50\n",
      "Epoch 50/50\n",
      "Epoch 50/50\n",
      "Epoch 50/50\n",
      "235/235 [==============================] - 1s 6ms/step - loss: 0.3359 - accuracy: 0.8605\n",
      "235/235 [==============================] - 1s 6ms/step - loss: 0.3359 - accuracy: 0.8605\n",
      "235/235 [==============================] - 1s 6ms/step - loss: 0.3359 - accuracy: 0.8605\n",
      "235/235 [==============================] - 1s 6ms/step - loss: 0.3359 - accuracy: 0.8605\n"
     ]
    },
    {
     "data": {
      "text/plain": [
       "<keras.callbacks.History at 0x24d7313f820>"
      ]
     },
     "execution_count": 13,
     "metadata": {},
     "output_type": "execute_result"
    },
    {
     "data": {
      "text/plain": [
       "<keras.callbacks.History at 0x24d7313f820>"
      ]
     },
     "execution_count": 13,
     "metadata": {},
     "output_type": "execute_result"
    },
    {
     "data": {
      "text/plain": [
       "<keras.callbacks.History at 0x24d7313f820>"
      ]
     },
     "execution_count": 13,
     "metadata": {},
     "output_type": "execute_result"
    },
    {
     "data": {
      "text/plain": [
       "<keras.callbacks.History at 0x24d7313f820>"
      ]
     },
     "execution_count": 13,
     "metadata": {},
     "output_type": "execute_result"
    }
   ],
   "source": [
    "ann.fit(X_train, y_train, batch_size = 32, epochs = 50)"
   ]
  },
  {
   "cell_type": "markdown",
   "id": "abc4d85b",
   "metadata": {},
   "source": [
    "### Prediction and Performance Evaluation"
   ]
  },
  {
   "cell_type": "markdown",
   "id": "f2267bbf",
   "metadata": {},
   "source": [
    "#### Predicting the test set"
   ]
  },
  {
   "cell_type": "code",
   "execution_count": 16,
   "id": "afb5a00d",
   "metadata": {
    "scrolled": false
   },
   "outputs": [
    {
     "name": "stdout",
     "output_type": "stream",
     "text": [
      "79/79 [==============================] - 0s 3ms/step\n",
      "79/79 [==============================] - 0s 3ms/step\n",
      "79/79 [==============================] - 0s 3ms/step\n",
      "79/79 [==============================] - 0s 3ms/step\n"
     ]
    }
   ],
   "source": [
    "y_pred = ann.predict(X_test) > 0.5"
   ]
  },
  {
   "cell_type": "markdown",
   "id": "f80af351",
   "metadata": {},
   "source": [
    "#### Confusion Matrix "
   ]
  },
  {
   "cell_type": "code",
   "execution_count": 20,
   "id": "c8192260",
   "metadata": {},
   "outputs": [
    {
     "name": "stdout",
     "output_type": "stream",
     "text": [
      "[[1918   85]\n",
      " [ 248  249]]\n"
     ]
    },
    {
     "data": {
      "text/plain": [
       "0.8668"
      ]
     },
     "execution_count": 20,
     "metadata": {},
     "output_type": "execute_result"
    },
    {
     "name": "stdout",
     "output_type": "stream",
     "text": [
      "[[1918   85]\n",
      " [ 248  249]]\n"
     ]
    },
    {
     "data": {
      "text/plain": [
       "0.8668"
      ]
     },
     "execution_count": 20,
     "metadata": {},
     "output_type": "execute_result"
    },
    {
     "name": "stdout",
     "output_type": "stream",
     "text": [
      "[[1918   85]\n",
      " [ 248  249]]\n"
     ]
    },
    {
     "data": {
      "text/plain": [
       "0.8668"
      ]
     },
     "execution_count": 20,
     "metadata": {},
     "output_type": "execute_result"
    },
    {
     "name": "stdout",
     "output_type": "stream",
     "text": [
      "[[1918   85]\n",
      " [ 248  249]]\n"
     ]
    },
    {
     "data": {
      "text/plain": [
       "0.8668"
      ]
     },
     "execution_count": 20,
     "metadata": {},
     "output_type": "execute_result"
    }
   ],
   "source": [
    "from sklearn.metrics import confusion_matrix, accuracy_score\n",
    "matrix = confusion_matrix(y_test, y_pred)\n",
    "score = accuracy_score(y_test, y_pred)\n",
    "print(matrix)\n",
    "score"
   ]
  },
  {
   "cell_type": "markdown",
   "id": "06e6ba1f",
   "metadata": {},
   "source": [
    "#### Predicting Single value"
   ]
  },
  {
   "cell_type": "code",
   "execution_count": 23,
   "id": "69a1e26a",
   "metadata": {},
   "outputs": [
    {
     "name": "stdout",
     "output_type": "stream",
     "text": [
      "1/1 [==============================] - 0s 52ms/step\n",
      "1/1 [==============================] - 0s 52ms/step\n",
      "1/1 [==============================] - 0s 52ms/step\n",
      "1/1 [==============================] - 0s 52ms/step\n"
     ]
    },
    {
     "data": {
      "text/plain": [
       "array([[False]])"
      ]
     },
     "execution_count": 23,
     "metadata": {},
     "output_type": "execute_result"
    },
    {
     "data": {
      "text/plain": [
       "array([[False]])"
      ]
     },
     "execution_count": 23,
     "metadata": {},
     "output_type": "execute_result"
    },
    {
     "data": {
      "text/plain": [
       "array([[False]])"
      ]
     },
     "execution_count": 23,
     "metadata": {},
     "output_type": "execute_result"
    },
    {
     "data": {
      "text/plain": [
       "array([[False]])"
      ]
     },
     "execution_count": 23,
     "metadata": {},
     "output_type": "execute_result"
    }
   ],
   "source": [
    "ann.predict(sc.transform([[1.0, 0.0, 0.0, 600, 1, 40, 3, 60000.0, 2, 1, 1, 50000.0]])) > 0.5"
   ]
  }
 ],
 "metadata": {
  "kernelspec": {
   "display_name": "Python 3 (ipykernel)",
   "language": "python",
   "name": "python3"
  },
  "language_info": {
   "codemirror_mode": {
    "name": "ipython",
    "version": 3
   },
   "file_extension": ".py",
   "mimetype": "text/x-python",
   "name": "python",
   "nbconvert_exporter": "python",
   "pygments_lexer": "ipython3",
   "version": "3.9.13"
  }
 },
 "nbformat": 4,
 "nbformat_minor": 5
}
